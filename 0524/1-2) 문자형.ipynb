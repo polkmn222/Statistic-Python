{
 "cells": [
  {
   "cell_type": "markdown",
   "id": "df041336",
   "metadata": {},
   "source": [
    "# 1. 문자열 생성방법"
   ]
  },
  {
   "cell_type": "code",
   "execution_count": 2,
   "id": "1dd67ef3",
   "metadata": {},
   "outputs": [
    {
     "data": {
      "text/plain": [
       "'Life is too short, you need python'"
      ]
     },
     "execution_count": 2,
     "metadata": {},
     "output_type": "execute_result"
    }
   ],
   "source": [
    "# 첫번째 방법\n",
    "\n",
    "\"Life is too short, you need python\""
   ]
  },
  {
   "cell_type": "code",
   "execution_count": 4,
   "id": "e72fbefe",
   "metadata": {},
   "outputs": [
    {
     "data": {
      "text/plain": [
       "'Life is too short, you need python'"
      ]
     },
     "execution_count": 4,
     "metadata": {},
     "output_type": "execute_result"
    }
   ],
   "source": [
    "# 두번째 방법\n",
    "'Life is too short, you need python'"
   ]
  },
  {
   "cell_type": "code",
   "execution_count": 5,
   "id": "770ab3e8",
   "metadata": {},
   "outputs": [
    {
     "data": {
      "text/plain": [
       "'Life is too short, you need python'"
      ]
     },
     "execution_count": 5,
     "metadata": {},
     "output_type": "execute_result"
    }
   ],
   "source": [
    "# 세번째 방법\n",
    "\"\"\"Life is too short, you need python\"\"\""
   ]
  },
  {
   "cell_type": "code",
   "execution_count": 6,
   "id": "a9b04fa7",
   "metadata": {},
   "outputs": [
    {
     "data": {
      "text/plain": [
       "'Life is too short, you need python'"
      ]
     },
     "execution_count": 6,
     "metadata": {},
     "output_type": "execute_result"
    }
   ],
   "source": [
    "# 네번째 방법\n",
    "'''Life is too short, you need python'''"
   ]
  },
  {
   "cell_type": "code",
   "execution_count": 7,
   "id": "a97794e6",
   "metadata": {},
   "outputs": [
    {
     "data": {
      "text/plain": [
       "'python`s favorite food is perl'"
      ]
     },
     "execution_count": 7,
     "metadata": {},
     "output_type": "execute_result"
    }
   ],
   "source": [
    "# 첫번째 방법의 오류로\n",
    "# 두번째 방법을 개발\n",
    "\"python`s favorite food is perl\""
   ]
  },
  {
   "cell_type": "code",
   "execution_count": 9,
   "id": "7050b103",
   "metadata": {},
   "outputs": [
    {
     "name": "stdout",
     "output_type": "stream",
     "text": [
      "\"I like him\" set says.\n"
     ]
    }
   ],
   "source": [
    "# 두번째 방법의 오류로\n",
    "# 첫번째 방법을 개발\n",
    "print('\"I like him\" set says.')"
   ]
  },
  {
   "cell_type": "code",
   "execution_count": 10,
   "id": "d5c3e40e",
   "metadata": {},
   "outputs": [
    {
     "data": {
      "text/plain": [
       "'현재 온도는 17도입니다.'"
      ]
     },
     "execution_count": 10,
     "metadata": {},
     "output_type": "execute_result"
    }
   ],
   "source": [
    "# 포메팅 방법\n",
    "\"현재 온도는 30도입니다.\"\n",
    "\"현재 온도는 17도입니다.\""
   ]
  },
  {
   "cell_type": "code",
   "execution_count": 11,
   "id": "db478dfb",
   "metadata": {},
   "outputs": [
    {
     "data": {
      "text/plain": [
       "'현재 온도는 30도입니다'"
      ]
     },
     "execution_count": 11,
     "metadata": {},
     "output_type": "execute_result"
    }
   ],
   "source": [
    "\"현재 온도는 %d도입니다\" % 30"
   ]
  }
 ],
 "metadata": {
  "kernelspec": {
   "display_name": "Python 3 (ipykernel)",
   "language": "python",
   "name": "python3"
  },
  "language_info": {
   "codemirror_mode": {
    "name": "ipython",
    "version": 3
   },
   "file_extension": ".py",
   "mimetype": "text/x-python",
   "name": "python",
   "nbconvert_exporter": "python",
   "pygments_lexer": "ipython3",
   "version": "3.9.7"
  }
 },
 "nbformat": 4,
 "nbformat_minor": 5
}
