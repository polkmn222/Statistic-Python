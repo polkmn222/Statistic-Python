{
 "cells": [
  {
   "cell_type": "code",
   "execution_count": 7,
   "id": "e6462642",
   "metadata": {
    "pycharm": {
     "name": "#%%\n"
    }
   },
   "outputs": [],
   "source": [
    "import pandas as pd\n",
    "\n",
    "body_df = pd.read_csv('./body.csv')"
   ]
  },
  {
   "cell_type": "code",
   "execution_count": 8,
   "id": "5a4a9ea1",
   "metadata": {
    "pycharm": {
     "name": "#%%\n"
    }
   },
   "outputs": [],
   "source": [
    "# Q1. 전체데이터의 수축기혈압(최고) -  이완기혈압(최저)의 평균을 구해보세요."
   ]
  },
  {
   "cell_type": "code",
   "execution_count": 24,
   "id": "b73141c8",
   "metadata": {
    "pycharm": {
     "name": "#%%\n"
    }
   },
   "outputs": [
    {
     "name": "stdout",
     "output_type": "stream",
     "text": [
      "52.19539414750672\n"
     ]
    }
   ],
   "source": [
    "result = (body_df['수축기혈압(최고) : mmHg']-body_df['이완기혈압(최저) : mmHg']).mean()\n",
    "print(result)"
   ]
  },
  {
   "cell_type": "code",
   "execution_count": 9,
   "id": "3daff44f",
   "metadata": {
    "pycharm": {
     "name": "#%%\n"
    }
   },
   "outputs": [],
   "source": [
    "# Q2. 50~59세의 신장평균을 구해보세요 "
   ]
  },
  {
   "cell_type": "code",
   "execution_count": 32,
   "id": "a2cc25a9",
   "metadata": {
    "pycharm": {
     "name": "#%%\n"
    }
   },
   "outputs": [
    {
     "name": "stdout",
     "output_type": "stream",
     "text": [
      "164.07490107405295\n"
     ]
    }
   ],
   "source": [
    "average_height = body_df[(body_df['측정나이']<60)&(body_df['측정나이']>=50)].iloc[:,3].mean()\n",
    "print(average_height)"
   ]
  },
  {
   "cell_type": "code",
   "execution_count": 33,
   "id": "e67077ca",
   "metadata": {
    "pycharm": {
     "name": "#%%\n"
    }
   },
   "outputs": [],
   "source": [
    "# Q3. 연령대 (20~29:20대 \n",
    "#              30~39: 30대)등 각 연령대별 인원수를 구해보세요 "
   ]
  },
  {
   "cell_type": "code",
   "execution_count": 38,
   "id": "639804c0",
   "metadata": {
    "pycharm": {
     "name": "#%%\n"
    }
   },
   "outputs": [
    {
     "data": {
      "text/plain": [
       "20.0    5831\n",
       "30.0    2660\n",
       "40.0    1801\n",
       "50.0    1769\n",
       "60.0    1335\n",
       "Name: 연령대, dtype: int64"
      ]
     },
     "execution_count": 38,
     "metadata": {},
     "output_type": "execute_result"
    }
   ],
   "source": [
    "body_df['연령대'] = body_df.측정나이 //10 * 10 \n",
    "body_df['연령대'].value_counts()"
   ]
  },
  {
   "cell_type": "code",
   "execution_count": 39,
   "id": "985092dc",
   "metadata": {
    "pycharm": {
     "name": "#%%\n"
    }
   },
   "outputs": [],
   "source": [
    "# Q4. 남성 중 A등급과 D등급의 체지방률 평균의 차이(큰 값에서 작은 값의 차)를 구해보세요."
   ]
  },
  {
   "cell_type": "code",
   "execution_count": 46,
   "id": "9308ebac",
   "metadata": {
    "pycharm": {
     "name": "#%%\n"
    }
   },
   "outputs": [
    {
     "data": {
      "text/plain": [
       "7.932086486137457"
      ]
     },
     "execution_count": 46,
     "metadata": {},
     "output_type": "execute_result"
    }
   ],
   "source": [
    "import numpy as np\n",
    "\n",
    "\n",
    "A_grade = body_df[(body_df.측정회원성별 == 'M') & (body_df.등급 == 'A')].iloc[:,5].mean()\n",
    "D_grade = body_df[(body_df.측정회원성별 == 'M') & (body_df.등급 == 'D')].iloc[:,5].mean()\n",
    "\n",
    "np.abs(A_grade - D_grade)"
   ]
  },
  {
   "cell_type": "code",
   "execution_count": 12,
   "id": "b430e211",
   "metadata": {
    "pycharm": {
     "name": "#%%\n"
    }
   },
   "outputs": [],
   "source": [
    "# Q5. 여성 중 A등급과 D등급의 체지방률 평균의 차이(큰 값에서 작은 값의 차)를 구해보세요."
   ]
  },
  {
   "cell_type": "code",
   "execution_count": 47,
   "id": "e0a6de2d",
   "metadata": {
    "pycharm": {
     "name": "#%%\n"
    }
   },
   "outputs": [
    {
     "data": {
      "text/plain": [
       "8.31841107075472"
      ]
     },
     "execution_count": 47,
     "metadata": {},
     "output_type": "execute_result"
    }
   ],
   "source": [
    "import numpy as np\n",
    "\n",
    "\n",
    "A_grade = body_df[(body_df.측정회원성별 == 'F') & (body_df.등급 == 'A')].iloc[:,5].mean()\n",
    "D_grade = body_df[(body_df.측정회원성별 == 'F') & (body_df.등급 == 'D')].iloc[:,5].mean()\n",
    "\n",
    "np.abs(A_grade - D_grade)"
   ]
  },
  {
   "cell_type": "code",
   "execution_count": 13,
   "id": "3ed27250",
   "metadata": {
    "pycharm": {
     "name": "#%%\n"
    }
   },
   "outputs": [],
   "source": [
    "# Q6 bmi는 자신의 몸무게(kg)를 키의 제곱(m)으로 나눈 값입니다. 데이터의 bmi를 구한 새로운\n",
    "# 컬럼을 만들고 남성과 여성의 bmi 평균을 구해보세요."
   ]
  },
  {
   "cell_type": "code",
   "execution_count": 62,
   "id": "df716477",
   "metadata": {
    "pycharm": {
     "name": "#%%\n"
    }
   },
   "outputs": [
    {
     "name": "stdout",
     "output_type": "stream",
     "text": [
      "남성 평균: 24.461344098193027\n",
      "여성 평균: 22.073624336501073\n"
     ]
    }
   ],
   "source": [
    "height_squared = (body_df['신장 : cm']/100)**2 # m 단위므로 cm를 /100으로 나누어 줍니다.\n",
    "bmi = body_df['체중 : kg']/height_squared\n",
    "\n",
    "body_df['bmi'] = bmi\n",
    "\n",
    "male_average = body_df[body_df['측정회원성별'] == 'M'].bmi.mean()\n",
    "female_average = body_df[body_df['측정회원성별'] == 'F'].bmi.mean()\n",
    "\n",
    "print('남성 평균:', male_average)\n",
    "print('여성 평균:', female_average)"
   ]
  },
  {
   "cell_type": "code",
   "execution_count": 14,
   "id": "9ba28a1a",
   "metadata": {
    "pycharm": {
     "name": "#%%\n"
    }
   },
   "outputs": [],
   "source": [
    "# Q7 bmi보다 체지방률이 높은 사람들의 체중 평균을 구해보세요."
   ]
  },
  {
   "cell_type": "code",
   "execution_count": 68,
   "id": "7ecf5d68",
   "metadata": {
    "pycharm": {
     "name": "#%%\n"
    }
   },
   "outputs": [
    {
     "name": "stdout",
     "output_type": "stream",
     "text": [
      "67.42705210510647\n"
     ]
    }
   ],
   "source": [
    "answer = body_df[(body_df['bmi']<body_df['체중 : kg'])]['체중 : kg'].mean()\n",
    "print(answer)"
   ]
  },
  {
   "cell_type": "code",
   "execution_count": 15,
   "id": "bba14188",
   "metadata": {
    "pycharm": {
     "name": "#%%\n"
    }
   },
   "outputs": [],
   "source": [
    "# Q8 남성과 여성의 악력 평균의 차이를 구해보세요."
   ]
  },
  {
   "cell_type": "code",
   "execution_count": 76,
   "id": "75864453",
   "metadata": {
    "pycharm": {
     "name": "#%%\n"
    }
   },
   "outputs": [
    {
     "data": {
      "text/plain": [
       "17.55954185047465"
      ]
     },
     "execution_count": 76,
     "metadata": {},
     "output_type": "execute_result"
    }
   ],
   "source": [
    "import numpy as np\n",
    "import pandas as pd\n",
    "\n",
    "male_average_grip = body_df[body_df.측정회원성별 == 'M']['악력D : kg'].mean()\n",
    "female_average_grip = body_df[body_df.측정회원성별 == 'F']['악력D : kg'].mean()\n",
    "\n",
    "np.abs(male_average_grip -  female_average_grip)\n",
    "\n",
    "### 또는\n",
    "\n",
    "result = body_df.groupby('측정회원성별')['악력D : kg'].mean()\n",
    "np.abs(result.M - result.F)"
   ]
  },
  {
   "cell_type": "code",
   "execution_count": 16,
   "id": "70bf6e52",
   "metadata": {
    "pycharm": {
     "name": "#%%\n"
    }
   },
   "outputs": [],
   "source": [
    "# Q9 남성과 여성의 교차 윗몸일으키기 횟수의 평균의 차이를 구해보세요. "
   ]
  },
  {
   "cell_type": "code",
   "execution_count": 77,
   "id": "5a2fe13f",
   "metadata": {
    "pycharm": {
     "name": "#%%\n"
    }
   },
   "outputs": [
    {
     "data": {
      "text/plain": [
       "14.243156833157627"
      ]
     },
     "execution_count": 77,
     "metadata": {},
     "output_type": "execute_result"
    }
   ],
   "source": [
    "result1 = body_df.groupby('측정회원성별')['교차윗몸일으키기 : 회'].mean()\n",
    "np.abs(result1.M - result1.F)"
   ]
  },
  {
   "cell_type": "code",
   "execution_count": 78,
   "id": "bfdec6fb",
   "metadata": {
    "pycharm": {
     "name": "#%%\n"
    }
   },
   "outputs": [],
   "source": [
    "# end of file"
   ]
  }
 ],
 "metadata": {
  "kernelspec": {
   "display_name": "Python 3 (ipykernel)",
   "language": "python",
   "name": "python3"
  },
  "language_info": {
   "codemirror_mode": {
    "name": "ipython",
    "version": 3
   },
   "file_extension": ".py",
   "mimetype": "text/x-python",
   "name": "python",
   "nbconvert_exporter": "python",
   "pygments_lexer": "ipython3",
   "version": "3.9.7"
  }
 },
 "nbformat": 4,
 "nbformat_minor": 5
}
