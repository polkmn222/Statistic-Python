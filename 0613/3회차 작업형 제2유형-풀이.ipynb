{
 "cells": [
  {
   "cell_type": "code",
   "execution_count": 12,
   "id": "b3ef5b93",
   "metadata": {
    "pycharm": {
     "name": "#%%\n"
    }
   },
   "outputs": [
    {
     "data": {
      "text/plain": "'C:\\\\Users\\\\user\\\\1P\\\\0613'"
     },
     "execution_count": 12,
     "metadata": {},
     "output_type": "execute_result"
    }
   ],
   "source": [
    "import os\n",
    "os.getcwd()"
   ]
  },
  {
   "cell_type": "code",
   "execution_count": 13,
   "id": "e006c302",
   "metadata": {
    "pycharm": {
     "name": "#%%\n"
    }
   },
   "outputs": [],
   "source": [
    "import pandas as pd\n",
    "import numpy as np"
   ]
  },
  {
   "cell_type": "code",
   "execution_count": 14,
   "id": "3edcbe98",
   "metadata": {
    "pycharm": {
     "name": "#%%\n"
    }
   },
   "outputs": [],
   "source": [
    "df_train = pd.read_csv('./datasets/datasets/part3/304_travel_insurance_train.csv') # X_train, y_train 함께  \n",
    "df_test = pd.read_csv('./datasets/datasets/part3/304_travel_insurance_test.csv')  # X_test "
   ]
  },
  {
   "cell_type": "code",
   "execution_count": 15,
   "id": "00d062b9",
   "metadata": {
    "pycharm": {
     "name": "#%%\n"
    }
   },
   "outputs": [
    {
     "name": "stdout",
     "output_type": "stream",
     "text": [
      "<class 'pandas.core.frame.DataFrame'>\n",
      "RangeIndex: 1490 entries, 0 to 1489\n",
      "Data columns (total 10 columns):\n",
      " #   Column               Non-Null Count  Dtype \n",
      "---  ------               --------------  ----- \n",
      " 0   ID                   1490 non-null   int64 \n",
      " 1   Age                  1490 non-null   int64 \n",
      " 2   Employment Type      1490 non-null   object\n",
      " 3   GraduateOrNot        1490 non-null   object\n",
      " 4   AnnualIncome         1490 non-null   int64 \n",
      " 5   FamilyMembers        1490 non-null   int64 \n",
      " 6   ChronicDiseases      1490 non-null   int64 \n",
      " 7   FrequentFlyer        1490 non-null   object\n",
      " 8   EverTravelledAbroad  1490 non-null   object\n",
      " 9   TravelInsurance      1490 non-null   int64 \n",
      "dtypes: int64(6), object(4)\n",
      "memory usage: 116.5+ KB\n"
     ]
    }
   ],
   "source": [
    "## df 정보 확인\n",
    "df_train.info()"
   ]
  },
  {
   "cell_type": "code",
   "execution_count": 16,
   "id": "5255bc7e",
   "metadata": {
    "pycharm": {
     "name": "#%%\n"
    }
   },
   "outputs": [
    {
     "data": {
      "text/plain": "     ID  Age               Employment Type GraduateOrNot  AnnualIncome  \\\n0  1569   27             Government Sector           Yes        500000   \n1  1344   25  Private Sector/Self Employed           Yes       1700000   \n2  1429   32             Government Sector           Yes        650000   \n3   896   33             Government Sector           Yes        600000   \n4   101   33  Private Sector/Self Employed           Yes       1500000   \n\n   FamilyMembers  ChronicDiseases FrequentFlyer EverTravelledAbroad  \n0              5                0            No                  No  \n1              3                0           Yes                  No  \n2              3                0            No                  No  \n3              4                0            No                  No  \n4              3                1           Yes                 Yes  ",
      "text/html": "<div>\n<style scoped>\n    .dataframe tbody tr th:only-of-type {\n        vertical-align: middle;\n    }\n\n    .dataframe tbody tr th {\n        vertical-align: top;\n    }\n\n    .dataframe thead th {\n        text-align: right;\n    }\n</style>\n<table border=\"1\" class=\"dataframe\">\n  <thead>\n    <tr style=\"text-align: right;\">\n      <th></th>\n      <th>ID</th>\n      <th>Age</th>\n      <th>Employment Type</th>\n      <th>GraduateOrNot</th>\n      <th>AnnualIncome</th>\n      <th>FamilyMembers</th>\n      <th>ChronicDiseases</th>\n      <th>FrequentFlyer</th>\n      <th>EverTravelledAbroad</th>\n    </tr>\n  </thead>\n  <tbody>\n    <tr>\n      <th>0</th>\n      <td>1569</td>\n      <td>27</td>\n      <td>Government Sector</td>\n      <td>Yes</td>\n      <td>500000</td>\n      <td>5</td>\n      <td>0</td>\n      <td>No</td>\n      <td>No</td>\n    </tr>\n    <tr>\n      <th>1</th>\n      <td>1344</td>\n      <td>25</td>\n      <td>Private Sector/Self Employed</td>\n      <td>Yes</td>\n      <td>1700000</td>\n      <td>3</td>\n      <td>0</td>\n      <td>Yes</td>\n      <td>No</td>\n    </tr>\n    <tr>\n      <th>2</th>\n      <td>1429</td>\n      <td>32</td>\n      <td>Government Sector</td>\n      <td>Yes</td>\n      <td>650000</td>\n      <td>3</td>\n      <td>0</td>\n      <td>No</td>\n      <td>No</td>\n    </tr>\n    <tr>\n      <th>3</th>\n      <td>896</td>\n      <td>33</td>\n      <td>Government Sector</td>\n      <td>Yes</td>\n      <td>600000</td>\n      <td>4</td>\n      <td>0</td>\n      <td>No</td>\n      <td>No</td>\n    </tr>\n    <tr>\n      <th>4</th>\n      <td>101</td>\n      <td>33</td>\n      <td>Private Sector/Self Employed</td>\n      <td>Yes</td>\n      <td>1500000</td>\n      <td>3</td>\n      <td>1</td>\n      <td>Yes</td>\n      <td>Yes</td>\n    </tr>\n  </tbody>\n</table>\n</div>"
     },
     "execution_count": 16,
     "metadata": {},
     "output_type": "execute_result"
    }
   ],
   "source": [
    "## X_train, y_train, X_test로 데이터를 재정의\n",
    "\n",
    "y_train = df_train['TravelInsurance'].copy()\n",
    "X_train = df_train.drop(['TravelInsurance'], axis=1)\n",
    "\n",
    "X_test = df_test.copy()\n",
    "X_test.head()"
   ]
  },
  {
   "cell_type": "code",
   "execution_count": 17,
   "id": "7996897b",
   "metadata": {
    "pycharm": {
     "name": "#%%\n"
    }
   },
   "outputs": [
    {
     "name": "stdout",
     "output_type": "stream",
     "text": [
      "X_train의 shape: (1490, 9)\n",
      "X_test의 shape: (497, 9)\n",
      "y_train의 shape: (1490,)\n"
     ]
    }
   ],
   "source": [
    "### 데이터 학습 전 train과 test 데이터의 shape을 확인한다.\n",
    "\n",
    "print('X_train의 shape:', X_train.shape)\n",
    "print('X_test의 shape:', X_test.shape)\n",
    "print('y_train의 shape:', y_train.shape)\n",
    "\n"
   ]
  },
  {
   "cell_type": "code",
   "execution_count": 18,
   "id": "f9b46a35",
   "metadata": {
    "pycharm": {
     "name": "#%%\n"
    }
   },
   "outputs": [
    {
     "data": {
      "text/plain": "ID                     0\nAge                    0\nEmployment Type        0\nGraduateOrNot          0\nAnnualIncome           0\nFamilyMembers          0\nChronicDiseases        0\nFrequentFlyer          0\nEverTravelledAbroad    0\ndtype: int64"
     },
     "execution_count": 18,
     "metadata": {},
     "output_type": "execute_result"
    }
   ],
   "source": [
    "### 결측치 확인 전\n",
    "### concat을 통해 \n",
    "### train과 test를 하나의 데이터로 통합\n",
    "\n",
    "X_all = pd.concat([X_train, X_test])\n",
    "X_all.isna().sum() # 결측치가 없다"
   ]
  },
  {
   "cell_type": "code",
   "execution_count": 19,
   "id": "20732af6",
   "metadata": {
    "pycharm": {
     "name": "#%%\n"
    }
   },
   "outputs": [
    {
     "data": {
      "text/plain": "Index(['Employment Type', 'GraduateOrNot', 'FrequentFlyer',\n       'EverTravelledAbroad'],\n      dtype='object')"
     },
     "execution_count": 19,
     "metadata": {},
     "output_type": "execute_result"
    }
   ],
   "source": [
    "X_all.select_dtypes(include='object').columns"
   ]
  },
  {
   "cell_type": "code",
   "execution_count": 20,
   "id": "6fe1c83c",
   "metadata": {
    "pycharm": {
     "name": "#%%\n"
    }
   },
   "outputs": [
    {
     "data": {
      "text/plain": "array([[0.1, 1. , 1. , ..., 1. , 0. , 1. ],\n       [0.3, 1. , 1. , ..., 1. , 0. , 0. ],\n       [0.8, 1. , 1. , ..., 0. , 0. , 1. ],\n       ...,\n       [0.4, 1. , 1. , ..., 0. , 0. , 0. ],\n       [0.5, 1. , 0. , ..., 0. , 1. , 0. ],\n       [0.3, 1. , 1. , ..., 0. , 0. , 0. ]])"
     },
     "execution_count": 20,
     "metadata": {},
     "output_type": "execute_result"
    }
   ],
   "source": [
    "### 문자를 --> 숫자로 변환... \n",
    "### 분류분석의 경우 :: Label Encoding의 형식 더 낫습니다\n",
    "\n",
    "from sklearn.preprocessing import LabelEncoder\n",
    "le = LabelEncoder()\n",
    "\n",
    "ftrs = ['Employment Type', 'GraduateOrNot', 'FrequentFlyer',\n",
    "       'EverTravelledAbroad']\n",
    "\n",
    "for ftr in ftrs:\n",
    "    X_all[ftr] = le.fit_transform(X_all[ftr])\n",
    "    \n",
    "### 불필요컬럼제거\n",
    "X_all_drop = X_all.drop(['ID'],axis=1)\n",
    "\n",
    "### MinMaxScaling\n",
    "from sklearn.preprocessing import MinMaxScaler\n",
    "mm_scaler = MinMaxScaler() #객체화\n",
    "X_all_fin = mm_scaler.fit_transform(X_all_drop) # 불필요속성이 제거된 후의 정규화\n",
    "X_all_fin # 결과값이 ndarray이므로 불필요컬럼을 미리 삭제하였습니다. \n"
   ]
  },
  {
   "cell_type": "code",
   "execution_count": 21,
   "id": "29dc3013",
   "metadata": {
    "pycharm": {
     "name": "#%%\n"
    }
   },
   "outputs": [
    {
     "name": "stdout",
     "output_type": "stream",
     "text": [
      "X_train_fin의 shape: (1490, 8)\n",
      "X_test_fin의 shape: (497, 8)\n",
      "y_train_fin의 shape: (1490,)\n"
     ]
    }
   ],
   "source": [
    "### 다시 X_train과 X_test로 분리\n",
    "X_train_fin = X_all_fin[:1490]\n",
    "X_test_fin = X_all_fin[1490:]\n",
    "\n",
    "y_train_fin = y_train.copy()\n",
    "y_train_fin.shape\n",
    "\n",
    "\n",
    "print('X_train_fin의 shape:', X_train_fin.shape)\n",
    "print('X_test_fin의 shape:', X_test_fin.shape)\n",
    "print('y_train_fin의 shape:', y_train_fin.shape)\n",
    "\n",
    "### 데이터 분할 train_test_split 활용\n",
    "from sklearn.model_selection import train_test_split\n",
    "xtrain, xval, ytrain, yval = train_test_split(X_train_fin, y_train_fin,\n",
    "                                             test_size = 0.2,\n",
    "                                             stratify = y_train_fin,\n",
    "                                             random_state=11)"
   ]
  },
  {
   "cell_type": "code",
   "execution_count": null,
   "outputs": [],
   "source": [
    "# break - 분석은 내일 이어서 해드리겠습니다 ^^"
   ],
   "metadata": {
    "collapsed": false,
    "pycharm": {
     "name": "#%%\n"
    }
   }
  }
 ],
 "metadata": {
  "kernelspec": {
   "display_name": "Python 3 (ipykernel)",
   "language": "python",
   "name": "python3"
  },
  "language_info": {
   "codemirror_mode": {
    "name": "ipython",
    "version": 3
   },
   "file_extension": ".py",
   "mimetype": "text/x-python",
   "name": "python",
   "nbconvert_exporter": "python",
   "pygments_lexer": "ipython3",
   "version": "3.9.7"
  }
 },
 "nbformat": 4,
 "nbformat_minor": 5
}