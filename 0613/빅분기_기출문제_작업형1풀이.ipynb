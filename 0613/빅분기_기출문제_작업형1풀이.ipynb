{
 "cells": [
  {
   "cell_type": "code",
   "execution_count": 1,
   "id": "ed0d9b5e",
   "metadata": {
    "pycharm": {
     "name": "#%%\n"
    }
   },
   "outputs": [],
   "source": [
    "# 01 다음은 California Housing 데이터 세트이다. 데이터 중 결측치가 있는 경우\n",
    "# 해당 데이터의 행을 모두 제거하고, \n",
    "# hint :: dropna라고하는 함수가 활용\n",
    "\n",
    "\n",
    "# 첫 번째 행부터 순서대로 70%까지의 데이터를\n",
    "# 훈련데이터로 추출한 데이터 세트를 구성한다.\n",
    "# 슬라이싱으로 쓰시되 슬라이싱은 int만 가능합니다.\n",
    "\n",
    "\n",
    "# 변수 중 ‘housing_median_age’의\n",
    "# Q1(제1사분위수)값을 정수로 계산하시오. \n",
    "# quantile # pandas\n",
    "# np.quantile # numpy"
   ]
  },
  {
   "cell_type": "code",
   "execution_count": 2,
   "id": "be5132c2",
   "metadata": {
    "pycharm": {
     "name": "#%%\n"
    }
   },
   "outputs": [
    {
     "name": "stdout",
     "output_type": "stream",
     "text": [
      "<class 'pandas.core.frame.DataFrame'>\n",
      "RangeIndex: 20640 entries, 0 to 20639\n",
      "Data columns (total 10 columns):\n",
      " #   Column              Non-Null Count  Dtype  \n",
      "---  ------              --------------  -----  \n",
      " 0   longitude           20640 non-null  float64\n",
      " 1   latitude            20640 non-null  float64\n",
      " 2   housing_median_age  20640 non-null  float64\n",
      " 3   total_rooms         20640 non-null  float64\n",
      " 4   total_bedrooms      20433 non-null  float64\n",
      " 5   population          20640 non-null  float64\n",
      " 6   households          20640 non-null  float64\n",
      " 7   median_income       20640 non-null  float64\n",
      " 8   median_house_value  20640 non-null  float64\n",
      " 9   ocean_proximity     20640 non-null  object \n",
      "dtypes: float64(9), object(1)\n",
      "memory usage: 1.6+ MB\n",
      "\n",
      " ### 원본 data의 수 : 20640\n",
      "\n",
      " ### 결측치 제거 후의 data의 수 : 20433\n",
      "1번문제의 답은: 19.0\n"
     ]
    }
   ],
   "source": [
    "import pandas as pd\n",
    "import numpy as np\n",
    "df = pd.read_csv('./datasets/datasets/part3/301_housing.csv')\n",
    "df.info()\n",
    "\n",
    "# 결측치 drop이 된 함수\n",
    "housing_drop_na = df.dropna(inplace=False)\n",
    "\n",
    "## 원본 data와 결측치 제거 후의 data를 비교한다.\n",
    "print('\\n ### 원본 data의 수 :', df.shape[0])\n",
    "print('\\n ### 결측치 제거 후의 data의 수 :', len(housing_drop_na))\n",
    "\n",
    "## housing_drop_na의 70%를 훈련데이터로 설정한다.\n",
    "train_data = housing_drop_na[:int(len(housing_drop_na)*0.7)]\n",
    "\n",
    "\n",
    "# # 변수 중 ‘housing_median_age’의\n",
    "# # Q1(제1사분위수)값을 정수로 계산하시오. \n",
    "# quantile # pandas\n",
    "# np.quantile # numpy\n",
    "\n",
    "Answer = np.quantile(train_data.housing_median_age, 0.25)\n",
    "print('1번문제의 답은:',Answer)"
   ]
  },
  {
   "cell_type": "code",
   "execution_count": 3,
   "id": "bd1bedd3",
   "metadata": {
    "pycharm": {
     "name": "#%%\n"
    }
   },
   "outputs": [
    {
     "data": {
      "text/plain": "76"
     },
     "execution_count": 3,
     "metadata": {},
     "output_type": "execute_result"
    }
   ],
   "source": [
    "# 02 다음은 국가별 연도별 인구 10만 명당 결핵 유병률 데이터 세트이다. \n",
    "# 2000년도의 국가별 결핵 유병률 데이터 세트에서 \n",
    "# 2000년도의 평균값보다 더 큰 유병률 값을 가진 국가의 수를 계산하시오.\n",
    "\n",
    "import pandas as pd\n",
    "import numpy as np\n",
    "df = pd.read_csv('./datasets/datasets/part3/302_worlddata.csv')\n",
    "df_t = df.transpose()\n",
    "\n",
    "## 전치행렬을 한 이후에 컬럼명 변경\n",
    "df_t.rename(columns = {0:'1999',\n",
    "                      1:'2000',\n",
    "                      2:'2001',\n",
    "                      3:'2002'}, inplace=True)\n",
    "\n",
    "df_t = df_t.drop('year', axis=0) # reassignment\n",
    "df_t ## 전처리 끝\n",
    "\n",
    "## condition에 해당하는 df호출\n",
    "\n",
    "len(df_t[df_t['2000']>np.mean(df_t['2000'])])"
   ]
  },
  {
   "cell_type": "code",
   "execution_count": 4,
   "id": "1e82fd94",
   "metadata": {
    "pycharm": {
     "name": "#%%\n"
    }
   },
   "outputs": [
    {
     "data": {
      "text/plain": "\"\\nfor java\\n\\ncond1 = disease_df['year']==2000\\ndisease_df_2000 = disease_df[cond1]\\nprint(disease_df_2000)\\n\\n### 2000년도 평균값\\nSum = 0\\ncnt = 0\\nfor _col in range(1,194):\\n    Sum = Sum + disease_df_2000.iloc[0,_col]\\n    cnt = cnt+1\\n    \\nmean = Sum/cnt\\nprint(mean)\\n\\n### 국가의 수 계산\\nnation_cnt = 0\\nfor _col in range(1,194):\\n    if disease_df_2000.iloc[0,_col] > mean:\\n        nation_cnt = nation_cnt+1\\n\\nprint(nation_cnt)\\n\""
     },
     "execution_count": 4,
     "metadata": {},
     "output_type": "execute_result"
    }
   ],
   "source": [
    "### 2000년도 데이터\n",
    "\"\"\"\n",
    "java style\n",
    "\n",
    "cond1 = disease_df['year']==2000\n",
    "disease_df_2000 = disease_df[cond1]\n",
    "print(disease_df_2000)\n",
    "\n",
    "### 2000년도 평균값\n",
    "Sum = 0\n",
    "cnt = 0\n",
    "for _col in range(1,194):\n",
    "    Sum = Sum + disease_df_2000.iloc[0,_col]\n",
    "    cnt = cnt+1\n",
    "    \n",
    "mean = Sum/cnt\n",
    "print(mean)\n",
    "\n",
    "### 국가의 수 계산\n",
    "nation_cnt = 0\n",
    "for _col in range(1,194):\n",
    "    if disease_df_2000.iloc[0,_col] > mean:\n",
    "        nation_cnt = nation_cnt+1\n",
    "\n",
    "print(nation_cnt)\n",
    "\"\"\""
   ]
  },
  {
   "cell_type": "code",
   "execution_count": 5,
   "id": "28b64d9f",
   "metadata": {
    "pycharm": {
     "name": "#%%\n"
    }
   },
   "outputs": [
    {
     "name": "stdout",
     "output_type": "stream",
     "text": [
      "<class 'pandas.core.frame.DataFrame'>\n",
      "RangeIndex: 891 entries, 0 to 890\n",
      "Data columns (total 12 columns):\n",
      " #   Column       Non-Null Count  Dtype  \n",
      "---  ------       --------------  -----  \n",
      " 0   PassengerId  891 non-null    int64  \n",
      " 1   Survived     891 non-null    int64  \n",
      " 2   Pclass       891 non-null    int64  \n",
      " 3   Name         891 non-null    object \n",
      " 4   Sex          891 non-null    object \n",
      " 5   Age          714 non-null    float64\n",
      " 6   SibSp        891 non-null    int64  \n",
      " 7   Parch        891 non-null    int64  \n",
      " 8   Ticket       891 non-null    object \n",
      " 9   Fare         891 non-null    float64\n",
      " 10  Cabin        773 non-null    object \n",
      " 11  Embarked     889 non-null    object \n",
      "dtypes: float64(2), int64(5), object(5)\n",
      "memory usage: 83.7+ KB\n",
      "Age\n"
     ]
    }
   ],
   "source": [
    "# 03 다음은 Titanic 데이터 세트이다. 주어진 데이터 세트의 컬럼 중 빈 값 또는\n",
    "# 결측치를 확인하여, 결측치의 비율이 가장 높은 변수명을 출력하시오.\n",
    "\n",
    "import pandas as pd\n",
    "import numpy as np\n",
    "titan_df = pd.read_csv('./datasets/datasets/part3/303_titanic.csv')\n",
    "\n",
    "# 가장 결측값의 비율이 큰 컬럼을 info를 확인\n",
    "titan_df.info()\n",
    "\n",
    "# 코드로 답안 작성\n",
    "cond1= titan_df.isna().sum()\n",
    "\n",
    "# version-1\n",
    "answer = cond1.index[5] \n",
    "\n",
    "# version-2\n",
    "answer2 = cond1.index[cond1.argmax()] \n",
    "print(answer2)"
   ]
  },
  {
   "cell_type": "code",
   "execution_count": 6,
   "id": "4f54b5f6",
   "metadata": {
    "pycharm": {
     "name": "#%%\n"
    }
   },
   "outputs": [],
   "source": [
    "# end of files"
   ]
  }
 ],
 "metadata": {
  "kernelspec": {
   "display_name": "Python 3 (ipykernel)",
   "language": "python",
   "name": "python3"
  },
  "language_info": {
   "codemirror_mode": {
    "name": "ipython",
    "version": 3
   },
   "file_extension": ".py",
   "mimetype": "text/x-python",
   "name": "python",
   "nbconvert_exporter": "python",
   "pygments_lexer": "ipython3",
   "version": "3.9.7"
  }
 },
 "nbformat": 4,
 "nbformat_minor": 5
}