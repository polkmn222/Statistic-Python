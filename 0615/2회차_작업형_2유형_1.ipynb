{
 "cells": [
  {
   "cell_type": "code",
   "execution_count": 21,
   "metadata": {
    "pycharm": {
     "name": "#%%\n"
    }
   },
   "outputs": [],
   "source": [
    "import pandas as pd\n",
    "import numpy as np\n",
    "\n",
    "X_train = pd.read_csv('./Part3/204_x_train.csv')\n",
    "y_train = pd.read_csv('./Part3/204_y_train.csv')\n",
    "X_test = pd.read_csv('./Part3/204_x_test.csv')"
   ]
  },
  {
   "cell_type": "code",
   "execution_count": 22,
   "metadata": {
    "pycharm": {
     "name": "#%%\n"
    }
   },
   "outputs": [
    {
     "name": "stdout",
     "output_type": "stream",
     "text": [
      "X_train.shape: (6599, 11)\n",
      "y_train.shape: (6599, 2)\n",
      "X_tesy.shape: (4400, 11)\n"
     ]
    }
   ],
   "source": [
    "print(\"X_train.shape:\" , X_train.shape)\n",
    "print(\"y_train.shape:\" , y_train.shape)\n",
    "print(\"X_tesy.shape:\" , X_test.shape)\n",
    "\n",
    "### 아래의 셀에서 X_train + X_test = X_all로 만들 예정"
   ]
  },
  {
   "cell_type": "code",
   "execution_count": 23,
   "metadata": {
    "pycharm": {
     "name": "#%%\n"
    }
   },
   "outputs": [
    {
     "name": "stdout",
     "output_type": "stream",
     "text": [
      "<class 'pandas.core.frame.DataFrame'>\n",
      "Int64Index: 10999 entries, 0 to 4399\n",
      "Data columns (total 11 columns):\n",
      " #   Column               Non-Null Count  Dtype \n",
      "---  ------               --------------  ----- \n",
      " 0   ID                   10999 non-null  int64 \n",
      " 1   Warehouse_block      10999 non-null  object\n",
      " 2   Mode_of_Shipment     10999 non-null  object\n",
      " 3   Customer_care_calls  10999 non-null  int64 \n",
      " 4   Customer_rating      10999 non-null  int64 \n",
      " 5   Cost_of_the_Product  10999 non-null  int64 \n",
      " 6   Prior_purchases      10999 non-null  int64 \n",
      " 7   Product_importance   10999 non-null  object\n",
      " 8   Gender               10999 non-null  object\n",
      " 9   Discount_offered     10999 non-null  int64 \n",
      " 10  Weight_in_gms        10999 non-null  int64 \n",
      "dtypes: int64(7), object(4)\n",
      "memory usage: 1.0+ MB\n",
      "문자형 자료의 컬럼:\n",
      " Index(['Warehouse_block', 'Mode_of_Shipment', 'Product_importance', 'Gender'], dtype='object')\n"
     ]
    }
   ],
   "source": [
    "## pd.concat 활용\n",
    "X_all = pd.concat([X_train, X_test])\n",
    "\n",
    "### 데이터 정보 확인\n",
    "X_all.info()\n",
    "\n",
    "### object인 자료의 컬럼들만 호출\n",
    "print('문자형 자료의 컬럼:\\n', X_all.select_dtypes(include='object').columns)"
   ]
  },
  {
   "cell_type": "code",
   "execution_count": 24,
   "metadata": {
    "pycharm": {
     "name": "#%%\n"
    }
   },
   "outputs": [
    {
     "data": {
      "text/html": [
       "<div>\n",
       "<style scoped>\n",
       "    .dataframe tbody tr th:only-of-type {\n",
       "        vertical-align: middle;\n",
       "    }\n",
       "\n",
       "    .dataframe tbody tr th {\n",
       "        vertical-align: top;\n",
       "    }\n",
       "\n",
       "    .dataframe thead th {\n",
       "        text-align: right;\n",
       "    }\n",
       "</style>\n",
       "<table border=\"1\" class=\"dataframe\">\n",
       "  <thead>\n",
       "    <tr style=\"text-align: right;\">\n",
       "      <th></th>\n",
       "      <th>ID</th>\n",
       "      <th>Warehouse_block</th>\n",
       "      <th>Mode_of_Shipment</th>\n",
       "      <th>Customer_care_calls</th>\n",
       "      <th>Customer_rating</th>\n",
       "      <th>Cost_of_the_Product</th>\n",
       "      <th>Prior_purchases</th>\n",
       "      <th>Product_importance</th>\n",
       "      <th>Gender</th>\n",
       "      <th>Discount_offered</th>\n",
       "      <th>Weight_in_gms</th>\n",
       "    </tr>\n",
       "  </thead>\n",
       "  <tbody>\n",
       "    <tr>\n",
       "      <th>0</th>\n",
       "      <td>9902</td>\n",
       "      <td>4</td>\n",
       "      <td>2</td>\n",
       "      <td>3</td>\n",
       "      <td>5</td>\n",
       "      <td>214</td>\n",
       "      <td>2</td>\n",
       "      <td>2</td>\n",
       "      <td>0</td>\n",
       "      <td>6</td>\n",
       "      <td>4578</td>\n",
       "    </tr>\n",
       "    <tr>\n",
       "      <th>1</th>\n",
       "      <td>9501</td>\n",
       "      <td>0</td>\n",
       "      <td>2</td>\n",
       "      <td>4</td>\n",
       "      <td>2</td>\n",
       "      <td>201</td>\n",
       "      <td>3</td>\n",
       "      <td>2</td>\n",
       "      <td>0</td>\n",
       "      <td>4</td>\n",
       "      <td>4613</td>\n",
       "    </tr>\n",
       "    <tr>\n",
       "      <th>2</th>\n",
       "      <td>6111</td>\n",
       "      <td>0</td>\n",
       "      <td>2</td>\n",
       "      <td>4</td>\n",
       "      <td>2</td>\n",
       "      <td>264</td>\n",
       "      <td>3</td>\n",
       "      <td>1</td>\n",
       "      <td>1</td>\n",
       "      <td>10</td>\n",
       "      <td>5137</td>\n",
       "    </tr>\n",
       "    <tr>\n",
       "      <th>3</th>\n",
       "      <td>588</td>\n",
       "      <td>4</td>\n",
       "      <td>2</td>\n",
       "      <td>3</td>\n",
       "      <td>5</td>\n",
       "      <td>194</td>\n",
       "      <td>2</td>\n",
       "      <td>2</td>\n",
       "      <td>1</td>\n",
       "      <td>4</td>\n",
       "      <td>3496</td>\n",
       "    </tr>\n",
       "    <tr>\n",
       "      <th>4</th>\n",
       "      <td>10806</td>\n",
       "      <td>4</td>\n",
       "      <td>1</td>\n",
       "      <td>5</td>\n",
       "      <td>5</td>\n",
       "      <td>269</td>\n",
       "      <td>5</td>\n",
       "      <td>2</td>\n",
       "      <td>0</td>\n",
       "      <td>3</td>\n",
       "      <td>1120</td>\n",
       "    </tr>\n",
       "    <tr>\n",
       "      <th>...</th>\n",
       "      <td>...</td>\n",
       "      <td>...</td>\n",
       "      <td>...</td>\n",
       "      <td>...</td>\n",
       "      <td>...</td>\n",
       "      <td>...</td>\n",
       "      <td>...</td>\n",
       "      <td>...</td>\n",
       "      <td>...</td>\n",
       "      <td>...</td>\n",
       "      <td>...</td>\n",
       "    </tr>\n",
       "    <tr>\n",
       "      <th>4395</th>\n",
       "      <td>3142</td>\n",
       "      <td>1</td>\n",
       "      <td>1</td>\n",
       "      <td>6</td>\n",
       "      <td>2</td>\n",
       "      <td>153</td>\n",
       "      <td>5</td>\n",
       "      <td>1</td>\n",
       "      <td>0</td>\n",
       "      <td>1</td>\n",
       "      <td>4597</td>\n",
       "    </tr>\n",
       "    <tr>\n",
       "      <th>4396</th>\n",
       "      <td>6948</td>\n",
       "      <td>4</td>\n",
       "      <td>2</td>\n",
       "      <td>4</td>\n",
       "      <td>1</td>\n",
       "      <td>196</td>\n",
       "      <td>4</td>\n",
       "      <td>1</td>\n",
       "      <td>0</td>\n",
       "      <td>3</td>\n",
       "      <td>5496</td>\n",
       "    </tr>\n",
       "    <tr>\n",
       "      <th>4397</th>\n",
       "      <td>7531</td>\n",
       "      <td>3</td>\n",
       "      <td>0</td>\n",
       "      <td>3</td>\n",
       "      <td>4</td>\n",
       "      <td>174</td>\n",
       "      <td>3</td>\n",
       "      <td>1</td>\n",
       "      <td>0</td>\n",
       "      <td>10</td>\n",
       "      <td>4998</td>\n",
       "    </tr>\n",
       "    <tr>\n",
       "      <th>4398</th>\n",
       "      <td>8398</td>\n",
       "      <td>1</td>\n",
       "      <td>2</td>\n",
       "      <td>3</td>\n",
       "      <td>1</td>\n",
       "      <td>167</td>\n",
       "      <td>3</td>\n",
       "      <td>2</td>\n",
       "      <td>1</td>\n",
       "      <td>10</td>\n",
       "      <td>4341</td>\n",
       "    </tr>\n",
       "    <tr>\n",
       "      <th>4399</th>\n",
       "      <td>10252</td>\n",
       "      <td>1</td>\n",
       "      <td>1</td>\n",
       "      <td>3</td>\n",
       "      <td>1</td>\n",
       "      <td>267</td>\n",
       "      <td>2</td>\n",
       "      <td>1</td>\n",
       "      <td>0</td>\n",
       "      <td>9</td>\n",
       "      <td>5744</td>\n",
       "    </tr>\n",
       "  </tbody>\n",
       "</table>\n",
       "<p>10999 rows × 11 columns</p>\n",
       "</div>"
      ],
      "text/plain": [
       "         ID  Warehouse_block  Mode_of_Shipment  Customer_care_calls  \\\n",
       "0      9902                4                 2                    3   \n",
       "1      9501                0                 2                    4   \n",
       "2      6111                0                 2                    4   \n",
       "3       588                4                 2                    3   \n",
       "4     10806                4                 1                    5   \n",
       "...     ...              ...               ...                  ...   \n",
       "4395   3142                1                 1                    6   \n",
       "4396   6948                4                 2                    4   \n",
       "4397   7531                3                 0                    3   \n",
       "4398   8398                1                 2                    3   \n",
       "4399  10252                1                 1                    3   \n",
       "\n",
       "      Customer_rating  Cost_of_the_Product  Prior_purchases  \\\n",
       "0                   5                  214                2   \n",
       "1                   2                  201                3   \n",
       "2                   2                  264                3   \n",
       "3                   5                  194                2   \n",
       "4                   5                  269                5   \n",
       "...               ...                  ...              ...   \n",
       "4395                2                  153                5   \n",
       "4396                1                  196                4   \n",
       "4397                4                  174                3   \n",
       "4398                1                  167                3   \n",
       "4399                1                  267                2   \n",
       "\n",
       "      Product_importance  Gender  Discount_offered  Weight_in_gms  \n",
       "0                      2       0                 6           4578  \n",
       "1                      2       0                 4           4613  \n",
       "2                      1       1                10           5137  \n",
       "3                      2       1                 4           3496  \n",
       "4                      2       0                 3           1120  \n",
       "...                  ...     ...               ...            ...  \n",
       "4395                   1       0                 1           4597  \n",
       "4396                   1       0                 3           5496  \n",
       "4397                   1       0                10           4998  \n",
       "4398                   2       1                10           4341  \n",
       "4399                   1       0                 9           5744  \n",
       "\n",
       "[10999 rows x 11 columns]"
      ]
     },
     "execution_count": 24,
     "metadata": {},
     "output_type": "execute_result"
    }
   ],
   "source": [
    "# 새변수에 문자형 자료의 컬럼들 할당\n",
    "ftrs = ['Warehouse_block', 'Mode_of_Shipment', 'Product_importance', 'Gender']\n",
    "\n",
    "## Lable Encoding 진행\n",
    "from sklearn.preprocessing import LabelEncoder\n",
    "le = LabelEncoder()\n",
    "\n",
    "for ftr in ftrs:\n",
    "    X_all[ftr] = le.fit_transform(X_all[ftr])\n",
    "\n",
    "X_all"
   ]
  },
  {
   "cell_type": "code",
   "execution_count": 26,
   "metadata": {
    "pycharm": {
     "name": "#%%\n"
    }
   },
   "outputs": [
    {
     "name": "stdout",
     "output_type": "stream",
     "text": [
      "[[1.         1.         0.2        ... 0.         0.078125   0.52257122]\n",
      " [0.         1.         0.4        ... 0.         0.046875   0.52768444]\n",
      " [0.         1.         0.4        ... 1.         0.140625   0.60423667]\n",
      " ...\n",
      " [0.75       0.         0.2        ... 0.         0.140625   0.58392988]\n",
      " [0.25       1.         0.2        ... 1.         0.140625   0.48794741]\n",
      " [0.25       0.5        0.2        ... 0.         0.125      0.69291454]]\n"
     ]
    }
   ],
   "source": [
    "### 불필요속성\n",
    "\n",
    "X_all_drop = X_all.drop(['ID'], axis = 1)\n",
    "\n",
    "### MinMaxScaler를 적용해본다.\n",
    "### MinMaxScaling을 적용하는 이유는 간단한데,\n",
    "### 데이터들의 정규성 가정을 우리가 확신하지 못해서 입니다.\n",
    "\n",
    "from sklearn.preprocessing import MinMaxScaler\n",
    "\n",
    "mm_scaler = MinMaxScaler()\n",
    "result_ndarray = mm_scaler.fit_transform(X_all_drop)\n",
    "\n",
    "print(result_ndarray)\n",
    "\n",
    "## 전처리된 X값들과 y값을 재정의\n",
    "X_train_fin = result_ndarray[:6599]\n",
    "X_test_fin = result_ndarray[6599:]\n",
    "y_train_fin = y_train['Reached.on.Time_Y.N']"
   ]
  },
  {
   "cell_type": "code",
   "execution_count": 27,
   "metadata": {
    "pycharm": {
     "name": "#%%\n"
    }
   },
   "outputs": [],
   "source": [
    "### 학습을 수행하기 위해 train_test_split을 활용한 val data를 생성\n",
    "from sklearn.model_selection import train_test_split\n",
    "\n",
    "xtrain, xval, ytrain, yval = train_test_split(X_train_fin, y_train_fin, test_size=0.2, stratify=y_train_fin, random_state=615)"
   ]
  },
  {
   "cell_type": "code",
   "execution_count": 28,
   "metadata": {
    "pycharm": {
     "name": "#%%\n"
    }
   },
   "outputs": [
    {
     "name": "stdout",
     "output_type": "stream",
     "text": [
      "rf_clf의 정확도: 0.6598\n",
      "rf_clf의 roc_auc점수: 0.6598\n",
      "gb_clf의 정확도: 0.6924\n",
      "gb_clf의 roc_auc점수: 0.7183\n"
     ]
    }
   ],
   "source": [
    "### 학습할 알고리즘 호출\n",
    "from sklearn.ensemble import RandomForestClassifier\n",
    "from sklearn.ensemble import  GradientBoostingClassifier\n",
    "\n",
    "from sklearn.metrics import accuracy_score, roc_auc_score\n",
    "\n",
    "\n",
    "### rf_clf를 적용\n",
    "rf_clf = RandomForestClassifier(random_state=615)\n",
    "rf_clf.fit(xtrain, ytrain)\n",
    "pred_rf = rf_clf.predict(xval)\n",
    "\n",
    "accuracy_rf = accuracy_score(yval, pred_rf)\n",
    "roc_auc_rf = roc_auc_score(yval, pred_rf)\n",
    "## 평가지표 적용\n",
    "print('rf_clf의 정확도:', np.round(accuracy_rf, 4))\n",
    "print('rf_clf의 roc_auc점수:', np.round(roc_auc_rf, 4))\n",
    "\n",
    "### gb_clf를 적용\n",
    "gb_clf = GradientBoostingClassifier(random_state=615)\n",
    "gb_clf.fit(xtrain, ytrain)\n",
    "pred_gb = gb_clf.predict(xval)\n",
    "\n",
    "accuracy_gb = accuracy_score(yval, pred_gb)\n",
    "roc_auc_gb = roc_auc_score(yval, pred_gb)\n",
    "## 평가지표 적용\n",
    "print('gb_clf의 정확도:', np.round(accuracy_gb, 4))\n",
    "print('gb_clf의 roc_auc점수:', np.round(roc_auc_gb, 4))"
   ]
  },
  {
   "cell_type": "code",
   "execution_count": 30,
   "metadata": {
    "pycharm": {
     "name": "#%%\n"
    }
   },
   "outputs": [
    {
     "name": "stdout",
     "output_type": "stream",
     "text": [
      "lgbm_clf의 정확도: 0.6811\n",
      "lgbm_clf의 roc_auc점수: 0.6968\n"
     ]
    }
   ],
   "source": [
    "### lightgbm 적용\n",
    "\n",
    "from lightgbm import LGBMClassifier\n",
    "\n",
    "# 400개의 분류기를 생성\n",
    "lbgm_wrapper = LGBMClassifier(n_estimators=400)\n",
    "\n",
    "evals = [(xval, yval)]\n",
    "lbgm_wrapper.fit(xtrain, ytrain, early_stopping_rounds=100, eval_metric='logloss', eval_set=evals, verbose=False)  # 미리 정확도가 아닌 'logloss' 지표로 알고리즘의 over-fitting 방지 및 정확도를 살펴본다.\n",
    "\n",
    "pred_lgbm = lbgm_wrapper.predict(xval)  # xval을 넣었을때 예상되는 y값\n",
    "\n",
    "accuracy_lgbm = accuracy_score(yval, pred_lgbm)\n",
    "roc_auc_lgbm = roc_auc_score(yval, pred_lgbm)\n",
    "## 평가지표 적용\n",
    "print('lgbm_clf의 정확도:', np.round(accuracy_lgbm, 4))\n",
    "print('lgbm_clf의 roc_auc점수:', np.round(roc_auc_lgbm, 4))"
   ]
  },
  {
   "cell_type": "code",
   "execution_count": 34,
   "metadata": {
    "pycharm": {
     "name": "#%%\n"
    }
   },
   "outputs": [],
   "source": [
    "## 최종결과 제출 코드 ##\n",
    "\n",
    "final_model = gb_clf.fit(X_train_fin, y_train_fin)\n",
    "y_pred = final_model.predict(X_test_fin)\n",
    "\n",
    "### 제출파일을 생성\n",
    "submit_df = pd.DataFrame({'y_pred':y_pred}).reset_index()\n",
    "submit_df\n",
    "\n",
    "submit_df.to_csv('./220615.csv')"
   ]
  },
  {
   "cell_type": "code",
   "execution_count": 37,
   "metadata": {
    "pycharm": {
     "name": "#%%\n"
    }
   },
   "outputs": [
    {
     "data": {
      "text/plain": [
       "Ship      4482\n",
       "Flight    1086\n",
       "Road      1031\n",
       "Name: Mode_of_Shipment, dtype: int64"
      ]
     },
     "execution_count": 37,
     "metadata": {},
     "output_type": "execute_result"
    }
   ],
   "source": [
    "# 분석결과의 정확도가 나오지 않으므로 우리는 X변수들을\n",
    "# 재확인할 필요가 있습니다.\n",
    "\n",
    "# ID-식별자라 제외\n",
    "X_train.Warehouse_block.value_counts()\n",
    "\n",
    "X_train.Mode_of_Shipment.value_counts()"
   ]
  },
  {
   "cell_type": "code",
   "execution_count": 39,
   "metadata": {
    "pycharm": {
     "name": "#%%\n"
    }
   },
   "outputs": [],
   "source": [
    "# 여러분 X값들의 확인을 위해\n",
    "# 다음 파일로 넘어가겠습니다.\n",
    "# 여러분들이 만약에 accuracy 값을 높이고 싶으시다면\n",
    "# GridSearch 혹은 다양한 피쳐 엔지니어링이 수반되어야 합니다."
   ]
  },
  {
   "cell_type": "code",
   "execution_count": 40,
   "metadata": {
    "pycharm": {
     "name": "#%%\n"
    }
   },
   "outputs": [],
   "source": [
    "# end of file"
   ]
  }
 ],
 "metadata": {
  "kernelspec": {
   "display_name": "Python 3 (ipykernel)",
   "language": "python",
   "name": "python3"
  },
  "language_info": {
   "codemirror_mode": {
    "name": "ipython",
    "version": 3
   },
   "file_extension": ".py",
   "mimetype": "text/x-python",
   "name": "python",
   "nbconvert_exporter": "python",
   "pygments_lexer": "ipython3",
   "version": "3.9.7"
  }
 },
 "nbformat": 4,
 "nbformat_minor": 1
}
