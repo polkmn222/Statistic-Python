{
 "cells": [
  {
   "cell_type": "code",
   "execution_count": 15,
   "id": "3baab44c",
   "metadata": {
    "pycharm": {
     "name": "#%%\n"
    }
   },
   "outputs": [
    {
     "data": {
      "text/plain": "           gameId   creationTime  gameDuration  seasonId  winner  firstBlood  \\\n0      3326086514  1504279457970          1949         9       1           2   \n1      3229566029  1497848803862          1851         9       1           1   \n2      3327363504  1504360103310          1493         9       1           2   \n3      3326856598  1504348503996          1758         9       1           1   \n4      3330080762  1504554410899          2094         9       1           2   \n...           ...            ...           ...       ...     ...         ...   \n51485  3308904636  1503076540231          1944         9       2           1   \n51486  3215685759  1496957179355          3304         9       2           1   \n51487  3322765040  1504029863961          2156         9       2           2   \n51488  3256675373  1499562036246          1475         9       2           2   \n51489  3317333020  1503612754059          1445         9       1           1   \n\n       firstTower  firstInhibitor  firstBaron  firstDragon  ...  \\\n0               1               1           1            1  ...   \n1               1               1           0            1  ...   \n2               1               1           1            2  ...   \n3               1               1           1            1  ...   \n4               1               1           1            1  ...   \n...           ...             ...         ...          ...  ...   \n51485           2               2           0            2  ...   \n51486           1               2           2            2  ...   \n51487           2               2           0            1  ...   \n51488           2               2           0            2  ...   \n51489           1               1           1            2  ...   \n\n       t2_towerKills  t2_inhibitorKills  t2_baronKills  t2_dragonKills  \\\n0                  5                  0              0               1   \n1                  2                  0              0               0   \n2                  2                  0              0               1   \n3                  0                  0              0               0   \n4                  3                  0              0               1   \n...              ...                ...            ...             ...   \n51485             10                  2              0               4   \n51486             11                  7              4               4   \n51487             10                  2              0               2   \n51488             11                  3              0               1   \n51489              1                  0              0               1   \n\n       t2_riftHeraldKills  t2_ban1  t2_ban2  t2_ban3  t2_ban4  t2_ban5  \n0                       1      114       67       43       16       51  \n1                       0       11       67      238       51      420  \n2                       0      157      238      121       57       28  \n3                       0      164       18      141       40       51  \n4                       0       86       11      201      122       18  \n...                   ...      ...      ...      ...      ...      ...  \n51485                   0       55       -1       90      238      157  \n51486                   1      157       55      119      154      105  \n51487                   0      113      122       53       11      157  \n51488                   0      154       39       51       90      114  \n51489                   0       11      157      141       31       18  \n\n[51490 rows x 61 columns]",
      "text/html": "<div>\n<style scoped>\n    .dataframe tbody tr th:only-of-type {\n        vertical-align: middle;\n    }\n\n    .dataframe tbody tr th {\n        vertical-align: top;\n    }\n\n    .dataframe thead th {\n        text-align: right;\n    }\n</style>\n<table border=\"1\" class=\"dataframe\">\n  <thead>\n    <tr style=\"text-align: right;\">\n      <th></th>\n      <th>gameId</th>\n      <th>creationTime</th>\n      <th>gameDuration</th>\n      <th>seasonId</th>\n      <th>winner</th>\n      <th>firstBlood</th>\n      <th>firstTower</th>\n      <th>firstInhibitor</th>\n      <th>firstBaron</th>\n      <th>firstDragon</th>\n      <th>...</th>\n      <th>t2_towerKills</th>\n      <th>t2_inhibitorKills</th>\n      <th>t2_baronKills</th>\n      <th>t2_dragonKills</th>\n      <th>t2_riftHeraldKills</th>\n      <th>t2_ban1</th>\n      <th>t2_ban2</th>\n      <th>t2_ban3</th>\n      <th>t2_ban4</th>\n      <th>t2_ban5</th>\n    </tr>\n  </thead>\n  <tbody>\n    <tr>\n      <th>0</th>\n      <td>3326086514</td>\n      <td>1504279457970</td>\n      <td>1949</td>\n      <td>9</td>\n      <td>1</td>\n      <td>2</td>\n      <td>1</td>\n      <td>1</td>\n      <td>1</td>\n      <td>1</td>\n      <td>...</td>\n      <td>5</td>\n      <td>0</td>\n      <td>0</td>\n      <td>1</td>\n      <td>1</td>\n      <td>114</td>\n      <td>67</td>\n      <td>43</td>\n      <td>16</td>\n      <td>51</td>\n    </tr>\n    <tr>\n      <th>1</th>\n      <td>3229566029</td>\n      <td>1497848803862</td>\n      <td>1851</td>\n      <td>9</td>\n      <td>1</td>\n      <td>1</td>\n      <td>1</td>\n      <td>1</td>\n      <td>0</td>\n      <td>1</td>\n      <td>...</td>\n      <td>2</td>\n      <td>0</td>\n      <td>0</td>\n      <td>0</td>\n      <td>0</td>\n      <td>11</td>\n      <td>67</td>\n      <td>238</td>\n      <td>51</td>\n      <td>420</td>\n    </tr>\n    <tr>\n      <th>2</th>\n      <td>3327363504</td>\n      <td>1504360103310</td>\n      <td>1493</td>\n      <td>9</td>\n      <td>1</td>\n      <td>2</td>\n      <td>1</td>\n      <td>1</td>\n      <td>1</td>\n      <td>2</td>\n      <td>...</td>\n      <td>2</td>\n      <td>0</td>\n      <td>0</td>\n      <td>1</td>\n      <td>0</td>\n      <td>157</td>\n      <td>238</td>\n      <td>121</td>\n      <td>57</td>\n      <td>28</td>\n    </tr>\n    <tr>\n      <th>3</th>\n      <td>3326856598</td>\n      <td>1504348503996</td>\n      <td>1758</td>\n      <td>9</td>\n      <td>1</td>\n      <td>1</td>\n      <td>1</td>\n      <td>1</td>\n      <td>1</td>\n      <td>1</td>\n      <td>...</td>\n      <td>0</td>\n      <td>0</td>\n      <td>0</td>\n      <td>0</td>\n      <td>0</td>\n      <td>164</td>\n      <td>18</td>\n      <td>141</td>\n      <td>40</td>\n      <td>51</td>\n    </tr>\n    <tr>\n      <th>4</th>\n      <td>3330080762</td>\n      <td>1504554410899</td>\n      <td>2094</td>\n      <td>9</td>\n      <td>1</td>\n      <td>2</td>\n      <td>1</td>\n      <td>1</td>\n      <td>1</td>\n      <td>1</td>\n      <td>...</td>\n      <td>3</td>\n      <td>0</td>\n      <td>0</td>\n      <td>1</td>\n      <td>0</td>\n      <td>86</td>\n      <td>11</td>\n      <td>201</td>\n      <td>122</td>\n      <td>18</td>\n    </tr>\n    <tr>\n      <th>...</th>\n      <td>...</td>\n      <td>...</td>\n      <td>...</td>\n      <td>...</td>\n      <td>...</td>\n      <td>...</td>\n      <td>...</td>\n      <td>...</td>\n      <td>...</td>\n      <td>...</td>\n      <td>...</td>\n      <td>...</td>\n      <td>...</td>\n      <td>...</td>\n      <td>...</td>\n      <td>...</td>\n      <td>...</td>\n      <td>...</td>\n      <td>...</td>\n      <td>...</td>\n      <td>...</td>\n    </tr>\n    <tr>\n      <th>51485</th>\n      <td>3308904636</td>\n      <td>1503076540231</td>\n      <td>1944</td>\n      <td>9</td>\n      <td>2</td>\n      <td>1</td>\n      <td>2</td>\n      <td>2</td>\n      <td>0</td>\n      <td>2</td>\n      <td>...</td>\n      <td>10</td>\n      <td>2</td>\n      <td>0</td>\n      <td>4</td>\n      <td>0</td>\n      <td>55</td>\n      <td>-1</td>\n      <td>90</td>\n      <td>238</td>\n      <td>157</td>\n    </tr>\n    <tr>\n      <th>51486</th>\n      <td>3215685759</td>\n      <td>1496957179355</td>\n      <td>3304</td>\n      <td>9</td>\n      <td>2</td>\n      <td>1</td>\n      <td>1</td>\n      <td>2</td>\n      <td>2</td>\n      <td>2</td>\n      <td>...</td>\n      <td>11</td>\n      <td>7</td>\n      <td>4</td>\n      <td>4</td>\n      <td>1</td>\n      <td>157</td>\n      <td>55</td>\n      <td>119</td>\n      <td>154</td>\n      <td>105</td>\n    </tr>\n    <tr>\n      <th>51487</th>\n      <td>3322765040</td>\n      <td>1504029863961</td>\n      <td>2156</td>\n      <td>9</td>\n      <td>2</td>\n      <td>2</td>\n      <td>2</td>\n      <td>2</td>\n      <td>0</td>\n      <td>1</td>\n      <td>...</td>\n      <td>10</td>\n      <td>2</td>\n      <td>0</td>\n      <td>2</td>\n      <td>0</td>\n      <td>113</td>\n      <td>122</td>\n      <td>53</td>\n      <td>11</td>\n      <td>157</td>\n    </tr>\n    <tr>\n      <th>51488</th>\n      <td>3256675373</td>\n      <td>1499562036246</td>\n      <td>1475</td>\n      <td>9</td>\n      <td>2</td>\n      <td>2</td>\n      <td>2</td>\n      <td>2</td>\n      <td>0</td>\n      <td>2</td>\n      <td>...</td>\n      <td>11</td>\n      <td>3</td>\n      <td>0</td>\n      <td>1</td>\n      <td>0</td>\n      <td>154</td>\n      <td>39</td>\n      <td>51</td>\n      <td>90</td>\n      <td>114</td>\n    </tr>\n    <tr>\n      <th>51489</th>\n      <td>3317333020</td>\n      <td>1503612754059</td>\n      <td>1445</td>\n      <td>9</td>\n      <td>1</td>\n      <td>1</td>\n      <td>1</td>\n      <td>1</td>\n      <td>1</td>\n      <td>2</td>\n      <td>...</td>\n      <td>1</td>\n      <td>0</td>\n      <td>0</td>\n      <td>1</td>\n      <td>0</td>\n      <td>11</td>\n      <td>157</td>\n      <td>141</td>\n      <td>31</td>\n      <td>18</td>\n    </tr>\n  </tbody>\n</table>\n<p>51490 rows × 61 columns</p>\n</div>"
     },
     "execution_count": 15,
     "metadata": {},
     "output_type": "execute_result"
    }
   ],
   "source": [
    "# lol archive data 활ㅇ요\n",
    "# Q1. 데이터를 로드해보세요. \n",
    "# 데이터는 \\t기준으로 구분되어 있습니다 :: sep parameter 사용 \n",
    "import pandas as pd\n",
    "pd.read_csv('./lol_archive/games.csv')  # ep 파라미터로 만약 해당"
   ]
  },
  {
   "cell_type": "code",
   "execution_count": 3,
   "id": "bff5bf6b",
   "metadata": {
    "pycharm": {
     "name": "#%%\n"
    }
   },
   "outputs": [],
   "source": [
    "# Q2 데이터의 상위 5개 행을 출력해보세요  :: head 활용"
   ]
  },
  {
   "cell_type": "code",
   "execution_count": 16,
   "id": "39ab4555",
   "metadata": {
    "pycharm": {
     "name": "#%%\n"
    }
   },
   "outputs": [
    {
     "name": "stdout",
     "output_type": "stream",
     "text": [
      "       gameId   creationTime  gameDuration  seasonId  winner  firstBlood  \\\n",
      "0  3326086514  1504279457970          1949         9       1           2   \n",
      "1  3229566029  1497848803862          1851         9       1           1   \n",
      "2  3327363504  1504360103310          1493         9       1           2   \n",
      "3  3326856598  1504348503996          1758         9       1           1   \n",
      "4  3330080762  1504554410899          2094         9       1           2   \n",
      "\n",
      "   firstTower  firstInhibitor  firstBaron  firstDragon  ...  t2_towerKills  \\\n",
      "0           1               1           1            1  ...              5   \n",
      "1           1               1           0            1  ...              2   \n",
      "2           1               1           1            2  ...              2   \n",
      "3           1               1           1            1  ...              0   \n",
      "4           1               1           1            1  ...              3   \n",
      "\n",
      "   t2_inhibitorKills  t2_baronKills  t2_dragonKills  t2_riftHeraldKills  \\\n",
      "0                  0              0               1                   1   \n",
      "1                  0              0               0                   0   \n",
      "2                  0              0               1                   0   \n",
      "3                  0              0               0                   0   \n",
      "4                  0              0               1                   0   \n",
      "\n",
      "   t2_ban1  t2_ban2  t2_ban3  t2_ban4  t2_ban5  \n",
      "0      114       67       43       16       51  \n",
      "1       11       67      238       51      420  \n",
      "2      157      238      121       57       28  \n",
      "3      164       18      141       40       51  \n",
      "4       86       11      201      122       18  \n",
      "\n",
      "[5 rows x 61 columns]\n"
     ]
    }
   ],
   "source": [
    "lol = pd.read_csv('./lol_archive/games.csv')\n",
    "print(lol.head(5))"
   ]
  },
  {
   "cell_type": "code",
   "execution_count": 4,
   "id": "f5b33186",
   "metadata": {
    "pycharm": {
     "name": "#%%\n"
    }
   },
   "outputs": [],
   "source": [
    "# Q3 데이터의 행과 열의 개수를 파악해보세요  :: shape 활용"
   ]
  },
  {
   "cell_type": "code",
   "execution_count": 17,
   "id": "9831955d",
   "metadata": {
    "pycharm": {
     "name": "#%%\n"
    }
   },
   "outputs": [
    {
     "name": "stdout",
     "output_type": "stream",
     "text": [
      "(51490, 61)\n"
     ]
    }
   ],
   "source": [
    "print(lol.shape)"
   ]
  },
  {
   "cell_type": "code",
   "execution_count": 5,
   "id": "05efd70a",
   "metadata": {
    "pycharm": {
     "name": "#%%\n"
    }
   },
   "outputs": [],
   "source": [
    "# Q4. 전체 컬럼을 출력해보세요 :: columns 활용"
   ]
  },
  {
   "cell_type": "code",
   "execution_count": 18,
   "id": "38cdb02b",
   "metadata": {
    "pycharm": {
     "name": "#%%\n"
    }
   },
   "outputs": [
    {
     "name": "stdout",
     "output_type": "stream",
     "text": [
      "Index(['gameId', 'creationTime', 'gameDuration', 'seasonId', 'winner',\n",
      "       'firstBlood', 'firstTower', 'firstInhibitor', 'firstBaron',\n",
      "       'firstDragon', 'firstRiftHerald', 't1_champ1id', 't1_champ1_sum1',\n",
      "       't1_champ1_sum2', 't1_champ2id', 't1_champ2_sum1', 't1_champ2_sum2',\n",
      "       't1_champ3id', 't1_champ3_sum1', 't1_champ3_sum2', 't1_champ4id',\n",
      "       't1_champ4_sum1', 't1_champ4_sum2', 't1_champ5id', 't1_champ5_sum1',\n",
      "       't1_champ5_sum2', 't1_towerKills', 't1_inhibitorKills', 't1_baronKills',\n",
      "       't1_dragonKills', 't1_riftHeraldKills', 't1_ban1', 't1_ban2', 't1_ban3',\n",
      "       't1_ban4', 't1_ban5', 't2_champ1id', 't2_champ1_sum1', 't2_champ1_sum2',\n",
      "       't2_champ2id', 't2_champ2_sum1', 't2_champ2_sum2', 't2_champ3id',\n",
      "       't2_champ3_sum1', 't2_champ3_sum2', 't2_champ4id', 't2_champ4_sum1',\n",
      "       't2_champ4_sum2', 't2_champ5id', 't2_champ5_sum1', 't2_champ5_sum2',\n",
      "       't2_towerKills', 't2_inhibitorKills', 't2_baronKills', 't2_dragonKills',\n",
      "       't2_riftHeraldKills', 't2_ban1', 't2_ban2', 't2_ban3', 't2_ban4',\n",
      "       't2_ban5'],\n",
      "      dtype='object')\n"
     ]
    }
   ],
   "source": [
    "# from pandas import DataFrame as df\n",
    "answer_q4 = lol.columns\n",
    "# df = pd.read_csv('./lol_archive/games.csv', index_col=0)\n",
    "print(answer_q4)"
   ]
  },
  {
   "cell_type": "code",
   "execution_count": 6,
   "id": "c34e7349",
   "metadata": {
    "pycharm": {
     "name": "#%%\n"
    }
   },
   "outputs": [],
   "source": [
    "# Q5. 7번째 컬럼명을 출력해보세요 :: indexing"
   ]
  },
  {
   "cell_type": "code",
   "execution_count": 19,
   "id": "10f07eff",
   "metadata": {
    "pycharm": {
     "name": "#%%\n"
    }
   },
   "outputs": [
    {
     "name": "stdout",
     "output_type": "stream",
     "text": [
      "firstTower\n"
     ]
    }
   ],
   "source": [
    "print(lol.columns[6])\n",
    "# df = pd.read_csv('./lol_archive/games.csv', index_col=7)\n",
    "# print(df)"
   ]
  },
  {
   "cell_type": "code",
   "execution_count": null,
   "id": "dd59125c",
   "metadata": {
    "pycharm": {
     "name": "#%%\n"
    }
   },
   "outputs": [],
   "source": [
    "# end of file"
   ]
  }
 ],
 "metadata": {
  "kernelspec": {
   "display_name": "Python 3 (ipykernel)",
   "language": "python",
   "name": "python3"
  },
  "language_info": {
   "codemirror_mode": {
    "name": "ipython",
    "version": 3
   },
   "file_extension": ".py",
   "mimetype": "text/x-python",
   "name": "python",
   "nbconvert_exporter": "python",
   "pygments_lexer": "ipython3",
   "version": "3.9.7"
  }
 },
 "nbformat": 4,
 "nbformat_minor": 5
}