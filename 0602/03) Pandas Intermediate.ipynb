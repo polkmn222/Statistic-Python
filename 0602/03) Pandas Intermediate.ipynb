{
 "cells": [
  {
   "cell_type": "code",
   "execution_count": 16,
   "id": "dc11d49c",
   "metadata": {
    "pycharm": {
     "name": "#%%\n"
    }
   },
   "outputs": [
    {
     "data": {
      "text/plain": "   order_id  quantity                     item_name choice_description  \\\n0         1         1  Chips and Fresh Tomato Salsa                NaN   \n1         1         1                          Izze       [Clementine]   \n\n  item_price  \n0     $2.39   \n1     $3.39   ",
      "text/html": "<div>\n<style scoped>\n    .dataframe tbody tr th:only-of-type {\n        vertical-align: middle;\n    }\n\n    .dataframe tbody tr th {\n        vertical-align: top;\n    }\n\n    .dataframe thead th {\n        text-align: right;\n    }\n</style>\n<table border=\"1\" class=\"dataframe\">\n  <thead>\n    <tr style=\"text-align: right;\">\n      <th></th>\n      <th>order_id</th>\n      <th>quantity</th>\n      <th>item_name</th>\n      <th>choice_description</th>\n      <th>item_price</th>\n    </tr>\n  </thead>\n  <tbody>\n    <tr>\n      <th>0</th>\n      <td>1</td>\n      <td>1</td>\n      <td>Chips and Fresh Tomato Salsa</td>\n      <td>NaN</td>\n      <td>$2.39</td>\n    </tr>\n    <tr>\n      <th>1</th>\n      <td>1</td>\n      <td>1</td>\n      <td>Izze</td>\n      <td>[Clementine]</td>\n      <td>$3.39</td>\n    </tr>\n  </tbody>\n</table>\n</div>"
     },
     "execution_count": 16,
     "metadata": {},
     "output_type": "execute_result"
    }
   ],
   "source": [
    "# Q1. 데이터를 로딩해보세요 ^^\n",
    "# chipotle.tsv\n",
    "# 확장자가 csv가 아닌점에 유의하세요\n",
    "\n",
    "import pandas as pd\n",
    "chipo_df = pd.read_csv('./chipotle.tsv', sep='\\t')\n",
    "chipo_df.head(2)\n",
    "\n",
    "# csv Comma Seperate Value\n",
    "# tsv Tab Seperate Value"
   ]
  },
  {
   "cell_type": "code",
   "execution_count": 6,
   "id": "f8faea91",
   "metadata": {
    "pycharm": {
     "name": "#%%\n"
    }
   },
   "outputs": [],
   "source": [
    "# Q2. quantity의 컬럼값이 3인 데이터를 추출해보세요.\n",
    "# 그리고 그 데이터의 첫 5행만 가져와보세요"
   ]
  },
  {
   "cell_type": "code",
   "execution_count": 20,
   "outputs": [
    {
     "data": {
      "text/plain": "     order_id  quantity          item_name  \\\n409       178         3       Chicken Bowl   \n445       193         3               Bowl   \n689       284         3  Canned Soft Drink   \n818       338         3      Bottled Water   \n850       350         3  Canned Soft Drink   \n\n                                    choice_description item_price  \n409  [[Fresh Tomato Salsa (Mild), Tomatillo-Green C...    $32.94   \n445  [Braised Carnitas, Pinto Beans, [Sour Cream, C...    $22.20   \n689                                        [Diet Coke]     $3.75   \n818                                                NaN     $3.27   \n850                                           [Sprite]     $3.75   ",
      "text/html": "<div>\n<style scoped>\n    .dataframe tbody tr th:only-of-type {\n        vertical-align: middle;\n    }\n\n    .dataframe tbody tr th {\n        vertical-align: top;\n    }\n\n    .dataframe thead th {\n        text-align: right;\n    }\n</style>\n<table border=\"1\" class=\"dataframe\">\n  <thead>\n    <tr style=\"text-align: right;\">\n      <th></th>\n      <th>order_id</th>\n      <th>quantity</th>\n      <th>item_name</th>\n      <th>choice_description</th>\n      <th>item_price</th>\n    </tr>\n  </thead>\n  <tbody>\n    <tr>\n      <th>409</th>\n      <td>178</td>\n      <td>3</td>\n      <td>Chicken Bowl</td>\n      <td>[[Fresh Tomato Salsa (Mild), Tomatillo-Green C...</td>\n      <td>$32.94</td>\n    </tr>\n    <tr>\n      <th>445</th>\n      <td>193</td>\n      <td>3</td>\n      <td>Bowl</td>\n      <td>[Braised Carnitas, Pinto Beans, [Sour Cream, C...</td>\n      <td>$22.20</td>\n    </tr>\n    <tr>\n      <th>689</th>\n      <td>284</td>\n      <td>3</td>\n      <td>Canned Soft Drink</td>\n      <td>[Diet Coke]</td>\n      <td>$3.75</td>\n    </tr>\n    <tr>\n      <th>818</th>\n      <td>338</td>\n      <td>3</td>\n      <td>Bottled Water</td>\n      <td>NaN</td>\n      <td>$3.27</td>\n    </tr>\n    <tr>\n      <th>850</th>\n      <td>350</td>\n      <td>3</td>\n      <td>Canned Soft Drink</td>\n      <td>[Sprite]</td>\n      <td>$3.75</td>\n    </tr>\n  </tbody>\n</table>\n</div>"
     },
     "execution_count": 20,
     "metadata": {},
     "output_type": "execute_result"
    }
   ],
   "source": [
    "chipo_df[chipo_df['quantity']==3].head(5)"
   ],
   "metadata": {
    "collapsed": false,
    "pycharm": {
     "name": "#%%\n"
    }
   }
  },
  {
   "cell_type": "code",
   "execution_count": 7,
   "id": "3fb3121b",
   "metadata": {
    "pycharm": {
     "name": "#%%\n"
    }
   },
   "outputs": [],
   "source": [
    "# Q3. Q2번에서 가져온 데이터의 index를 재정의 해보세요.\n",
    "# reset_index를 활용"
   ]
  },
  {
   "cell_type": "code",
   "execution_count": 21,
   "id": "60d951de",
   "metadata": {
    "pycharm": {
     "name": "#%%\n"
    }
   },
   "outputs": [
    {
     "data": {
      "text/plain": "   index  order_id  quantity          item_name  \\\n0    409       178         3       Chicken Bowl   \n1    445       193         3               Bowl   \n2    689       284         3  Canned Soft Drink   \n3    818       338         3      Bottled Water   \n4    850       350         3  Canned Soft Drink   \n\n                                  choice_description item_price  \n0  [[Fresh Tomato Salsa (Mild), Tomatillo-Green C...    $32.94   \n1  [Braised Carnitas, Pinto Beans, [Sour Cream, C...    $22.20   \n2                                        [Diet Coke]     $3.75   \n3                                                NaN     $3.27   \n4                                           [Sprite]     $3.75   ",
      "text/html": "<div>\n<style scoped>\n    .dataframe tbody tr th:only-of-type {\n        vertical-align: middle;\n    }\n\n    .dataframe tbody tr th {\n        vertical-align: top;\n    }\n\n    .dataframe thead th {\n        text-align: right;\n    }\n</style>\n<table border=\"1\" class=\"dataframe\">\n  <thead>\n    <tr style=\"text-align: right;\">\n      <th></th>\n      <th>index</th>\n      <th>order_id</th>\n      <th>quantity</th>\n      <th>item_name</th>\n      <th>choice_description</th>\n      <th>item_price</th>\n    </tr>\n  </thead>\n  <tbody>\n    <tr>\n      <th>0</th>\n      <td>409</td>\n      <td>178</td>\n      <td>3</td>\n      <td>Chicken Bowl</td>\n      <td>[[Fresh Tomato Salsa (Mild), Tomatillo-Green C...</td>\n      <td>$32.94</td>\n    </tr>\n    <tr>\n      <th>1</th>\n      <td>445</td>\n      <td>193</td>\n      <td>3</td>\n      <td>Bowl</td>\n      <td>[Braised Carnitas, Pinto Beans, [Sour Cream, C...</td>\n      <td>$22.20</td>\n    </tr>\n    <tr>\n      <th>2</th>\n      <td>689</td>\n      <td>284</td>\n      <td>3</td>\n      <td>Canned Soft Drink</td>\n      <td>[Diet Coke]</td>\n      <td>$3.75</td>\n    </tr>\n    <tr>\n      <th>3</th>\n      <td>818</td>\n      <td>338</td>\n      <td>3</td>\n      <td>Bottled Water</td>\n      <td>NaN</td>\n      <td>$3.27</td>\n    </tr>\n    <tr>\n      <th>4</th>\n      <td>850</td>\n      <td>350</td>\n      <td>3</td>\n      <td>Canned Soft Drink</td>\n      <td>[Sprite]</td>\n      <td>$3.75</td>\n    </tr>\n  </tbody>\n</table>\n</div>"
     },
     "execution_count": 21,
     "metadata": {},
     "output_type": "execute_result"
    }
   ],
   "source": [
    "chipo_df[chipo_df['quantity']==3].head(5).reset_index()"
   ]
  },
  {
   "cell_type": "code",
   "execution_count": 8,
   "id": "2c1a298b",
   "metadata": {
    "pycharm": {
     "name": "#%%\n"
    }
   },
   "outputs": [],
   "source": [
    "#Q4. quantity, item_name 두 개의 컬럼으로 구성된 새로운 df를 정의해주세요 ^^"
   ]
  },
  {
   "cell_type": "code",
   "execution_count": 22,
   "id": "79bdfacb",
   "metadata": {
    "pycharm": {
     "name": "#%%\n"
    }
   },
   "outputs": [
    {
     "name": "stdout",
     "output_type": "stream",
     "text": [
      "      quantity                              item_name\n",
      "0            1           Chips and Fresh Tomato Salsa\n",
      "1            1                                   Izze\n",
      "2            1                       Nantucket Nectar\n",
      "3            1  Chips and Tomatillo-Green Chili Salsa\n",
      "4            2                           Chicken Bowl\n",
      "...        ...                                    ...\n",
      "4617         1                          Steak Burrito\n",
      "4618         1                          Steak Burrito\n",
      "4619         1                     Chicken Salad Bowl\n",
      "4620         1                     Chicken Salad Bowl\n",
      "4621         1                     Chicken Salad Bowl\n",
      "\n",
      "[4622 rows x 2 columns]\n"
     ]
    }
   ],
   "source": [
    "answer_q4 = chipo_df[['quantity', 'item_name']]\n",
    "print(answer_q4)"
   ]
  },
  {
   "cell_type": "code",
   "execution_count": 10,
   "id": "e521a77b",
   "metadata": {
    "pycharm": {
     "name": "#%%\n"
    }
   },
   "outputs": [],
   "source": [
    "## 난이도 상\n",
    "# Q5. item_price값에서 달러표시를 제거하고, float64로 데이터를 바꾸어\n",
    "# new_price라고 하는 컬럼값에 넣어서\n",
    "# chipo_df를 재정의 해보세요."
   ]
  },
  {
   "cell_type": "code",
   "execution_count": 34,
   "id": "81f89f4a",
   "metadata": {
    "pycharm": {
     "name": "#%%\n"
    }
   },
   "outputs": [
    {
     "name": "stdout",
     "output_type": "stream",
     "text": [
      "<class 'pandas.core.frame.DataFrame'>\n",
      "RangeIndex: 4622 entries, 0 to 4621\n",
      "Data columns (total 6 columns):\n",
      " #   Column              Non-Null Count  Dtype  \n",
      "---  ------              --------------  -----  \n",
      " 0   order_id            4622 non-null   int64  \n",
      " 1   quantity            4622 non-null   int64  \n",
      " 2   item_name           4622 non-null   object \n",
      " 3   choice_description  3376 non-null   object \n",
      " 4   item_price          4622 non-null   object \n",
      " 5   new_price           4622 non-null   float64\n",
      "dtypes: float64(1), int64(2), object(3)\n",
      "memory usage: 216.8+ KB\n"
     ]
    }
   ],
   "source": [
    "chipo_df['new_price'] = chipo_df.item_price.str[1:].astype('float64')\n",
    "chipo_df.head(5)\n",
    "chipo_df.info()"
   ]
  },
  {
   "cell_type": "code",
   "execution_count": 12,
   "id": "39376f80",
   "metadata": {
    "pycharm": {
     "name": "#%%\n"
    }
   },
   "outputs": [],
   "source": [
    "# Q6. new_price 컬럼이 5이하의 값을 갖는 df를 추출하고 \n",
    "# 전체 obs 개수를 구해보세요"
   ]
  },
  {
   "cell_type": "code",
   "execution_count": 37,
   "id": "b54e6808",
   "metadata": {
    "pycharm": {
     "name": "#%%\n"
    }
   },
   "outputs": [
    {
     "data": {
      "text/plain": "1652"
     },
     "execution_count": 37,
     "metadata": {},
     "output_type": "execute_result"
    }
   ],
   "source": [
    "chipo_df[chipo_df.new_price <= 5].shape[0]"
   ]
  },
  {
   "cell_type": "code",
   "execution_count": 15,
   "id": "1161e9c2",
   "metadata": {
    "pycharm": {
     "name": "#%%\n"
    }
   },
   "outputs": [],
   "source": [
    "# Q7. item_name 명이 Chicken Salad Bowl 인 df를 추출하고\n",
    "# index를 재정의해보세요"
   ]
  },
  {
   "cell_type": "code",
   "execution_count": 39,
   "id": "a1f44d4a",
   "metadata": {
    "pycharm": {
     "name": "#%%\n"
    }
   },
   "outputs": [
    {
     "data": {
      "text/plain": "     index  order_id  quantity           item_name  \\\n0       44        20         1  Chicken Salad Bowl   \n1      135        60         2  Chicken Salad Bowl   \n2      213        94         2  Chicken Salad Bowl   \n3      256       111         1  Chicken Salad Bowl   \n4      315       137         2  Chicken Salad Bowl   \n..     ...       ...       ...                 ...   \n105   4561      1813         2  Chicken Salad Bowl   \n106   4580      1822         1  Chicken Salad Bowl   \n107   4619      1834         1  Chicken Salad Bowl   \n108   4620      1834         1  Chicken Salad Bowl   \n109   4621      1834         1  Chicken Salad Bowl   \n\n                                    choice_description item_price  new_price  \n0    [Fresh Tomato Salsa, [Fajita Vegetables, Pinto...     $8.75        8.75  \n1    [Tomatillo Green Chili Salsa, [Sour Cream, Che...    $22.50       22.50  \n2    [Fresh Tomato Salsa, [Fajita Vegetables, Pinto...    $22.50       22.50  \n3    [Fresh Tomato Salsa, [Fajita Vegetables, Rice,...     $8.75        8.75  \n4              [Fresh Tomato Salsa, Fajita Vegetables]    $17.50       17.50  \n..                                                 ...        ...        ...  \n105  [Fresh Tomato Salsa, [Fajita Vegetables, Pinto...    $17.50       17.50  \n106  [Fresh Tomato Salsa, [Black Beans, Cheese, Gua...    $11.25       11.25  \n107  [Fresh Tomato Salsa, [Fajita Vegetables, Pinto...    $11.25       11.25  \n108  [Fresh Tomato Salsa, [Fajita Vegetables, Lettu...     $8.75        8.75  \n109  [Fresh Tomato Salsa, [Fajita Vegetables, Pinto...     $8.75        8.75  \n\n[110 rows x 7 columns]",
      "text/html": "<div>\n<style scoped>\n    .dataframe tbody tr th:only-of-type {\n        vertical-align: middle;\n    }\n\n    .dataframe tbody tr th {\n        vertical-align: top;\n    }\n\n    .dataframe thead th {\n        text-align: right;\n    }\n</style>\n<table border=\"1\" class=\"dataframe\">\n  <thead>\n    <tr style=\"text-align: right;\">\n      <th></th>\n      <th>index</th>\n      <th>order_id</th>\n      <th>quantity</th>\n      <th>item_name</th>\n      <th>choice_description</th>\n      <th>item_price</th>\n      <th>new_price</th>\n    </tr>\n  </thead>\n  <tbody>\n    <tr>\n      <th>0</th>\n      <td>44</td>\n      <td>20</td>\n      <td>1</td>\n      <td>Chicken Salad Bowl</td>\n      <td>[Fresh Tomato Salsa, [Fajita Vegetables, Pinto...</td>\n      <td>$8.75</td>\n      <td>8.75</td>\n    </tr>\n    <tr>\n      <th>1</th>\n      <td>135</td>\n      <td>60</td>\n      <td>2</td>\n      <td>Chicken Salad Bowl</td>\n      <td>[Tomatillo Green Chili Salsa, [Sour Cream, Che...</td>\n      <td>$22.50</td>\n      <td>22.50</td>\n    </tr>\n    <tr>\n      <th>2</th>\n      <td>213</td>\n      <td>94</td>\n      <td>2</td>\n      <td>Chicken Salad Bowl</td>\n      <td>[Fresh Tomato Salsa, [Fajita Vegetables, Pinto...</td>\n      <td>$22.50</td>\n      <td>22.50</td>\n    </tr>\n    <tr>\n      <th>3</th>\n      <td>256</td>\n      <td>111</td>\n      <td>1</td>\n      <td>Chicken Salad Bowl</td>\n      <td>[Fresh Tomato Salsa, [Fajita Vegetables, Rice,...</td>\n      <td>$8.75</td>\n      <td>8.75</td>\n    </tr>\n    <tr>\n      <th>4</th>\n      <td>315</td>\n      <td>137</td>\n      <td>2</td>\n      <td>Chicken Salad Bowl</td>\n      <td>[Fresh Tomato Salsa, Fajita Vegetables]</td>\n      <td>$17.50</td>\n      <td>17.50</td>\n    </tr>\n    <tr>\n      <th>...</th>\n      <td>...</td>\n      <td>...</td>\n      <td>...</td>\n      <td>...</td>\n      <td>...</td>\n      <td>...</td>\n      <td>...</td>\n    </tr>\n    <tr>\n      <th>105</th>\n      <td>4561</td>\n      <td>1813</td>\n      <td>2</td>\n      <td>Chicken Salad Bowl</td>\n      <td>[Fresh Tomato Salsa, [Fajita Vegetables, Pinto...</td>\n      <td>$17.50</td>\n      <td>17.50</td>\n    </tr>\n    <tr>\n      <th>106</th>\n      <td>4580</td>\n      <td>1822</td>\n      <td>1</td>\n      <td>Chicken Salad Bowl</td>\n      <td>[Fresh Tomato Salsa, [Black Beans, Cheese, Gua...</td>\n      <td>$11.25</td>\n      <td>11.25</td>\n    </tr>\n    <tr>\n      <th>107</th>\n      <td>4619</td>\n      <td>1834</td>\n      <td>1</td>\n      <td>Chicken Salad Bowl</td>\n      <td>[Fresh Tomato Salsa, [Fajita Vegetables, Pinto...</td>\n      <td>$11.25</td>\n      <td>11.25</td>\n    </tr>\n    <tr>\n      <th>108</th>\n      <td>4620</td>\n      <td>1834</td>\n      <td>1</td>\n      <td>Chicken Salad Bowl</td>\n      <td>[Fresh Tomato Salsa, [Fajita Vegetables, Lettu...</td>\n      <td>$8.75</td>\n      <td>8.75</td>\n    </tr>\n    <tr>\n      <th>109</th>\n      <td>4621</td>\n      <td>1834</td>\n      <td>1</td>\n      <td>Chicken Salad Bowl</td>\n      <td>[Fresh Tomato Salsa, [Fajita Vegetables, Pinto...</td>\n      <td>$8.75</td>\n      <td>8.75</td>\n    </tr>\n  </tbody>\n</table>\n<p>110 rows × 7 columns</p>\n</div>"
     },
     "execution_count": 39,
     "metadata": {},
     "output_type": "execute_result"
    }
   ],
   "source": [
    "chipo_df[chipo_df.item_name == 'Chicken Salad Bowl'].reset_index()"
   ]
  },
  {
   "cell_type": "code",
   "execution_count": 16,
   "id": "87cbb165",
   "metadata": {
    "pycharm": {
     "name": "#%%\n"
    }
   },
   "outputs": [],
   "source": [
    "# Q8. new_price 값이 9이하이고 item_name값이 Chicken Salad Bowl인 df\n",
    "# 를 추출해보세요."
   ]
  },
  {
   "cell_type": "code",
   "execution_count": 43,
   "id": "60a22d5a",
   "metadata": {
    "pycharm": {
     "name": "#%%\n"
    }
   },
   "outputs": [
    {
     "data": {
      "text/plain": "      order_id  quantity           item_name  \\\n44          20         1  Chicken Salad Bowl   \n256        111         1  Chicken Salad Bowl   \n526        220         1  Chicken Salad Bowl   \n528        221         1  Chicken Salad Bowl   \n529        221         1  Chicken Salad Bowl   \n568        234         1  Chicken Salad Bowl   \n585        240         1  Chicken Salad Bowl   \n693        286         1  Chicken Salad Bowl   \n702        289         1  Chicken Salad Bowl   \n762        314         1  Chicken Salad Bowl   \n1109       458         1  Chicken Salad Bowl   \n1460       592         1  Chicken Salad Bowl   \n1471       598         1  Chicken Salad Bowl   \n1483       602         1  Chicken Salad Bowl   \n1547       628         1  Chicken Salad Bowl   \n1601       649         1  Chicken Salad Bowl   \n1621       654         1  Chicken Salad Bowl   \n1756       709         1  Chicken Salad Bowl   \n1977       798         1  Chicken Salad Bowl   \n2031       818         1  Chicken Salad Bowl   \n2113       850         1  Chicken Salad Bowl   \n2224       896         1  Chicken Salad Bowl   \n2314       926         1  Chicken Salad Bowl   \n2728      1083         1  Chicken Salad Bowl   \n2858      1136         1  Chicken Salad Bowl   \n2883      1145         1  Chicken Salad Bowl   \n2897      1152         1  Chicken Salad Bowl   \n2989      1189         1  Chicken Salad Bowl   \n3033      1206         1  Chicken Salad Bowl   \n3069      1222         1  Chicken Salad Bowl   \n3117      1243         1  Chicken Salad Bowl   \n3259      1305         1  Chicken Salad Bowl   \n3261      1305         1  Chicken Salad Bowl   \n3310      1327         1  Chicken Salad Bowl   \n3315      1329         1  Chicken Salad Bowl   \n3381      1357         1  Chicken Salad Bowl   \n3411      1368         1  Chicken Salad Bowl   \n3623      1450         1  Chicken Salad Bowl   \n3656      1461         1  Chicken Salad Bowl   \n3706      1483         1  Chicken Salad Bowl   \n3712      1483         1  Chicken Salad Bowl   \n3790      1517         1  Chicken Salad Bowl   \n3798      1521         1  Chicken Salad Bowl   \n3974      1592         1  Chicken Salad Bowl   \n3997      1601         1  Chicken Salad Bowl   \n4012      1606         1  Chicken Salad Bowl   \n4035      1615         1  Chicken Salad Bowl   \n4064      1627         1  Chicken Salad Bowl   \n4205      1679         1  Chicken Salad Bowl   \n4207      1679         1  Chicken Salad Bowl   \n4333      1730         1  Chicken Salad Bowl   \n4352      1738         1  Chicken Salad Bowl   \n4439      1769         1  Chicken Salad Bowl   \n4520      1797         1  Chicken Salad Bowl   \n4620      1834         1  Chicken Salad Bowl   \n4621      1834         1  Chicken Salad Bowl   \n\n                                     choice_description item_price  new_price  \n44    [Fresh Tomato Salsa, [Fajita Vegetables, Pinto...     $8.75        8.75  \n256   [Fresh Tomato Salsa, [Fajita Vegetables, Rice,...     $8.75        8.75  \n526   [Roasted Chili Corn Salsa, [Black Beans, Sour ...     $8.75        8.75  \n528   [Tomatillo Green Chili Salsa, [Fajita Vegetabl...     $8.75        8.75  \n529   [Tomatillo Green Chili Salsa, [Fajita Vegetabl...     $8.75        8.75  \n568             [Fresh Tomato Salsa, Fajita Vegetables]     $8.75        8.75  \n585             [Fresh Tomato Salsa, Fajita Vegetables]     $8.75        8.75  \n693   [Fresh Tomato Salsa, [Sour Cream, Cheese, Lett...     $8.75        8.75  \n702   [Tomatillo Red Chili Salsa, [Black Beans, Chee...     $8.75        8.75  \n762   [Fresh Tomato Salsa, [Fajita Vegetables, Lettu...     $8.75        8.75  \n1109  [Fresh Tomato Salsa, [Fajita Vegetables, Rice,...     $8.75        8.75  \n1460                      [Fresh Tomato Salsa, Lettuce]     $8.75        8.75  \n1471  [Roasted Chili Corn Salsa, [Fajita Vegetables,...     $8.75        8.75  \n1483  [Fresh Tomato Salsa, [Fajita Vegetables, Chees...     $8.75        8.75  \n1547  [Fresh Tomato Salsa, [Fajita Vegetables, Rice,...     $8.75        8.75  \n1601  [Roasted Chili Corn Salsa, [Fajita Vegetables,...     $8.75        8.75  \n1621  [Roasted Chili Corn Salsa, [Fajita Vegetables,...     $8.75        8.75  \n1756  [Fresh Tomato Salsa, [Fajita Vegetables, Sour ...     $8.75        8.75  \n1977  [Fresh Tomato Salsa, [Fajita Vegetables, Sour ...     $8.75        8.75  \n2031  [Roasted Chili Corn Salsa, [Rice, Black Beans,...     $8.75        8.75  \n2113  [Fresh Tomato Salsa, [Rice, Black Beans, Cheese]]     $8.75        8.75  \n2224  [Fresh Tomato Salsa, [Pinto Beans, Sour Cream,...     $8.75        8.75  \n2314     [Roasted Chili Corn Salsa, [Rice, Sour Cream]]     $8.75        8.75  \n2728      [Roasted Chili Corn Salsa, [Cheese, Lettuce]]     $8.75        8.75  \n2858  [Fresh Tomato Salsa, [Fajita Vegetables, Chees...     $8.75        8.75  \n2883  [Roasted Chili Corn Salsa, [Black Beans, Sour ...     $8.75        8.75  \n2897                 [Roasted Chili Corn Salsa, Cheese]     $8.75        8.75  \n2989  [Fresh Tomato Salsa, [Fajita Vegetables, Rice,...     $8.75        8.75  \n3033            [Fresh Tomato Salsa, [Cheese, Lettuce]]     $8.75        8.75  \n3069  [Fresh Tomato Salsa, [Fajita Vegetables, Black...     $8.75        8.75  \n3117  [Roasted Chili Corn Salsa, [Rice, Pinto Beans,...     $8.75        8.75  \n3259  [Fresh Tomato Salsa, [Fajita Vegetables, Pinto...     $8.75        8.75  \n3261  [Fresh Tomato Salsa, [Fajita Vegetables, Lettu...     $8.75        8.75  \n3310                               [Fresh Tomato Salsa]     $8.75        8.75  \n3315              [Fresh Tomato Salsa, [Rice, Lettuce]]     $8.75        8.75  \n3381            [Fresh Tomato Salsa, [Cheese, Lettuce]]     $8.75        8.75  \n3411       [Fresh Tomato Salsa, [Pinto Beans, Lettuce]]     $8.75        8.75  \n3623  [Roasted Chili Corn Salsa, [Rice, Pinto Beans,...     $8.75        8.75  \n3656  [Tomatillo Green Chili Salsa, [Fajita Vegetabl...     $8.75        8.75  \n3706  [Roasted Chili Corn Salsa, [Pinto Beans, Chees...     $8.75        8.75  \n3712  [Roasted Chili Corn Salsa, [Black Beans, Chees...     $8.75        8.75  \n3790  [Fresh Tomato Salsa, [Fajita Vegetables, Chees...     $8.75        8.75  \n3798  [Fresh Tomato Salsa, [Fajita Vegetables, Lettu...     $8.75        8.75  \n3974  [Fresh Tomato Salsa, [Rice, Pinto Beans, Lettu...     $8.75        8.75  \n3997  [Tomatillo Green Chili Salsa, [Fajita Vegetabl...     $8.75        8.75  \n4012                               [Fresh Tomato Salsa]     $8.75        8.75  \n4035  [Fresh Tomato Salsa, [Fajita Vegetables, Chees...     $8.75        8.75  \n4064  [Fresh Tomato Salsa, [Rice, Black Beans, Chees...     $8.75        8.75  \n4205  [Roasted Chili Corn Salsa, [Black Beans, Chees...     $8.75        8.75  \n4207  [Fresh Tomato Salsa, [Black Beans, Cheese, Sou...     $8.75        8.75  \n4333        [Tomatillo Red Chili Salsa, [Rice, Cheese]]     $8.75        8.75  \n4352  [Tomatillo Red Chili Salsa, [Rice, Fajita Vege...     $8.75        8.75  \n4439  [Fresh Tomato Salsa, [Rice, Black Beans, Chees...     $8.75        8.75  \n4520                      [Fresh Tomato Salsa, Lettuce]     $8.75        8.75  \n4620  [Fresh Tomato Salsa, [Fajita Vegetables, Lettu...     $8.75        8.75  \n4621  [Fresh Tomato Salsa, [Fajita Vegetables, Pinto...     $8.75        8.75  ",
      "text/html": "<div>\n<style scoped>\n    .dataframe tbody tr th:only-of-type {\n        vertical-align: middle;\n    }\n\n    .dataframe tbody tr th {\n        vertical-align: top;\n    }\n\n    .dataframe thead th {\n        text-align: right;\n    }\n</style>\n<table border=\"1\" class=\"dataframe\">\n  <thead>\n    <tr style=\"text-align: right;\">\n      <th></th>\n      <th>order_id</th>\n      <th>quantity</th>\n      <th>item_name</th>\n      <th>choice_description</th>\n      <th>item_price</th>\n      <th>new_price</th>\n    </tr>\n  </thead>\n  <tbody>\n    <tr>\n      <th>44</th>\n      <td>20</td>\n      <td>1</td>\n      <td>Chicken Salad Bowl</td>\n      <td>[Fresh Tomato Salsa, [Fajita Vegetables, Pinto...</td>\n      <td>$8.75</td>\n      <td>8.75</td>\n    </tr>\n    <tr>\n      <th>256</th>\n      <td>111</td>\n      <td>1</td>\n      <td>Chicken Salad Bowl</td>\n      <td>[Fresh Tomato Salsa, [Fajita Vegetables, Rice,...</td>\n      <td>$8.75</td>\n      <td>8.75</td>\n    </tr>\n    <tr>\n      <th>526</th>\n      <td>220</td>\n      <td>1</td>\n      <td>Chicken Salad Bowl</td>\n      <td>[Roasted Chili Corn Salsa, [Black Beans, Sour ...</td>\n      <td>$8.75</td>\n      <td>8.75</td>\n    </tr>\n    <tr>\n      <th>528</th>\n      <td>221</td>\n      <td>1</td>\n      <td>Chicken Salad Bowl</td>\n      <td>[Tomatillo Green Chili Salsa, [Fajita Vegetabl...</td>\n      <td>$8.75</td>\n      <td>8.75</td>\n    </tr>\n    <tr>\n      <th>529</th>\n      <td>221</td>\n      <td>1</td>\n      <td>Chicken Salad Bowl</td>\n      <td>[Tomatillo Green Chili Salsa, [Fajita Vegetabl...</td>\n      <td>$8.75</td>\n      <td>8.75</td>\n    </tr>\n    <tr>\n      <th>568</th>\n      <td>234</td>\n      <td>1</td>\n      <td>Chicken Salad Bowl</td>\n      <td>[Fresh Tomato Salsa, Fajita Vegetables]</td>\n      <td>$8.75</td>\n      <td>8.75</td>\n    </tr>\n    <tr>\n      <th>585</th>\n      <td>240</td>\n      <td>1</td>\n      <td>Chicken Salad Bowl</td>\n      <td>[Fresh Tomato Salsa, Fajita Vegetables]</td>\n      <td>$8.75</td>\n      <td>8.75</td>\n    </tr>\n    <tr>\n      <th>693</th>\n      <td>286</td>\n      <td>1</td>\n      <td>Chicken Salad Bowl</td>\n      <td>[Fresh Tomato Salsa, [Sour Cream, Cheese, Lett...</td>\n      <td>$8.75</td>\n      <td>8.75</td>\n    </tr>\n    <tr>\n      <th>702</th>\n      <td>289</td>\n      <td>1</td>\n      <td>Chicken Salad Bowl</td>\n      <td>[Tomatillo Red Chili Salsa, [Black Beans, Chee...</td>\n      <td>$8.75</td>\n      <td>8.75</td>\n    </tr>\n    <tr>\n      <th>762</th>\n      <td>314</td>\n      <td>1</td>\n      <td>Chicken Salad Bowl</td>\n      <td>[Fresh Tomato Salsa, [Fajita Vegetables, Lettu...</td>\n      <td>$8.75</td>\n      <td>8.75</td>\n    </tr>\n    <tr>\n      <th>1109</th>\n      <td>458</td>\n      <td>1</td>\n      <td>Chicken Salad Bowl</td>\n      <td>[Fresh Tomato Salsa, [Fajita Vegetables, Rice,...</td>\n      <td>$8.75</td>\n      <td>8.75</td>\n    </tr>\n    <tr>\n      <th>1460</th>\n      <td>592</td>\n      <td>1</td>\n      <td>Chicken Salad Bowl</td>\n      <td>[Fresh Tomato Salsa, Lettuce]</td>\n      <td>$8.75</td>\n      <td>8.75</td>\n    </tr>\n    <tr>\n      <th>1471</th>\n      <td>598</td>\n      <td>1</td>\n      <td>Chicken Salad Bowl</td>\n      <td>[Roasted Chili Corn Salsa, [Fajita Vegetables,...</td>\n      <td>$8.75</td>\n      <td>8.75</td>\n    </tr>\n    <tr>\n      <th>1483</th>\n      <td>602</td>\n      <td>1</td>\n      <td>Chicken Salad Bowl</td>\n      <td>[Fresh Tomato Salsa, [Fajita Vegetables, Chees...</td>\n      <td>$8.75</td>\n      <td>8.75</td>\n    </tr>\n    <tr>\n      <th>1547</th>\n      <td>628</td>\n      <td>1</td>\n      <td>Chicken Salad Bowl</td>\n      <td>[Fresh Tomato Salsa, [Fajita Vegetables, Rice,...</td>\n      <td>$8.75</td>\n      <td>8.75</td>\n    </tr>\n    <tr>\n      <th>1601</th>\n      <td>649</td>\n      <td>1</td>\n      <td>Chicken Salad Bowl</td>\n      <td>[Roasted Chili Corn Salsa, [Fajita Vegetables,...</td>\n      <td>$8.75</td>\n      <td>8.75</td>\n    </tr>\n    <tr>\n      <th>1621</th>\n      <td>654</td>\n      <td>1</td>\n      <td>Chicken Salad Bowl</td>\n      <td>[Roasted Chili Corn Salsa, [Fajita Vegetables,...</td>\n      <td>$8.75</td>\n      <td>8.75</td>\n    </tr>\n    <tr>\n      <th>1756</th>\n      <td>709</td>\n      <td>1</td>\n      <td>Chicken Salad Bowl</td>\n      <td>[Fresh Tomato Salsa, [Fajita Vegetables, Sour ...</td>\n      <td>$8.75</td>\n      <td>8.75</td>\n    </tr>\n    <tr>\n      <th>1977</th>\n      <td>798</td>\n      <td>1</td>\n      <td>Chicken Salad Bowl</td>\n      <td>[Fresh Tomato Salsa, [Fajita Vegetables, Sour ...</td>\n      <td>$8.75</td>\n      <td>8.75</td>\n    </tr>\n    <tr>\n      <th>2031</th>\n      <td>818</td>\n      <td>1</td>\n      <td>Chicken Salad Bowl</td>\n      <td>[Roasted Chili Corn Salsa, [Rice, Black Beans,...</td>\n      <td>$8.75</td>\n      <td>8.75</td>\n    </tr>\n    <tr>\n      <th>2113</th>\n      <td>850</td>\n      <td>1</td>\n      <td>Chicken Salad Bowl</td>\n      <td>[Fresh Tomato Salsa, [Rice, Black Beans, Cheese]]</td>\n      <td>$8.75</td>\n      <td>8.75</td>\n    </tr>\n    <tr>\n      <th>2224</th>\n      <td>896</td>\n      <td>1</td>\n      <td>Chicken Salad Bowl</td>\n      <td>[Fresh Tomato Salsa, [Pinto Beans, Sour Cream,...</td>\n      <td>$8.75</td>\n      <td>8.75</td>\n    </tr>\n    <tr>\n      <th>2314</th>\n      <td>926</td>\n      <td>1</td>\n      <td>Chicken Salad Bowl</td>\n      <td>[Roasted Chili Corn Salsa, [Rice, Sour Cream]]</td>\n      <td>$8.75</td>\n      <td>8.75</td>\n    </tr>\n    <tr>\n      <th>2728</th>\n      <td>1083</td>\n      <td>1</td>\n      <td>Chicken Salad Bowl</td>\n      <td>[Roasted Chili Corn Salsa, [Cheese, Lettuce]]</td>\n      <td>$8.75</td>\n      <td>8.75</td>\n    </tr>\n    <tr>\n      <th>2858</th>\n      <td>1136</td>\n      <td>1</td>\n      <td>Chicken Salad Bowl</td>\n      <td>[Fresh Tomato Salsa, [Fajita Vegetables, Chees...</td>\n      <td>$8.75</td>\n      <td>8.75</td>\n    </tr>\n    <tr>\n      <th>2883</th>\n      <td>1145</td>\n      <td>1</td>\n      <td>Chicken Salad Bowl</td>\n      <td>[Roasted Chili Corn Salsa, [Black Beans, Sour ...</td>\n      <td>$8.75</td>\n      <td>8.75</td>\n    </tr>\n    <tr>\n      <th>2897</th>\n      <td>1152</td>\n      <td>1</td>\n      <td>Chicken Salad Bowl</td>\n      <td>[Roasted Chili Corn Salsa, Cheese]</td>\n      <td>$8.75</td>\n      <td>8.75</td>\n    </tr>\n    <tr>\n      <th>2989</th>\n      <td>1189</td>\n      <td>1</td>\n      <td>Chicken Salad Bowl</td>\n      <td>[Fresh Tomato Salsa, [Fajita Vegetables, Rice,...</td>\n      <td>$8.75</td>\n      <td>8.75</td>\n    </tr>\n    <tr>\n      <th>3033</th>\n      <td>1206</td>\n      <td>1</td>\n      <td>Chicken Salad Bowl</td>\n      <td>[Fresh Tomato Salsa, [Cheese, Lettuce]]</td>\n      <td>$8.75</td>\n      <td>8.75</td>\n    </tr>\n    <tr>\n      <th>3069</th>\n      <td>1222</td>\n      <td>1</td>\n      <td>Chicken Salad Bowl</td>\n      <td>[Fresh Tomato Salsa, [Fajita Vegetables, Black...</td>\n      <td>$8.75</td>\n      <td>8.75</td>\n    </tr>\n    <tr>\n      <th>3117</th>\n      <td>1243</td>\n      <td>1</td>\n      <td>Chicken Salad Bowl</td>\n      <td>[Roasted Chili Corn Salsa, [Rice, Pinto Beans,...</td>\n      <td>$8.75</td>\n      <td>8.75</td>\n    </tr>\n    <tr>\n      <th>3259</th>\n      <td>1305</td>\n      <td>1</td>\n      <td>Chicken Salad Bowl</td>\n      <td>[Fresh Tomato Salsa, [Fajita Vegetables, Pinto...</td>\n      <td>$8.75</td>\n      <td>8.75</td>\n    </tr>\n    <tr>\n      <th>3261</th>\n      <td>1305</td>\n      <td>1</td>\n      <td>Chicken Salad Bowl</td>\n      <td>[Fresh Tomato Salsa, [Fajita Vegetables, Lettu...</td>\n      <td>$8.75</td>\n      <td>8.75</td>\n    </tr>\n    <tr>\n      <th>3310</th>\n      <td>1327</td>\n      <td>1</td>\n      <td>Chicken Salad Bowl</td>\n      <td>[Fresh Tomato Salsa]</td>\n      <td>$8.75</td>\n      <td>8.75</td>\n    </tr>\n    <tr>\n      <th>3315</th>\n      <td>1329</td>\n      <td>1</td>\n      <td>Chicken Salad Bowl</td>\n      <td>[Fresh Tomato Salsa, [Rice, Lettuce]]</td>\n      <td>$8.75</td>\n      <td>8.75</td>\n    </tr>\n    <tr>\n      <th>3381</th>\n      <td>1357</td>\n      <td>1</td>\n      <td>Chicken Salad Bowl</td>\n      <td>[Fresh Tomato Salsa, [Cheese, Lettuce]]</td>\n      <td>$8.75</td>\n      <td>8.75</td>\n    </tr>\n    <tr>\n      <th>3411</th>\n      <td>1368</td>\n      <td>1</td>\n      <td>Chicken Salad Bowl</td>\n      <td>[Fresh Tomato Salsa, [Pinto Beans, Lettuce]]</td>\n      <td>$8.75</td>\n      <td>8.75</td>\n    </tr>\n    <tr>\n      <th>3623</th>\n      <td>1450</td>\n      <td>1</td>\n      <td>Chicken Salad Bowl</td>\n      <td>[Roasted Chili Corn Salsa, [Rice, Pinto Beans,...</td>\n      <td>$8.75</td>\n      <td>8.75</td>\n    </tr>\n    <tr>\n      <th>3656</th>\n      <td>1461</td>\n      <td>1</td>\n      <td>Chicken Salad Bowl</td>\n      <td>[Tomatillo Green Chili Salsa, [Fajita Vegetabl...</td>\n      <td>$8.75</td>\n      <td>8.75</td>\n    </tr>\n    <tr>\n      <th>3706</th>\n      <td>1483</td>\n      <td>1</td>\n      <td>Chicken Salad Bowl</td>\n      <td>[Roasted Chili Corn Salsa, [Pinto Beans, Chees...</td>\n      <td>$8.75</td>\n      <td>8.75</td>\n    </tr>\n    <tr>\n      <th>3712</th>\n      <td>1483</td>\n      <td>1</td>\n      <td>Chicken Salad Bowl</td>\n      <td>[Roasted Chili Corn Salsa, [Black Beans, Chees...</td>\n      <td>$8.75</td>\n      <td>8.75</td>\n    </tr>\n    <tr>\n      <th>3790</th>\n      <td>1517</td>\n      <td>1</td>\n      <td>Chicken Salad Bowl</td>\n      <td>[Fresh Tomato Salsa, [Fajita Vegetables, Chees...</td>\n      <td>$8.75</td>\n      <td>8.75</td>\n    </tr>\n    <tr>\n      <th>3798</th>\n      <td>1521</td>\n      <td>1</td>\n      <td>Chicken Salad Bowl</td>\n      <td>[Fresh Tomato Salsa, [Fajita Vegetables, Lettu...</td>\n      <td>$8.75</td>\n      <td>8.75</td>\n    </tr>\n    <tr>\n      <th>3974</th>\n      <td>1592</td>\n      <td>1</td>\n      <td>Chicken Salad Bowl</td>\n      <td>[Fresh Tomato Salsa, [Rice, Pinto Beans, Lettu...</td>\n      <td>$8.75</td>\n      <td>8.75</td>\n    </tr>\n    <tr>\n      <th>3997</th>\n      <td>1601</td>\n      <td>1</td>\n      <td>Chicken Salad Bowl</td>\n      <td>[Tomatillo Green Chili Salsa, [Fajita Vegetabl...</td>\n      <td>$8.75</td>\n      <td>8.75</td>\n    </tr>\n    <tr>\n      <th>4012</th>\n      <td>1606</td>\n      <td>1</td>\n      <td>Chicken Salad Bowl</td>\n      <td>[Fresh Tomato Salsa]</td>\n      <td>$8.75</td>\n      <td>8.75</td>\n    </tr>\n    <tr>\n      <th>4035</th>\n      <td>1615</td>\n      <td>1</td>\n      <td>Chicken Salad Bowl</td>\n      <td>[Fresh Tomato Salsa, [Fajita Vegetables, Chees...</td>\n      <td>$8.75</td>\n      <td>8.75</td>\n    </tr>\n    <tr>\n      <th>4064</th>\n      <td>1627</td>\n      <td>1</td>\n      <td>Chicken Salad Bowl</td>\n      <td>[Fresh Tomato Salsa, [Rice, Black Beans, Chees...</td>\n      <td>$8.75</td>\n      <td>8.75</td>\n    </tr>\n    <tr>\n      <th>4205</th>\n      <td>1679</td>\n      <td>1</td>\n      <td>Chicken Salad Bowl</td>\n      <td>[Roasted Chili Corn Salsa, [Black Beans, Chees...</td>\n      <td>$8.75</td>\n      <td>8.75</td>\n    </tr>\n    <tr>\n      <th>4207</th>\n      <td>1679</td>\n      <td>1</td>\n      <td>Chicken Salad Bowl</td>\n      <td>[Fresh Tomato Salsa, [Black Beans, Cheese, Sou...</td>\n      <td>$8.75</td>\n      <td>8.75</td>\n    </tr>\n    <tr>\n      <th>4333</th>\n      <td>1730</td>\n      <td>1</td>\n      <td>Chicken Salad Bowl</td>\n      <td>[Tomatillo Red Chili Salsa, [Rice, Cheese]]</td>\n      <td>$8.75</td>\n      <td>8.75</td>\n    </tr>\n    <tr>\n      <th>4352</th>\n      <td>1738</td>\n      <td>1</td>\n      <td>Chicken Salad Bowl</td>\n      <td>[Tomatillo Red Chili Salsa, [Rice, Fajita Vege...</td>\n      <td>$8.75</td>\n      <td>8.75</td>\n    </tr>\n    <tr>\n      <th>4439</th>\n      <td>1769</td>\n      <td>1</td>\n      <td>Chicken Salad Bowl</td>\n      <td>[Fresh Tomato Salsa, [Rice, Black Beans, Chees...</td>\n      <td>$8.75</td>\n      <td>8.75</td>\n    </tr>\n    <tr>\n      <th>4520</th>\n      <td>1797</td>\n      <td>1</td>\n      <td>Chicken Salad Bowl</td>\n      <td>[Fresh Tomato Salsa, Lettuce]</td>\n      <td>$8.75</td>\n      <td>8.75</td>\n    </tr>\n    <tr>\n      <th>4620</th>\n      <td>1834</td>\n      <td>1</td>\n      <td>Chicken Salad Bowl</td>\n      <td>[Fresh Tomato Salsa, [Fajita Vegetables, Lettu...</td>\n      <td>$8.75</td>\n      <td>8.75</td>\n    </tr>\n    <tr>\n      <th>4621</th>\n      <td>1834</td>\n      <td>1</td>\n      <td>Chicken Salad Bowl</td>\n      <td>[Fresh Tomato Salsa, [Fajita Vegetables, Pinto...</td>\n      <td>$8.75</td>\n      <td>8.75</td>\n    </tr>\n  </tbody>\n</table>\n</div>"
     },
     "execution_count": 43,
     "metadata": {},
     "output_type": "execute_result"
    }
   ],
   "source": [
    "# chipo_df[chipo_df.new_price <=9 & chipo_df.item_name == 'Chicken Salad Bowl']\n",
    "chipo_df[(chipo_df.item_name == 'Chicken Salad Bowl') & (chipo_df.new_price <=9)]"
   ]
  },
  {
   "cell_type": "code",
   "execution_count": 17,
   "id": "38ceaad6",
   "metadata": {
    "pycharm": {
     "name": "#%%\n"
    }
   },
   "outputs": [],
   "source": [
    "# Q9. chipo_df의 new_price 컬럼 값을 오름차순 :: 기억하자 ascending!!!\n",
    "# 으로 정렬하고 index를 재정의해보세요."
   ]
  },
  {
   "cell_type": "code",
   "execution_count": 44,
   "id": "c2a8271c",
   "metadata": {
    "pycharm": {
     "name": "#%%\n"
    }
   },
   "outputs": [
    {
     "data": {
      "text/plain": "      order_id  quantity                     item_name  \\\n1140       471         1                 Bottled Water   \n821        338         1                   Canned Soda   \n3926      1575         1                   Canned Soda   \n107         47         1                   Canned Soda   \n2562      1014         1                   Canned Soda   \n...        ...       ...                           ...   \n3601      1443         3                Veggie Burrito   \n3602      1443         4               Chicken Burrito   \n1254       511         4               Chicken Burrito   \n3480      1398         3                 Carnitas Bowl   \n3598      1443        15  Chips and Fresh Tomato Salsa   \n\n                                     choice_description item_price  new_price  \n1140                                                NaN     $1.09        1.09  \n821                                         [Coca Cola]     $1.09        1.09  \n3926                                       [Dr. Pepper]     $1.09        1.09  \n107                                        [Dr. Pepper]     $1.09        1.09  \n2562                                        [Coca Cola]     $1.09        1.09  \n...                                                 ...        ...        ...  \n3601  [Fresh Tomato Salsa, [Fajita Vegetables, Rice,...    $33.75       33.75  \n3602  [Fresh Tomato Salsa, [Rice, Black Beans, Chees...    $35.00       35.00  \n1254  [Fresh Tomato Salsa, [Fajita Vegetables, Rice,...    $35.00       35.00  \n3480  [Roasted Chili Corn Salsa, [Fajita Vegetables,...    $35.25       35.25  \n3598                                                NaN    $44.25       44.25  \n\n[4622 rows x 6 columns]",
      "text/html": "<div>\n<style scoped>\n    .dataframe tbody tr th:only-of-type {\n        vertical-align: middle;\n    }\n\n    .dataframe tbody tr th {\n        vertical-align: top;\n    }\n\n    .dataframe thead th {\n        text-align: right;\n    }\n</style>\n<table border=\"1\" class=\"dataframe\">\n  <thead>\n    <tr style=\"text-align: right;\">\n      <th></th>\n      <th>order_id</th>\n      <th>quantity</th>\n      <th>item_name</th>\n      <th>choice_description</th>\n      <th>item_price</th>\n      <th>new_price</th>\n    </tr>\n  </thead>\n  <tbody>\n    <tr>\n      <th>1140</th>\n      <td>471</td>\n      <td>1</td>\n      <td>Bottled Water</td>\n      <td>NaN</td>\n      <td>$1.09</td>\n      <td>1.09</td>\n    </tr>\n    <tr>\n      <th>821</th>\n      <td>338</td>\n      <td>1</td>\n      <td>Canned Soda</td>\n      <td>[Coca Cola]</td>\n      <td>$1.09</td>\n      <td>1.09</td>\n    </tr>\n    <tr>\n      <th>3926</th>\n      <td>1575</td>\n      <td>1</td>\n      <td>Canned Soda</td>\n      <td>[Dr. Pepper]</td>\n      <td>$1.09</td>\n      <td>1.09</td>\n    </tr>\n    <tr>\n      <th>107</th>\n      <td>47</td>\n      <td>1</td>\n      <td>Canned Soda</td>\n      <td>[Dr. Pepper]</td>\n      <td>$1.09</td>\n      <td>1.09</td>\n    </tr>\n    <tr>\n      <th>2562</th>\n      <td>1014</td>\n      <td>1</td>\n      <td>Canned Soda</td>\n      <td>[Coca Cola]</td>\n      <td>$1.09</td>\n      <td>1.09</td>\n    </tr>\n    <tr>\n      <th>...</th>\n      <td>...</td>\n      <td>...</td>\n      <td>...</td>\n      <td>...</td>\n      <td>...</td>\n      <td>...</td>\n    </tr>\n    <tr>\n      <th>3601</th>\n      <td>1443</td>\n      <td>3</td>\n      <td>Veggie Burrito</td>\n      <td>[Fresh Tomato Salsa, [Fajita Vegetables, Rice,...</td>\n      <td>$33.75</td>\n      <td>33.75</td>\n    </tr>\n    <tr>\n      <th>3602</th>\n      <td>1443</td>\n      <td>4</td>\n      <td>Chicken Burrito</td>\n      <td>[Fresh Tomato Salsa, [Rice, Black Beans, Chees...</td>\n      <td>$35.00</td>\n      <td>35.00</td>\n    </tr>\n    <tr>\n      <th>1254</th>\n      <td>511</td>\n      <td>4</td>\n      <td>Chicken Burrito</td>\n      <td>[Fresh Tomato Salsa, [Fajita Vegetables, Rice,...</td>\n      <td>$35.00</td>\n      <td>35.00</td>\n    </tr>\n    <tr>\n      <th>3480</th>\n      <td>1398</td>\n      <td>3</td>\n      <td>Carnitas Bowl</td>\n      <td>[Roasted Chili Corn Salsa, [Fajita Vegetables,...</td>\n      <td>$35.25</td>\n      <td>35.25</td>\n    </tr>\n    <tr>\n      <th>3598</th>\n      <td>1443</td>\n      <td>15</td>\n      <td>Chips and Fresh Tomato Salsa</td>\n      <td>NaN</td>\n      <td>$44.25</td>\n      <td>44.25</td>\n    </tr>\n  </tbody>\n</table>\n<p>4622 rows × 6 columns</p>\n</div>"
     },
     "execution_count": 44,
     "metadata": {},
     "output_type": "execute_result"
    }
   ],
   "source": [
    "chipo_df.sort_values(by = 'new_price', ascending=True)"
   ]
  },
  {
   "cell_type": "code",
   "execution_count": 18,
   "id": "6fd2084a",
   "metadata": {
    "pycharm": {
     "name": "#%%\n"
    }
   },
   "outputs": [],
   "source": [
    "# 난이도 중상\n",
    "# Q10. chipo_df의 item_name 컬럼 값 중에서 Chips를 포함하는 \n",
    "# 전체 경우의 데이터를 출력해보세요."
   ]
  },
  {
   "cell_type": "code",
   "execution_count": 47,
   "id": "7370f17d",
   "metadata": {
    "pycharm": {
     "name": "#%%\n"
    }
   },
   "outputs": [
    {
     "data": {
      "text/plain": "Chips and Guacamole                      479\nChips                                    211\nChips and Fresh Tomato Salsa             110\nSide of Chips                            101\nChips and Tomatillo Red Chili Salsa       48\nChips and Tomatillo Green Chili Salsa     43\nChips and Tomatillo-Green Chili Salsa     31\nChips and Roasted Chili Corn Salsa        22\nChips and Tomatillo-Red Chili Salsa       20\nChips and Roasted Chili-Corn Salsa        18\nChips and Mild Fresh Tomato Salsa          1\nName: item_name, dtype: int64"
     },
     "execution_count": 47,
     "metadata": {},
     "output_type": "execute_result"
    }
   ],
   "source": [
    "chipo_df[chipo_df.item_name.str.contains('Chips')]['item_name'].value_counts()"
   ]
  },
  {
   "cell_type": "code",
   "execution_count": 20,
   "id": "83a6dd11",
   "metadata": {
    "pycharm": {
     "name": "#%%\n"
    }
   },
   "outputs": [
    {
     "data": {
      "text/html": [
       "<div>\n",
       "<style scoped>\n",
       "    .dataframe tbody tr th:only-of-type {\n",
       "        vertical-align: middle;\n",
       "    }\n",
       "\n",
       "    .dataframe tbody tr th {\n",
       "        vertical-align: top;\n",
       "    }\n",
       "\n",
       "    .dataframe thead th {\n",
       "        text-align: right;\n",
       "    }\n",
       "</style>\n",
       "<table border=\"1\" class=\"dataframe\">\n",
       "  <thead>\n",
       "    <tr style=\"text-align: right;\">\n",
       "      <th></th>\n",
       "      <th>order_id</th>\n",
       "      <th>quantity</th>\n",
       "      <th>item_name</th>\n",
       "      <th>choice_description</th>\n",
       "      <th>item_price</th>\n",
       "    </tr>\n",
       "  </thead>\n",
       "  <tbody>\n",
       "    <tr>\n",
       "      <th>0</th>\n",
       "      <td>1</td>\n",
       "      <td>1</td>\n",
       "      <td>Chips and Fresh Tomato Salsa</td>\n",
       "      <td>NaN</td>\n",
       "      <td>$2.39</td>\n",
       "    </tr>\n",
       "    <tr>\n",
       "      <th>1</th>\n",
       "      <td>1</td>\n",
       "      <td>1</td>\n",
       "      <td>Izze</td>\n",
       "      <td>[Clementine]</td>\n",
       "      <td>$3.39</td>\n",
       "    </tr>\n",
       "  </tbody>\n",
       "</table>\n",
       "</div>"
      ],
      "text/plain": [
       "   order_id  quantity                     item_name choice_description  \\\n",
       "0         1         1  Chips and Fresh Tomato Salsa                NaN   \n",
       "1         1         1                          Izze       [Clementine]   \n",
       "\n",
       "  item_price  \n",
       "0     $2.39   \n",
       "1     $3.39   "
      ]
     },
     "execution_count": 20,
     "metadata": {},
     "output_type": "execute_result"
    }
   ],
   "source": [
    "chipo_df.head(2)"
   ]
  },
  {
   "cell_type": "code",
   "execution_count": null,
   "id": "10589770",
   "metadata": {
    "pycharm": {
     "name": "#%%\n"
    }
   },
   "outputs": [],
   "source": [
    "# Q11. chipo_df의 new_price 컬럼값에 따라 내림차순으로 정리하고\n",
    "# index를 재정의 해보세요"
   ]
  },
  {
   "cell_type": "code",
   "execution_count": 48,
   "id": "638df5f8",
   "metadata": {
    "pycharm": {
     "name": "#%%\n"
    }
   },
   "outputs": [
    {
     "data": {
      "text/plain": "      index  order_id  quantity                     item_name  \\\n0      3598      1443        15  Chips and Fresh Tomato Salsa   \n1      3480      1398         3                 Carnitas Bowl   \n2      1254       511         4               Chicken Burrito   \n3      3602      1443         4               Chicken Burrito   \n4      3601      1443         3                Veggie Burrito   \n...     ...       ...       ...                           ...   \n4617   3936      1578         1                   Canned Soda   \n4618   2922      1162         1                 Bottled Water   \n4619   1396       567         1                   Canned Soda   \n4620   2562      1014         1                   Canned Soda   \n4621   1457       591         1                   Canned Soda   \n\n                                     choice_description item_price  new_price  \n0                                                   NaN    $44.25       44.25  \n1     [Roasted Chili Corn Salsa, [Fajita Vegetables,...    $35.25       35.25  \n2     [Fresh Tomato Salsa, [Fajita Vegetables, Rice,...    $35.00       35.00  \n3     [Fresh Tomato Salsa, [Rice, Black Beans, Chees...    $35.00       35.00  \n4     [Fresh Tomato Salsa, [Fajita Vegetables, Rice,...    $33.75       33.75  \n...                                                 ...        ...        ...  \n4617                                  [Diet Dr. Pepper]     $1.09        1.09  \n4618                                                NaN     $1.09        1.09  \n4619                                        [Coca Cola]     $1.09        1.09  \n4620                                        [Coca Cola]     $1.09        1.09  \n4621                                           [Sprite]     $1.09        1.09  \n\n[4622 rows x 7 columns]",
      "text/html": "<div>\n<style scoped>\n    .dataframe tbody tr th:only-of-type {\n        vertical-align: middle;\n    }\n\n    .dataframe tbody tr th {\n        vertical-align: top;\n    }\n\n    .dataframe thead th {\n        text-align: right;\n    }\n</style>\n<table border=\"1\" class=\"dataframe\">\n  <thead>\n    <tr style=\"text-align: right;\">\n      <th></th>\n      <th>index</th>\n      <th>order_id</th>\n      <th>quantity</th>\n      <th>item_name</th>\n      <th>choice_description</th>\n      <th>item_price</th>\n      <th>new_price</th>\n    </tr>\n  </thead>\n  <tbody>\n    <tr>\n      <th>0</th>\n      <td>3598</td>\n      <td>1443</td>\n      <td>15</td>\n      <td>Chips and Fresh Tomato Salsa</td>\n      <td>NaN</td>\n      <td>$44.25</td>\n      <td>44.25</td>\n    </tr>\n    <tr>\n      <th>1</th>\n      <td>3480</td>\n      <td>1398</td>\n      <td>3</td>\n      <td>Carnitas Bowl</td>\n      <td>[Roasted Chili Corn Salsa, [Fajita Vegetables,...</td>\n      <td>$35.25</td>\n      <td>35.25</td>\n    </tr>\n    <tr>\n      <th>2</th>\n      <td>1254</td>\n      <td>511</td>\n      <td>4</td>\n      <td>Chicken Burrito</td>\n      <td>[Fresh Tomato Salsa, [Fajita Vegetables, Rice,...</td>\n      <td>$35.00</td>\n      <td>35.00</td>\n    </tr>\n    <tr>\n      <th>3</th>\n      <td>3602</td>\n      <td>1443</td>\n      <td>4</td>\n      <td>Chicken Burrito</td>\n      <td>[Fresh Tomato Salsa, [Rice, Black Beans, Chees...</td>\n      <td>$35.00</td>\n      <td>35.00</td>\n    </tr>\n    <tr>\n      <th>4</th>\n      <td>3601</td>\n      <td>1443</td>\n      <td>3</td>\n      <td>Veggie Burrito</td>\n      <td>[Fresh Tomato Salsa, [Fajita Vegetables, Rice,...</td>\n      <td>$33.75</td>\n      <td>33.75</td>\n    </tr>\n    <tr>\n      <th>...</th>\n      <td>...</td>\n      <td>...</td>\n      <td>...</td>\n      <td>...</td>\n      <td>...</td>\n      <td>...</td>\n      <td>...</td>\n    </tr>\n    <tr>\n      <th>4617</th>\n      <td>3936</td>\n      <td>1578</td>\n      <td>1</td>\n      <td>Canned Soda</td>\n      <td>[Diet Dr. Pepper]</td>\n      <td>$1.09</td>\n      <td>1.09</td>\n    </tr>\n    <tr>\n      <th>4618</th>\n      <td>2922</td>\n      <td>1162</td>\n      <td>1</td>\n      <td>Bottled Water</td>\n      <td>NaN</td>\n      <td>$1.09</td>\n      <td>1.09</td>\n    </tr>\n    <tr>\n      <th>4619</th>\n      <td>1396</td>\n      <td>567</td>\n      <td>1</td>\n      <td>Canned Soda</td>\n      <td>[Coca Cola]</td>\n      <td>$1.09</td>\n      <td>1.09</td>\n    </tr>\n    <tr>\n      <th>4620</th>\n      <td>2562</td>\n      <td>1014</td>\n      <td>1</td>\n      <td>Canned Soda</td>\n      <td>[Coca Cola]</td>\n      <td>$1.09</td>\n      <td>1.09</td>\n    </tr>\n    <tr>\n      <th>4621</th>\n      <td>1457</td>\n      <td>591</td>\n      <td>1</td>\n      <td>Canned Soda</td>\n      <td>[Sprite]</td>\n      <td>$1.09</td>\n      <td>1.09</td>\n    </tr>\n  </tbody>\n</table>\n<p>4622 rows × 7 columns</p>\n</div>"
     },
     "execution_count": 48,
     "metadata": {},
     "output_type": "execute_result"
    }
   ],
   "source": [
    "chipo_df.sort_values(by = 'new_price', ascending=False).reset_index()"
   ]
  },
  {
   "cell_type": "code",
   "execution_count": null,
   "id": "9e6f8ab3",
   "metadata": {
    "pycharm": {
     "name": "#%%\n"
    }
   },
   "outputs": [],
   "source": [
    "# Q12. chipo_df의 item_name의 column 값이 Steak Salad  또는 Burrito인\n",
    "# 데이터를 인덱싱해보세요."
   ]
  },
  {
   "cell_type": "code",
   "execution_count": 75,
   "id": "1923e521",
   "metadata": {
    "pycharm": {
     "name": "#%%\n"
    }
   },
   "outputs": [
    {
     "data": {
      "text/plain": "   index  order_id  quantity    item_name  \\\n0    510       214         1      Burrito   \n1    511       214         1      Burrito   \n2    519       217         1      Burrito   \n3    664       276         1  Steak Salad   \n4    675       279         1      Burrito   \n5    752       311         1  Steak Salad   \n6    759       313         1      Burrito   \n7    760       313         1      Burrito   \n8    893       369         1  Steak Salad   \n9   3502      1406         1  Steak Salad   \n\n                                  choice_description item_price  new_price  \n0  [Adobo-Marinated and Grilled Chicken, Pinto Be...     $7.40        7.40  \n1  [Braised Barbacoa, Vegetarian Black Beans, [So...     $7.40        7.40  \n2  [Braised Barbacoa, Pinto Beans, [Sour Cream, S...     $7.40        7.40  \n3  [Tomatillo-Red Chili Salsa (Hot), [Black Beans...     $8.99        8.99  \n4  [Adobo-Marinated and Grilled Chicken, [Sour Cr...     $7.40        7.40  \n5  [Tomatillo-Red Chili Salsa (Hot), [Black Beans...     $8.99        8.99  \n6  [White Rice, Adobo-Marinated and Grilled Steak...     $7.40        7.40  \n7  [White Rice, Adobo-Marinated and Grilled Steak...     $7.40        7.40  \n8  [Fresh Tomato Salsa (Mild), [Rice, Cheese, Sou...     $8.99        8.99  \n9                        [[Lettuce, Fajita Veggies]]     $8.69        8.69  ",
      "text/html": "<div>\n<style scoped>\n    .dataframe tbody tr th:only-of-type {\n        vertical-align: middle;\n    }\n\n    .dataframe tbody tr th {\n        vertical-align: top;\n    }\n\n    .dataframe thead th {\n        text-align: right;\n    }\n</style>\n<table border=\"1\" class=\"dataframe\">\n  <thead>\n    <tr style=\"text-align: right;\">\n      <th></th>\n      <th>index</th>\n      <th>order_id</th>\n      <th>quantity</th>\n      <th>item_name</th>\n      <th>choice_description</th>\n      <th>item_price</th>\n      <th>new_price</th>\n    </tr>\n  </thead>\n  <tbody>\n    <tr>\n      <th>0</th>\n      <td>510</td>\n      <td>214</td>\n      <td>1</td>\n      <td>Burrito</td>\n      <td>[Adobo-Marinated and Grilled Chicken, Pinto Be...</td>\n      <td>$7.40</td>\n      <td>7.40</td>\n    </tr>\n    <tr>\n      <th>1</th>\n      <td>511</td>\n      <td>214</td>\n      <td>1</td>\n      <td>Burrito</td>\n      <td>[Braised Barbacoa, Vegetarian Black Beans, [So...</td>\n      <td>$7.40</td>\n      <td>7.40</td>\n    </tr>\n    <tr>\n      <th>2</th>\n      <td>519</td>\n      <td>217</td>\n      <td>1</td>\n      <td>Burrito</td>\n      <td>[Braised Barbacoa, Pinto Beans, [Sour Cream, S...</td>\n      <td>$7.40</td>\n      <td>7.40</td>\n    </tr>\n    <tr>\n      <th>3</th>\n      <td>664</td>\n      <td>276</td>\n      <td>1</td>\n      <td>Steak Salad</td>\n      <td>[Tomatillo-Red Chili Salsa (Hot), [Black Beans...</td>\n      <td>$8.99</td>\n      <td>8.99</td>\n    </tr>\n    <tr>\n      <th>4</th>\n      <td>675</td>\n      <td>279</td>\n      <td>1</td>\n      <td>Burrito</td>\n      <td>[Adobo-Marinated and Grilled Chicken, [Sour Cr...</td>\n      <td>$7.40</td>\n      <td>7.40</td>\n    </tr>\n    <tr>\n      <th>5</th>\n      <td>752</td>\n      <td>311</td>\n      <td>1</td>\n      <td>Steak Salad</td>\n      <td>[Tomatillo-Red Chili Salsa (Hot), [Black Beans...</td>\n      <td>$8.99</td>\n      <td>8.99</td>\n    </tr>\n    <tr>\n      <th>6</th>\n      <td>759</td>\n      <td>313</td>\n      <td>1</td>\n      <td>Burrito</td>\n      <td>[White Rice, Adobo-Marinated and Grilled Steak...</td>\n      <td>$7.40</td>\n      <td>7.40</td>\n    </tr>\n    <tr>\n      <th>7</th>\n      <td>760</td>\n      <td>313</td>\n      <td>1</td>\n      <td>Burrito</td>\n      <td>[White Rice, Adobo-Marinated and Grilled Steak...</td>\n      <td>$7.40</td>\n      <td>7.40</td>\n    </tr>\n    <tr>\n      <th>8</th>\n      <td>893</td>\n      <td>369</td>\n      <td>1</td>\n      <td>Steak Salad</td>\n      <td>[Fresh Tomato Salsa (Mild), [Rice, Cheese, Sou...</td>\n      <td>$8.99</td>\n      <td>8.99</td>\n    </tr>\n    <tr>\n      <th>9</th>\n      <td>3502</td>\n      <td>1406</td>\n      <td>1</td>\n      <td>Steak Salad</td>\n      <td>[[Lettuce, Fajita Veggies]]</td>\n      <td>$8.69</td>\n      <td>8.69</td>\n    </tr>\n  </tbody>\n</table>\n</div>"
     },
     "execution_count": 75,
     "metadata": {},
     "output_type": "execute_result"
    }
   ],
   "source": [
    "chipo_df[(chipo_df.item_name == 'Steak Salad') | (chipo_df.item_name == 'Burrito')].reset_index()\n",
    "# chipo_df[(chipo_df.item_name == 'Steak Salad')]\n",
    "# chipo_df[(chipo_df.item_name == 'Burrito')]"
   ]
  },
  {
   "cell_type": "code",
   "execution_count": 22,
   "id": "e922740d",
   "metadata": {
    "pycharm": {
     "name": "#%%\n"
    }
   },
   "outputs": [],
   "source": [
    "# Q13. chipo_df의 new_price에서 평균값 이상의 데이터들만 인덱싱해보세요"
   ]
  },
  {
   "cell_type": "code",
   "execution_count": 96,
   "id": "102420c4",
   "metadata": {
    "pycharm": {
     "name": "#%%\n"
    }
   },
   "outputs": [
    {
     "data": {
      "text/plain": "      index  order_id  quantity           item_name  \\\n0         4         2         2        Chicken Bowl   \n1         5         3         1        Chicken Bowl   \n2         7         4         1       Steak Burrito   \n3         8         4         1    Steak Soft Tacos   \n4         9         5         1       Steak Burrito   \n...     ...       ...       ...                 ...   \n2885   4617      1833         1       Steak Burrito   \n2886   4618      1833         1       Steak Burrito   \n2887   4619      1834         1  Chicken Salad Bowl   \n2888   4620      1834         1  Chicken Salad Bowl   \n2889   4621      1834         1  Chicken Salad Bowl   \n\n                                     choice_description item_price  new_price  \n0     [Tomatillo-Red Chili Salsa (Hot), [Black Beans...    $16.98       16.98  \n1     [Fresh Tomato Salsa (Mild), [Rice, Cheese, Sou...    $10.98       10.98  \n2     [Tomatillo Red Chili Salsa, [Fajita Vegetables...    $11.75       11.75  \n3     [Tomatillo Green Chili Salsa, [Pinto Beans, Ch...     $9.25        9.25  \n4     [Fresh Tomato Salsa, [Rice, Black Beans, Pinto...     $9.25        9.25  \n...                                                 ...        ...        ...  \n2885  [Fresh Tomato Salsa, [Rice, Black Beans, Sour ...    $11.75       11.75  \n2886  [Fresh Tomato Salsa, [Rice, Sour Cream, Cheese...    $11.75       11.75  \n2887  [Fresh Tomato Salsa, [Fajita Vegetables, Pinto...    $11.25       11.25  \n2888  [Fresh Tomato Salsa, [Fajita Vegetables, Lettu...     $8.75        8.75  \n2889  [Fresh Tomato Salsa, [Fajita Vegetables, Pinto...     $8.75        8.75  \n\n[2890 rows x 7 columns]",
      "text/html": "<div>\n<style scoped>\n    .dataframe tbody tr th:only-of-type {\n        vertical-align: middle;\n    }\n\n    .dataframe tbody tr th {\n        vertical-align: top;\n    }\n\n    .dataframe thead th {\n        text-align: right;\n    }\n</style>\n<table border=\"1\" class=\"dataframe\">\n  <thead>\n    <tr style=\"text-align: right;\">\n      <th></th>\n      <th>index</th>\n      <th>order_id</th>\n      <th>quantity</th>\n      <th>item_name</th>\n      <th>choice_description</th>\n      <th>item_price</th>\n      <th>new_price</th>\n    </tr>\n  </thead>\n  <tbody>\n    <tr>\n      <th>0</th>\n      <td>4</td>\n      <td>2</td>\n      <td>2</td>\n      <td>Chicken Bowl</td>\n      <td>[Tomatillo-Red Chili Salsa (Hot), [Black Beans...</td>\n      <td>$16.98</td>\n      <td>16.98</td>\n    </tr>\n    <tr>\n      <th>1</th>\n      <td>5</td>\n      <td>3</td>\n      <td>1</td>\n      <td>Chicken Bowl</td>\n      <td>[Fresh Tomato Salsa (Mild), [Rice, Cheese, Sou...</td>\n      <td>$10.98</td>\n      <td>10.98</td>\n    </tr>\n    <tr>\n      <th>2</th>\n      <td>7</td>\n      <td>4</td>\n      <td>1</td>\n      <td>Steak Burrito</td>\n      <td>[Tomatillo Red Chili Salsa, [Fajita Vegetables...</td>\n      <td>$11.75</td>\n      <td>11.75</td>\n    </tr>\n    <tr>\n      <th>3</th>\n      <td>8</td>\n      <td>4</td>\n      <td>1</td>\n      <td>Steak Soft Tacos</td>\n      <td>[Tomatillo Green Chili Salsa, [Pinto Beans, Ch...</td>\n      <td>$9.25</td>\n      <td>9.25</td>\n    </tr>\n    <tr>\n      <th>4</th>\n      <td>9</td>\n      <td>5</td>\n      <td>1</td>\n      <td>Steak Burrito</td>\n      <td>[Fresh Tomato Salsa, [Rice, Black Beans, Pinto...</td>\n      <td>$9.25</td>\n      <td>9.25</td>\n    </tr>\n    <tr>\n      <th>...</th>\n      <td>...</td>\n      <td>...</td>\n      <td>...</td>\n      <td>...</td>\n      <td>...</td>\n      <td>...</td>\n      <td>...</td>\n    </tr>\n    <tr>\n      <th>2885</th>\n      <td>4617</td>\n      <td>1833</td>\n      <td>1</td>\n      <td>Steak Burrito</td>\n      <td>[Fresh Tomato Salsa, [Rice, Black Beans, Sour ...</td>\n      <td>$11.75</td>\n      <td>11.75</td>\n    </tr>\n    <tr>\n      <th>2886</th>\n      <td>4618</td>\n      <td>1833</td>\n      <td>1</td>\n      <td>Steak Burrito</td>\n      <td>[Fresh Tomato Salsa, [Rice, Sour Cream, Cheese...</td>\n      <td>$11.75</td>\n      <td>11.75</td>\n    </tr>\n    <tr>\n      <th>2887</th>\n      <td>4619</td>\n      <td>1834</td>\n      <td>1</td>\n      <td>Chicken Salad Bowl</td>\n      <td>[Fresh Tomato Salsa, [Fajita Vegetables, Pinto...</td>\n      <td>$11.25</td>\n      <td>11.25</td>\n    </tr>\n    <tr>\n      <th>2888</th>\n      <td>4620</td>\n      <td>1834</td>\n      <td>1</td>\n      <td>Chicken Salad Bowl</td>\n      <td>[Fresh Tomato Salsa, [Fajita Vegetables, Lettu...</td>\n      <td>$8.75</td>\n      <td>8.75</td>\n    </tr>\n    <tr>\n      <th>2889</th>\n      <td>4621</td>\n      <td>1834</td>\n      <td>1</td>\n      <td>Chicken Salad Bowl</td>\n      <td>[Fresh Tomato Salsa, [Fajita Vegetables, Pinto...</td>\n      <td>$8.75</td>\n      <td>8.75</td>\n    </tr>\n  </tbody>\n</table>\n<p>2890 rows × 7 columns</p>\n</div>"
     },
     "execution_count": 96,
     "metadata": {},
     "output_type": "execute_result"
    }
   ],
   "source": [
    "chipo_df['new_price'].mean()\n",
    "chipo_df[chipo_df.new_price >= chipo_df['new_price'].mean()].reset_index()"
   ]
  },
  {
   "cell_type": "code",
   "execution_count": 23,
   "id": "dde8d013",
   "metadata": {
    "pycharm": {
     "name": "#%%\n"
    }
   },
   "outputs": [],
   "source": [
    "# Q14. chipo_df에서 결측치를 확인해보세요."
   ]
  },
  {
   "cell_type": "code",
   "execution_count": 97,
   "id": "9356b5ad",
   "metadata": {
    "pycharm": {
     "name": "#%%\n"
    }
   },
   "outputs": [
    {
     "data": {
      "text/plain": "order_id              0\nquantity              0\nitem_name             0\nchoice_description    0\nitem_price            0\nnew_price             0\ndtype: int64"
     },
     "execution_count": 97,
     "metadata": {},
     "output_type": "execute_result"
    }
   ],
   "source": [
    "# chipo_df[chipo_df.choice_description == 'Nan']\n",
    "chipo_df.isna().sum()"
   ]
  },
  {
   "cell_type": "code",
   "execution_count": 85,
   "id": "b97385e1",
   "metadata": {
    "pycharm": {
     "name": "#%%\n"
    }
   },
   "outputs": [
    {
     "data": {
      "text/plain": "      order_id  quantity                              item_name  \\\n0            1         1           Chips and Fresh Tomato Salsa   \n1            1         1                                   Izze   \n2            1         1                       Nantucket Nectar   \n3            1         1  Chips and Tomatillo-Green Chili Salsa   \n4            2         2                           Chicken Bowl   \n...        ...       ...                                    ...   \n4617      1833         1                          Steak Burrito   \n4618      1833         1                          Steak Burrito   \n4619      1834         1                     Chicken Salad Bowl   \n4620      1834         1                     Chicken Salad Bowl   \n4621      1834         1                     Chicken Salad Bowl   \n\n                                     choice_description item_price  new_price  \n0                                                   NaN     $2.39        2.39  \n1                                          [Clementine]     $3.39        3.39  \n2                                               [Apple]     $3.39        3.39  \n3                                                   NaN     $2.39        2.39  \n4     [Tomatillo-Red Chili Salsa (Hot), [Black Beans...    $16.98       16.98  \n...                                                 ...        ...        ...  \n4617  [Fresh Tomato Salsa, [Rice, Black Beans, Sour ...    $11.75       11.75  \n4618  [Fresh Tomato Salsa, [Rice, Sour Cream, Cheese...    $11.75       11.75  \n4619  [Fresh Tomato Salsa, [Fajita Vegetables, Pinto...    $11.25       11.25  \n4620  [Fresh Tomato Salsa, [Fajita Vegetables, Lettu...     $8.75        8.75  \n4621  [Fresh Tomato Salsa, [Fajita Vegetables, Pinto...     $8.75        8.75  \n\n[4622 rows x 6 columns]",
      "text/html": "<div>\n<style scoped>\n    .dataframe tbody tr th:only-of-type {\n        vertical-align: middle;\n    }\n\n    .dataframe tbody tr th {\n        vertical-align: top;\n    }\n\n    .dataframe thead th {\n        text-align: right;\n    }\n</style>\n<table border=\"1\" class=\"dataframe\">\n  <thead>\n    <tr style=\"text-align: right;\">\n      <th></th>\n      <th>order_id</th>\n      <th>quantity</th>\n      <th>item_name</th>\n      <th>choice_description</th>\n      <th>item_price</th>\n      <th>new_price</th>\n    </tr>\n  </thead>\n  <tbody>\n    <tr>\n      <th>0</th>\n      <td>1</td>\n      <td>1</td>\n      <td>Chips and Fresh Tomato Salsa</td>\n      <td>NaN</td>\n      <td>$2.39</td>\n      <td>2.39</td>\n    </tr>\n    <tr>\n      <th>1</th>\n      <td>1</td>\n      <td>1</td>\n      <td>Izze</td>\n      <td>[Clementine]</td>\n      <td>$3.39</td>\n      <td>3.39</td>\n    </tr>\n    <tr>\n      <th>2</th>\n      <td>1</td>\n      <td>1</td>\n      <td>Nantucket Nectar</td>\n      <td>[Apple]</td>\n      <td>$3.39</td>\n      <td>3.39</td>\n    </tr>\n    <tr>\n      <th>3</th>\n      <td>1</td>\n      <td>1</td>\n      <td>Chips and Tomatillo-Green Chili Salsa</td>\n      <td>NaN</td>\n      <td>$2.39</td>\n      <td>2.39</td>\n    </tr>\n    <tr>\n      <th>4</th>\n      <td>2</td>\n      <td>2</td>\n      <td>Chicken Bowl</td>\n      <td>[Tomatillo-Red Chili Salsa (Hot), [Black Beans...</td>\n      <td>$16.98</td>\n      <td>16.98</td>\n    </tr>\n    <tr>\n      <th>...</th>\n      <td>...</td>\n      <td>...</td>\n      <td>...</td>\n      <td>...</td>\n      <td>...</td>\n      <td>...</td>\n    </tr>\n    <tr>\n      <th>4617</th>\n      <td>1833</td>\n      <td>1</td>\n      <td>Steak Burrito</td>\n      <td>[Fresh Tomato Salsa, [Rice, Black Beans, Sour ...</td>\n      <td>$11.75</td>\n      <td>11.75</td>\n    </tr>\n    <tr>\n      <th>4618</th>\n      <td>1833</td>\n      <td>1</td>\n      <td>Steak Burrito</td>\n      <td>[Fresh Tomato Salsa, [Rice, Sour Cream, Cheese...</td>\n      <td>$11.75</td>\n      <td>11.75</td>\n    </tr>\n    <tr>\n      <th>4619</th>\n      <td>1834</td>\n      <td>1</td>\n      <td>Chicken Salad Bowl</td>\n      <td>[Fresh Tomato Salsa, [Fajita Vegetables, Pinto...</td>\n      <td>$11.25</td>\n      <td>11.25</td>\n    </tr>\n    <tr>\n      <th>4620</th>\n      <td>1834</td>\n      <td>1</td>\n      <td>Chicken Salad Bowl</td>\n      <td>[Fresh Tomato Salsa, [Fajita Vegetables, Lettu...</td>\n      <td>$8.75</td>\n      <td>8.75</td>\n    </tr>\n    <tr>\n      <th>4621</th>\n      <td>1834</td>\n      <td>1</td>\n      <td>Chicken Salad Bowl</td>\n      <td>[Fresh Tomato Salsa, [Fajita Vegetables, Pinto...</td>\n      <td>$8.75</td>\n      <td>8.75</td>\n    </tr>\n  </tbody>\n</table>\n<p>4622 rows × 6 columns</p>\n</div>"
     },
     "execution_count": 85,
     "metadata": {},
     "output_type": "execute_result"
    }
   ],
   "source": [
    "# Q15. 결측치가 있다면 결측치 값을 'N'으로 대체해보세요"
   ]
  },
  {
   "cell_type": "code",
   "execution_count": 87,
   "id": "2d5c5d08",
   "metadata": {
    "pycharm": {
     "name": "#%%\n"
    }
   },
   "outputs": [
    {
     "data": {
      "text/plain": "      order_id  quantity                              item_name  \\\n0            1         1           Chips and Fresh Tomato Salsa   \n1            1         1                                   Izze   \n2            1         1                       Nantucket Nectar   \n3            1         1  Chips and Tomatillo-Green Chili Salsa   \n4            2         2                           Chicken Bowl   \n...        ...       ...                                    ...   \n4617      1833         1                          Steak Burrito   \n4618      1833         1                          Steak Burrito   \n4619      1834         1                     Chicken Salad Bowl   \n4620      1834         1                     Chicken Salad Bowl   \n4621      1834         1                     Chicken Salad Bowl   \n\n                                     choice_description item_price  new_price  \n0                                                     N     $2.39        2.39  \n1                                          [Clementine]     $3.39        3.39  \n2                                               [Apple]     $3.39        3.39  \n3                                                     N     $2.39        2.39  \n4     [Tomatillo-Red Chili Salsa (Hot), [Black Beans...    $16.98       16.98  \n...                                                 ...        ...        ...  \n4617  [Fresh Tomato Salsa, [Rice, Black Beans, Sour ...    $11.75       11.75  \n4618  [Fresh Tomato Salsa, [Rice, Sour Cream, Cheese...    $11.75       11.75  \n4619  [Fresh Tomato Salsa, [Fajita Vegetables, Pinto...    $11.25       11.25  \n4620  [Fresh Tomato Salsa, [Fajita Vegetables, Lettu...     $8.75        8.75  \n4621  [Fresh Tomato Salsa, [Fajita Vegetables, Pinto...     $8.75        8.75  \n\n[4622 rows x 6 columns]",
      "text/html": "<div>\n<style scoped>\n    .dataframe tbody tr th:only-of-type {\n        vertical-align: middle;\n    }\n\n    .dataframe tbody tr th {\n        vertical-align: top;\n    }\n\n    .dataframe thead th {\n        text-align: right;\n    }\n</style>\n<table border=\"1\" class=\"dataframe\">\n  <thead>\n    <tr style=\"text-align: right;\">\n      <th></th>\n      <th>order_id</th>\n      <th>quantity</th>\n      <th>item_name</th>\n      <th>choice_description</th>\n      <th>item_price</th>\n      <th>new_price</th>\n    </tr>\n  </thead>\n  <tbody>\n    <tr>\n      <th>0</th>\n      <td>1</td>\n      <td>1</td>\n      <td>Chips and Fresh Tomato Salsa</td>\n      <td>N</td>\n      <td>$2.39</td>\n      <td>2.39</td>\n    </tr>\n    <tr>\n      <th>1</th>\n      <td>1</td>\n      <td>1</td>\n      <td>Izze</td>\n      <td>[Clementine]</td>\n      <td>$3.39</td>\n      <td>3.39</td>\n    </tr>\n    <tr>\n      <th>2</th>\n      <td>1</td>\n      <td>1</td>\n      <td>Nantucket Nectar</td>\n      <td>[Apple]</td>\n      <td>$3.39</td>\n      <td>3.39</td>\n    </tr>\n    <tr>\n      <th>3</th>\n      <td>1</td>\n      <td>1</td>\n      <td>Chips and Tomatillo-Green Chili Salsa</td>\n      <td>N</td>\n      <td>$2.39</td>\n      <td>2.39</td>\n    </tr>\n    <tr>\n      <th>4</th>\n      <td>2</td>\n      <td>2</td>\n      <td>Chicken Bowl</td>\n      <td>[Tomatillo-Red Chili Salsa (Hot), [Black Beans...</td>\n      <td>$16.98</td>\n      <td>16.98</td>\n    </tr>\n    <tr>\n      <th>...</th>\n      <td>...</td>\n      <td>...</td>\n      <td>...</td>\n      <td>...</td>\n      <td>...</td>\n      <td>...</td>\n    </tr>\n    <tr>\n      <th>4617</th>\n      <td>1833</td>\n      <td>1</td>\n      <td>Steak Burrito</td>\n      <td>[Fresh Tomato Salsa, [Rice, Black Beans, Sour ...</td>\n      <td>$11.75</td>\n      <td>11.75</td>\n    </tr>\n    <tr>\n      <th>4618</th>\n      <td>1833</td>\n      <td>1</td>\n      <td>Steak Burrito</td>\n      <td>[Fresh Tomato Salsa, [Rice, Sour Cream, Cheese...</td>\n      <td>$11.75</td>\n      <td>11.75</td>\n    </tr>\n    <tr>\n      <th>4619</th>\n      <td>1834</td>\n      <td>1</td>\n      <td>Chicken Salad Bowl</td>\n      <td>[Fresh Tomato Salsa, [Fajita Vegetables, Pinto...</td>\n      <td>$11.25</td>\n      <td>11.25</td>\n    </tr>\n    <tr>\n      <th>4620</th>\n      <td>1834</td>\n      <td>1</td>\n      <td>Chicken Salad Bowl</td>\n      <td>[Fresh Tomato Salsa, [Fajita Vegetables, Lettu...</td>\n      <td>$8.75</td>\n      <td>8.75</td>\n    </tr>\n    <tr>\n      <th>4621</th>\n      <td>1834</td>\n      <td>1</td>\n      <td>Chicken Salad Bowl</td>\n      <td>[Fresh Tomato Salsa, [Fajita Vegetables, Pinto...</td>\n      <td>$8.75</td>\n      <td>8.75</td>\n    </tr>\n  </tbody>\n</table>\n<p>4622 rows × 6 columns</p>\n</div>"
     },
     "execution_count": 87,
     "metadata": {},
     "output_type": "execute_result"
    }
   ],
   "source": [
    "chipo_df['choice_description'] = chipo_df['choice_description'].fillna('N') # -1\n",
    "chipo_df"
   ]
  },
  {
   "cell_type": "code",
   "execution_count": null,
   "outputs": [],
   "source": [
    "chipo_df.choice_description.fillna('N', inplace=True) # -2\n",
    "chipo_df.isna().sum()"
   ],
   "metadata": {
    "collapsed": false,
    "pycharm": {
     "name": "#%%\n"
    }
   }
  },
  {
   "cell_type": "code",
   "execution_count": 25,
   "id": "112b5eb1",
   "metadata": {
    "pycharm": {
     "name": "#%%\n"
    }
   },
   "outputs": [],
   "source": [
    "# Q16. chipo_df choice_description의 값에 Black이 들어가는 경우를\n",
    "# 인덱싱해보세요."
   ]
  },
  {
   "cell_type": "code",
   "execution_count": 95,
   "id": "deefd5d0",
   "metadata": {
    "pycharm": {
     "name": "#%%\n"
    }
   },
   "outputs": [
    {
     "data": {
      "text/plain": "      index  order_id  quantity             item_name  \\\n0         4         2         2          Chicken Bowl   \n1         7         4         1         Steak Burrito   \n2         9         5         1         Steak Burrito   \n3        11         6         1  Chicken Crispy Tacos   \n4        12         6         1    Chicken Soft Tacos   \n...     ...       ...       ...                   ...   \n1348   4604      1828         1          Chicken Bowl   \n1349   4608      1829         1        Veggie Burrito   \n1350   4611      1830         1        Veggie Burrito   \n1351   4612      1831         1         Carnitas Bowl   \n1352   4617      1833         1         Steak Burrito   \n\n                                     choice_description item_price  new_price  \n0     [Tomatillo-Red Chili Salsa (Hot), [Black Beans...    $16.98       16.98  \n1     [Tomatillo Red Chili Salsa, [Fajita Vegetables...    $11.75       11.75  \n2     [Fresh Tomato Salsa, [Rice, Black Beans, Pinto...     $9.25        9.25  \n3     [Roasted Chili Corn Salsa, [Fajita Vegetables,...     $8.75        8.75  \n4     [Roasted Chili Corn Salsa, [Rice, Black Beans,...     $8.75        8.75  \n...                                                 ...        ...        ...  \n1348  [Fresh Tomato Salsa, [Rice, Black Beans, Chees...     $8.75        8.75  \n1349  [Tomatillo Red Chili Salsa, [Fajita Vegetables...    $11.25       11.25  \n1350  [Tomatillo Green Chili Salsa, [Rice, Fajita Ve...    $11.25       11.25  \n1351  [Fresh Tomato Salsa, [Fajita Vegetables, Rice,...     $9.25        9.25  \n1352  [Fresh Tomato Salsa, [Rice, Black Beans, Sour ...    $11.75       11.75  \n\n[1353 rows x 7 columns]",
      "text/html": "<div>\n<style scoped>\n    .dataframe tbody tr th:only-of-type {\n        vertical-align: middle;\n    }\n\n    .dataframe tbody tr th {\n        vertical-align: top;\n    }\n\n    .dataframe thead th {\n        text-align: right;\n    }\n</style>\n<table border=\"1\" class=\"dataframe\">\n  <thead>\n    <tr style=\"text-align: right;\">\n      <th></th>\n      <th>index</th>\n      <th>order_id</th>\n      <th>quantity</th>\n      <th>item_name</th>\n      <th>choice_description</th>\n      <th>item_price</th>\n      <th>new_price</th>\n    </tr>\n  </thead>\n  <tbody>\n    <tr>\n      <th>0</th>\n      <td>4</td>\n      <td>2</td>\n      <td>2</td>\n      <td>Chicken Bowl</td>\n      <td>[Tomatillo-Red Chili Salsa (Hot), [Black Beans...</td>\n      <td>$16.98</td>\n      <td>16.98</td>\n    </tr>\n    <tr>\n      <th>1</th>\n      <td>7</td>\n      <td>4</td>\n      <td>1</td>\n      <td>Steak Burrito</td>\n      <td>[Tomatillo Red Chili Salsa, [Fajita Vegetables...</td>\n      <td>$11.75</td>\n      <td>11.75</td>\n    </tr>\n    <tr>\n      <th>2</th>\n      <td>9</td>\n      <td>5</td>\n      <td>1</td>\n      <td>Steak Burrito</td>\n      <td>[Fresh Tomato Salsa, [Rice, Black Beans, Pinto...</td>\n      <td>$9.25</td>\n      <td>9.25</td>\n    </tr>\n    <tr>\n      <th>3</th>\n      <td>11</td>\n      <td>6</td>\n      <td>1</td>\n      <td>Chicken Crispy Tacos</td>\n      <td>[Roasted Chili Corn Salsa, [Fajita Vegetables,...</td>\n      <td>$8.75</td>\n      <td>8.75</td>\n    </tr>\n    <tr>\n      <th>4</th>\n      <td>12</td>\n      <td>6</td>\n      <td>1</td>\n      <td>Chicken Soft Tacos</td>\n      <td>[Roasted Chili Corn Salsa, [Rice, Black Beans,...</td>\n      <td>$8.75</td>\n      <td>8.75</td>\n    </tr>\n    <tr>\n      <th>...</th>\n      <td>...</td>\n      <td>...</td>\n      <td>...</td>\n      <td>...</td>\n      <td>...</td>\n      <td>...</td>\n      <td>...</td>\n    </tr>\n    <tr>\n      <th>1348</th>\n      <td>4604</td>\n      <td>1828</td>\n      <td>1</td>\n      <td>Chicken Bowl</td>\n      <td>[Fresh Tomato Salsa, [Rice, Black Beans, Chees...</td>\n      <td>$8.75</td>\n      <td>8.75</td>\n    </tr>\n    <tr>\n      <th>1349</th>\n      <td>4608</td>\n      <td>1829</td>\n      <td>1</td>\n      <td>Veggie Burrito</td>\n      <td>[Tomatillo Red Chili Salsa, [Fajita Vegetables...</td>\n      <td>$11.25</td>\n      <td>11.25</td>\n    </tr>\n    <tr>\n      <th>1350</th>\n      <td>4611</td>\n      <td>1830</td>\n      <td>1</td>\n      <td>Veggie Burrito</td>\n      <td>[Tomatillo Green Chili Salsa, [Rice, Fajita Ve...</td>\n      <td>$11.25</td>\n      <td>11.25</td>\n    </tr>\n    <tr>\n      <th>1351</th>\n      <td>4612</td>\n      <td>1831</td>\n      <td>1</td>\n      <td>Carnitas Bowl</td>\n      <td>[Fresh Tomato Salsa, [Fajita Vegetables, Rice,...</td>\n      <td>$9.25</td>\n      <td>9.25</td>\n    </tr>\n    <tr>\n      <th>1352</th>\n      <td>4617</td>\n      <td>1833</td>\n      <td>1</td>\n      <td>Steak Burrito</td>\n      <td>[Fresh Tomato Salsa, [Rice, Black Beans, Sour ...</td>\n      <td>$11.75</td>\n      <td>11.75</td>\n    </tr>\n  </tbody>\n</table>\n<p>1353 rows × 7 columns</p>\n</div>"
     },
     "execution_count": 95,
     "metadata": {},
     "output_type": "execute_result"
    }
   ],
   "source": [
    "chipo_df[chipo_df.choice_description.str.contains('Black')].reset_index()"
   ]
  },
  {
   "cell_type": "code",
   "execution_count": 26,
   "id": "d160da7e",
   "metadata": {
    "pycharm": {
     "name": "#%%\n"
    }
   },
   "outputs": [],
   "source": [
    "# end of file"
   ]
  }
 ],
 "metadata": {
  "kernelspec": {
   "display_name": "Python 3 (ipykernel)",
   "language": "python",
   "name": "python3"
  },
  "language_info": {
   "codemirror_mode": {
    "name": "ipython",
    "version": 3
   },
   "file_extension": ".py",
   "mimetype": "text/x-python",
   "name": "python",
   "nbconvert_exporter": "python",
   "pygments_lexer": "ipython3",
   "version": "3.9.7"
  }
 },
 "nbformat": 4,
 "nbformat_minor": 5
}