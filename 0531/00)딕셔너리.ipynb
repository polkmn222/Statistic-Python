{
 "cells": [
  {
   "cell_type": "markdown",
   "metadata": {
    "pycharm": {
     "name": "#%% md\n"
    }
   },
   "source": [
    "### 딕셔너리란??\n",
    "어떠한 데이터는 2가지의 paired된 자료로 구성되어 나타낼 수 있다. 예를 들면 '이름'='홍길동','생일'='05월 31일', '좋아하는 연예인'= '김유하(07)'\n",
    "\n",
    "위와 같은 대응관계를 나타내는 자료형을 연관배열(Associate Rule) 혹은 해시(Hash)라고 합니다."
   ]
  },
  {
   "cell_type": "code",
   "execution_count": 31,
   "metadata": {
    "pycharm": {
     "name": "#%%\n"
    }
   },
   "outputs": [],
   "source": [
    "### 딕셔너리 생성\n",
    "\n",
    "dict1 = {'name': '홍길동', '생일': '0531', 'phone': '01012345678'}"
   ]
  },
  {
   "cell_type": "code",
   "execution_count": 32,
   "metadata": {
    "pycharm": {
     "name": "#%%\n"
    }
   },
   "outputs": [
    {
     "data": {
      "text/plain": [
       "{'name': '홍길동', '생일': '0531', 'phone': '01012345678', '연예인': 'ysp'}"
      ]
     },
     "execution_count": 32,
     "metadata": {},
     "output_type": "execute_result"
    }
   ],
   "source": [
    "dict1['연예인'] = 'ysp'\n",
    "dict1"
   ]
  },
  {
   "cell_type": "markdown",
   "metadata": {
    "pycharm": {
     "name": "#%% md\n"
    }
   },
   "source": [
    "### 딕셔너리의 쌍 추가, 삭제하기"
   ]
  },
  {
   "cell_type": "code",
   "execution_count": 7,
   "metadata": {
    "pycharm": {
     "name": "#%%\n"
    }
   },
   "outputs": [
    {
     "data": {
      "text/plain": [
       "{1: 'a', 2: 'b', 'name': 'pey', 3: [1, 2, 3]}"
      ]
     },
     "execution_count": 7,
     "metadata": {},
     "output_type": "execute_result"
    }
   ],
   "source": [
    "a = {1 : 'a'}\n",
    "a[2] = 'b'\n",
    "a['name'] = 'pey'\n",
    "a[3] = [1, 2, 3]\n",
    "a"
   ]
  },
  {
   "cell_type": "markdown",
   "metadata": {
    "pycharm": {
     "name": "#%% md\n"
    }
   },
   "source": [
    "### 딕셔너리의 요소 삭제하기"
   ]
  },
  {
   "cell_type": "code",
   "execution_count": 8,
   "metadata": {
    "pycharm": {
     "name": "#%%\n"
    }
   },
   "outputs": [
    {
     "data": {
      "text/plain": [
       "{1: 'a', 2: 'b', 3: [1, 2, 3]}"
      ]
     },
     "execution_count": 8,
     "metadata": {},
     "output_type": "execute_result"
    }
   ],
   "source": [
    "del a['name'] # Label based indexing\n",
    "\n",
    "a"
   ]
  },
  {
   "cell_type": "markdown",
   "metadata": {
    "pycharm": {
     "name": "#%% md\n"
    }
   },
   "source": [
    "### 딕셔너리가 활용되는 예"
   ]
  },
  {
   "cell_type": "markdown",
   "metadata": {
    "pycharm": {
     "name": "#%% md\n"
    }
   },
   "source": [
    "김유하 = '국민가수'\n",
    "박영식 = '강사'\n",
    "손흥민 = '축구'\n",
    "귀도 = '파이썬'"
   ]
  },
  {
   "cell_type": "code",
   "execution_count": 9,
   "metadata": {
    "pycharm": {
     "name": "#%%\n"
    }
   },
   "outputs": [
    {
     "data": {
      "text/plain": [
       "{'김유하': '국민가수', '박영식': '강사', '손흥민': '축구', '귀도': '파이썬'}"
      ]
     },
     "execution_count": 9,
     "metadata": {},
     "output_type": "execute_result"
    }
   ],
   "source": [
    "{'김유하': '국민가수', '박영식': '강사', '손흥민':'축구', '귀도':'파이썬'}"
   ]
  },
  {
   "cell_type": "markdown",
   "metadata": {
    "pycharm": {
     "name": "#%% md\n"
    }
   },
   "source": [
    "### 딕셔너리의 key를 활용해서 value를 얻기"
   ]
  },
  {
   "cell_type": "code",
   "execution_count": 10,
   "metadata": {
    "pycharm": {
     "name": "#%%\n"
    }
   },
   "outputs": [
    {
     "data": {
      "text/plain": [
       "[1, 2, 3]"
      ]
     },
     "execution_count": 10,
     "metadata": {},
     "output_type": "execute_result"
    }
   ],
   "source": [
    "a[3]"
   ]
  },
  {
   "cell_type": "code",
   "execution_count": 11,
   "metadata": {
    "pycharm": {
     "name": "#%%\n"
    }
   },
   "outputs": [
    {
     "data": {
      "text/plain": [
       "50"
      ]
     },
     "execution_count": 11,
     "metadata": {},
     "output_type": "execute_result"
    }
   ],
   "source": [
    "### 2번째 사례\n",
    "grade = {'pey' : 10, 'julliet' : 90, 'Ann' : 50}\n",
    "grade['Ann']"
   ]
  },
  {
   "cell_type": "markdown",
   "metadata": {
    "pycharm": {
     "name": "#%% md\n"
    }
   },
   "source": [
    "### 딕셔너리 생성시 주의점"
   ]
  },
  {
   "cell_type": "code",
   "execution_count": 13,
   "metadata": {
    "pycharm": {
     "name": "#%%\n"
    }
   },
   "outputs": [
    {
     "data": {
      "text/plain": [
       "{1: 'b'}"
      ]
     },
     "execution_count": 13,
     "metadata": {},
     "output_type": "execute_result"
    }
   ],
   "source": [
    "### 주의점 -1\n",
    "a = {1 : 'a', 1 : 'b'}\n",
    "a"
   ]
  },
  {
   "cell_type": "markdown",
   "metadata": {
    "pycharm": {
     "name": "#%% md\n"
    }
   },
   "source": [
    "위와같이 key가 중복이 될 경우에는 나머지 key:value는 모두 무시되면서 마지막의 key:vlaue만 존재하게 된다."
   ]
  },
  {
   "cell_type": "code",
   "execution_count": 16,
   "metadata": {
    "pycharm": {
     "name": "#%%\n"
    }
   },
   "outputs": [
    {
     "data": {
      "text/plain": [
       "{'big_data': 100, ('python', 'stat'): [98, 63]}"
      ]
     },
     "execution_count": 16,
     "metadata": {},
     "output_type": "execute_result"
    }
   ],
   "source": [
    "### 주의점 -2\n",
    "## key자리에 list는 못옵니다.\n",
    "{'big_data': 100, ('python', 'stat'): [98, 63]}"
   ]
  },
  {
   "cell_type": "code",
   "execution_count": 17,
   "metadata": {
    "pycharm": {
     "name": "#%%\n"
    }
   },
   "outputs": [
    {
     "ename": "TypeError",
     "evalue": "unhashable type: 'list'",
     "output_type": "error",
     "traceback": [
      "\u001b[1;31m---------------------------------------------------------------------------\u001b[0m",
      "\u001b[1;31mTypeError\u001b[0m                                 Traceback (most recent call last)",
      "Input \u001b[1;32mIn [17]\u001b[0m, in \u001b[0;36m<cell line: 1>\u001b[1;34m()\u001b[0m\n\u001b[1;32m----> 1\u001b[0m {\u001b[38;5;124m'\u001b[39m\u001b[38;5;124mbig_data\u001b[39m\u001b[38;5;124m'\u001b[39m: \u001b[38;5;241m100\u001b[39m, (\u001b[38;5;124m'\u001b[39m\u001b[38;5;124mpython\u001b[39m\u001b[38;5;124m'\u001b[39m, \u001b[38;5;124m'\u001b[39m\u001b[38;5;124mstat\u001b[39m\u001b[38;5;124m'\u001b[39m): [\u001b[38;5;241m98\u001b[39m, \u001b[38;5;241m63\u001b[39m], [\u001b[38;5;124m'\u001b[39m\u001b[38;5;124mML\u001b[39m\u001b[38;5;124m'\u001b[39m, \u001b[38;5;124m'\u001b[39m\u001b[38;5;124mDL\u001b[39m\u001b[38;5;124m'\u001b[39m]:[\u001b[38;5;241m100\u001b[39m, \u001b[38;5;241m87\u001b[39m]}\n",
      "\u001b[1;31mTypeError\u001b[0m: unhashable type: 'list'"
     ]
    }
   ],
   "source": [
    "{'big_data': 100, ('python', 'stat'): [98, 63], ['ML', 'DL']:[100, 87]}  ## unhashable type: 'list'"
   ]
  },
  {
   "cell_type": "markdown",
   "metadata": {
    "pycharm": {
     "name": "#%% md\n"
    }
   },
   "source": [
    "### 딕셔너리 관련 함수들"
   ]
  },
  {
   "cell_type": "code",
   "execution_count": 18,
   "metadata": {
    "pycharm": {
     "name": "#%%\n"
    }
   },
   "outputs": [],
   "source": [
    "a = {'name' : 'pey', 'phone' : '010-1234-5678', 'birth' : '0531'}"
   ]
  },
  {
   "cell_type": "code",
   "execution_count": 21,
   "metadata": {
    "pycharm": {
     "name": "#%%\n"
    }
   },
   "outputs": [
    {
     "name": "stdout",
     "output_type": "stream",
     "text": [
      "dict_keys(['name', 'phone', 'birth'])\n",
      "<class 'dict_keys'>\n"
     ]
    }
   ],
   "source": [
    "### key로 구성된 리스트 만들기\n",
    "print(a.keys())\n",
    "print(type(a.keys()))  # dict_keys"
   ]
  },
  {
   "cell_type": "code",
   "execution_count": 22,
   "metadata": {
    "pycharm": {
     "name": "#%%\n"
    }
   },
   "outputs": [
    {
     "name": "stdout",
     "output_type": "stream",
     "text": [
      "['name', 'phone', 'birth']\n",
      "<class 'list'>\n"
     ]
    }
   ],
   "source": [
    "print(list(a.keys()))\n",
    "print(type(list(a.keys())))  # list"
   ]
  },
  {
   "cell_type": "code",
   "execution_count": 24,
   "metadata": {
    "pycharm": {
     "name": "#%%\n"
    }
   },
   "outputs": [
    {
     "name": "stdout",
     "output_type": "stream",
     "text": [
      "dict_values(['pey', '010-1234-5678', '0531'])\n",
      "['pey', '010-1234-5678', '0531']\n"
     ]
    }
   ],
   "source": [
    "### value 리스트 만들기(values)\n",
    "print(a.values())\n",
    "print(list(a.values()))"
   ]
  },
  {
   "cell_type": "code",
   "execution_count": 26,
   "metadata": {
    "pycharm": {
     "name": "#%%\n"
    }
   },
   "outputs": [
    {
     "name": "stdout",
     "output_type": "stream",
     "text": [
      "dict_items([('name', 'pey'), ('phone', '010-1234-5678'), ('birth', '0531')])\n",
      "[('name', 'pey'), ('phone', '010-1234-5678'), ('birth', '0531')]\n"
     ]
    }
   ],
   "source": [
    "### key, value 쌍 얻기(items)\n",
    "print(a.items())\n",
    "print(list(a.items()))"
   ]
  },
  {
   "cell_type": "code",
   "execution_count": 28,
   "metadata": {
    "pycharm": {
     "name": "#%%\n"
    }
   },
   "outputs": [
    {
     "ename": "KeyError",
     "evalue": "'height'",
     "output_type": "error",
     "traceback": [
      "\u001b[1;31m---------------------------------------------------------------------------\u001b[0m",
      "\u001b[1;31mKeyError\u001b[0m                                  Traceback (most recent call last)",
      "Input \u001b[1;32mIn [28]\u001b[0m, in \u001b[0;36m<cell line: 1>\u001b[1;34m()\u001b[0m\n\u001b[1;32m----> 1\u001b[0m \u001b[43ma\u001b[49m\u001b[43m[\u001b[49m\u001b[38;5;124;43m'\u001b[39;49m\u001b[38;5;124;43mheight\u001b[39;49m\u001b[38;5;124;43m'\u001b[39;49m\u001b[43m]\u001b[49m\n",
      "\u001b[1;31mKeyError\u001b[0m: 'height'"
     ]
    }
   ],
   "source": [
    "a['height']"
   ]
  },
  {
   "cell_type": "code",
   "execution_count": 29,
   "metadata": {
    "pycharm": {
     "name": "#%%\n"
    }
   },
   "outputs": [
    {
     "data": {
      "text/plain": [
       "'nokey'"
      ]
     },
     "execution_count": 29,
     "metadata": {},
     "output_type": "execute_result"
    }
   ],
   "source": [
    "### get 함수의 용례\n",
    "a.get('height')  # 에러를 송출하지 않는다...\n",
    "a.get('height', 'nokey')  # 왼쪽의 key값이 없을때엔 우측의 값을 가져와라."
   ]
  },
  {
   "cell_type": "markdown",
   "metadata": {
    "pycharm": {
     "name": "#%% md\n"
    }
   },
   "source": [
    "### DataFrame과 리스트, 딕셔너리, 넘파이 ndarray 상호변환"
   ]
  },
  {
   "cell_type": "code",
   "execution_count": 33,
   "metadata": {
    "pycharm": {
     "name": "#%%\n"
    }
   },
   "outputs": [
    {
     "name": "stdout",
     "output_type": "stream",
     "text": [
      "array1 shape: (3,)\n",
      "1차원 리스트로 만든 DataFrame:\n",
      "    col1\n",
      "0     1\n",
      "1     2\n",
      "2     3\n",
      "1차원 ndarray로 만든 DataFrame:\n",
      "    col1\n",
      "0     1\n",
      "1     2\n",
      "2     3\n"
     ]
    }
   ],
   "source": [
    "import numpy as np\n",
    "import pandas as pd\n",
    "\n",
    "col_name1=['col1']\n",
    "list1=[1,2,3]\n",
    "array1= np.array(list1)\n",
    "print('array1 shape:', array1.shape)\n",
    "#리스트를 이용하여 DataFrame 생성.\n",
    "df_list1=pd.DataFrame(list1,columns=col_name1)\n",
    "print('1차원 리스트로 만든 DataFrame:\\n',df_list1)\n",
    "#넘파이 ndarray를 통해 DataFrame 생성\n",
    "df_array1=pd.DataFrame(array1,columns=col_name1)\n",
    "print('1차원 ndarray로 만든 DataFrame:\\n',df_array1)"
   ]
  },
  {
   "cell_type": "code",
   "execution_count": 35,
   "metadata": {
    "pycharm": {
     "name": "#%%\n"
    }
   },
   "outputs": [
    {
     "name": "stdout",
     "output_type": "stream",
     "text": [
      "array2 shape:\n",
      " (2, 3)\n",
      "2차원 리스트로 만든 DataFrame\n",
      ":    col1  col2  col3\n",
      "0     1     2     3\n",
      "1    11    12    13\n",
      "2차원  ndarray로 만든 DataFrame\n",
      ":    col1  col2  col3\n",
      "0     1     2     3\n",
      "1    11    12    13\n"
     ]
    }
   ],
   "source": [
    "#3개의 칼럼명이 필요함.\n",
    "col_name2=['col1','col2','col3']\n",
    "\n",
    "#2행 x 3열 형태의 리스트와 ndarray 생성한 뒤 이를 DataFrame으로 변환.\n",
    "list2 = [[1,2,3],\n",
    "         [11,12,13]]\n",
    "\n",
    "array2 = np.array(list2)\n",
    "print('array2 shape:\\n',array2.shape)\n",
    "df_list2=pd.DataFrame(list2,columns=col_name2)\n",
    "print('2차원 리스트로 만든 DataFrame\\n:',df_list2)\n",
    "df_array2=pd.DataFrame(array2,columns=col_name2)\n",
    "print('2차원  ndarray로 만든 DataFrame\\n:',df_array2)"
   ]
  },
  {
   "cell_type": "code",
   "execution_count": 36,
   "metadata": {
    "pycharm": {
     "name": "#%%\n"
    }
   },
   "outputs": [
    {
     "name": "stdout",
     "output_type": "stream",
     "text": [
      "딕셔너리로 만든 DataFrame:\n",
      "    col1  col2  col3\n",
      "0     1     2     3\n",
      "1    11    22    33\n"
     ]
    }
   ],
   "source": [
    "#key는 문자열 컬럼명으로 매핑, Value는 리스트 형(또는 ndarray) 컬럼 데이터로 매핑\n",
    "dict={'col1':[1,11],'col2':[2,22],'col3':[3,33]}\n",
    "df_dict = pd.DataFrame(dict)\n",
    "print('딕셔너리로 만든 DataFrame:\\n',df_dict)"
   ]
  },
  {
   "cell_type": "code",
   "execution_count": 37,
   "metadata": {
    "pycharm": {
     "name": "#%%\n"
    }
   },
   "outputs": [
    {
     "name": "stdout",
     "output_type": "stream",
     "text": [
      "df_dict.values 타입: <class 'numpy.ndarray'> df_dict.values shape: (2, 3)\n",
      "[[ 1  2  3]\n",
      " [11 22 33]]\n"
     ]
    }
   ],
   "source": [
    "#DataFrame을 ndarray로 변환\n",
    "array3=df_dict.values\n",
    "print('df_dict.values 타입:', type(array3), 'df_dict.values shape:', array3.shape)\n",
    "print(array3)"
   ]
  },
  {
   "cell_type": "code",
   "execution_count": 38,
   "metadata": {
    "pycharm": {
     "name": "#%%\n"
    }
   },
   "outputs": [
    {
     "name": "stdout",
     "output_type": "stream",
     "text": [
      "\n",
      " df_dict.tolist()타입: <class 'list'>\n",
      "[[1, 2, 3], [11, 22, 33]]\n",
      "\n",
      " df_dict.to_dict()타입: <class 'dict'>\n",
      "{'col1': [1, 11], 'col2': [2, 22], 'col3': [3, 33]}\n"
     ]
    }
   ],
   "source": [
    "#DataFrame을 리스트로 변환\n",
    "list3=df_dict.values.tolist()\n",
    "print('\\n df_dict.tolist()타입:',type(list3))\n",
    "print(list3)\n",
    "#DataFrame을 딕셔너리로 변환\n",
    "dict3=df_dict.to_dict('list')\n",
    "print('\\n df_dict.to_dict()타입:',type(dict3))\n",
    "print(dict3)"
   ]
  },
  {
   "cell_type": "code",
   "execution_count": 39,
   "metadata": {
    "pycharm": {
     "name": "#%%\n"
    }
   },
   "outputs": [],
   "source": [
    "# end of file"
   ]
  }
 ],
 "metadata": {
  "kernelspec": {
   "display_name": "Python 3 (ipykernel)",
   "language": "python",
   "name": "python3"
  },
  "language_info": {
   "codemirror_mode": {
    "name": "ipython",
    "version": 3
   },
   "file_extension": ".py",
   "mimetype": "text/x-python",
   "name": "python",
   "nbconvert_exporter": "python",
   "pygments_lexer": "ipython3",
   "version": "3.9.7"
  }
 },
 "nbformat": 4,
 "nbformat_minor": 1
}
