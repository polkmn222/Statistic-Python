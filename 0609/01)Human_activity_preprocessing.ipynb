{
 "cells": [
  {
   "cell_type": "markdown",
   "source": [
    "# Human Activity Recog"
   ],
   "metadata": {
    "collapsed": false,
    "pycharm": {
     "name": "#%% md\n"
    }
   }
  },
  {
   "cell_type": "code",
   "execution_count": 1,
   "outputs": [],
   "source": [
    "import pandas as pd\n",
    "import numpy as np\n",
    "import matplotlib.pyplot as plt"
   ],
   "metadata": {
    "collapsed": false,
    "pycharm": {
     "name": "#%%\n"
    }
   }
  },
  {
   "cell_type": "code",
   "execution_count": 25,
   "outputs": [],
   "source": [
    "ftr_name_df = pd.read_csv('./HAPT Data Set/features.txt', sep='\\s+' ,header=None, names=['column_name'])"
   ],
   "metadata": {
    "collapsed": false,
    "pycharm": {
     "name": "#%%\n"
    }
   }
  },
  {
   "cell_type": "code",
   "execution_count": 16,
   "outputs": [
    {
     "name": "stdout",
     "output_type": "stream",
     "text": [
      "X_ftrs의 data shape: (561, 1)\n",
      "10개의 X_ftrs의 이름: ['tBodyAcc-Mean-1', 'tBodyAcc-Mean-2', 'tBodyAcc-Mean-3', 'tBodyAcc-STD-1', 'tBodyAcc-STD-2', 'tBodyAcc-STD-3', 'tBodyAcc-Mad-1', 'tBodyAcc-Mad-2', 'tBodyAcc-Mad-3', 'tBodyAcc-Max-1']\n"
     ]
    }
   ],
   "source": [
    "ftr_name = ftr_name_df.iloc[:,0].values.tolist()\n",
    "print('X_ftrs의 data shape:',ftr_name_df.shape)\n",
    "print('10개의 X_ftrs의 이름:', ftr_name[:10])"
   ],
   "metadata": {
    "collapsed": false,
    "pycharm": {
     "name": "#%%\n"
    }
   }
  },
  {
   "cell_type": "code",
   "execution_count": 19,
   "outputs": [],
   "source": [
    "# X_test_df = pd.read_csv('./HAPT Data Set/features.txt', header=None, sep='\\s+', names=ftr_name)"
   ],
   "metadata": {
    "collapsed": false,
    "pycharm": {
     "name": "#%%\n"
    }
   }
  },
  {
   "cell_type": "code",
   "execution_count": 23,
   "outputs": [
    {
     "name": "stdout",
     "output_type": "stream",
     "text": [
      "Index(['index', 'copy_cnt'], dtype='object')\n",
      "Index(['index', 'column_name'], dtype='object')\n"
     ]
    },
    {
     "data": {
      "text/plain": "     index              column_name  copy_cnt\n23      23          tBodyAcc-ropy-1         1\n24      24          tBodyAcc-ropy-1         2\n63      63       tGravityAcc-ropy-1         1\n64      64       tGravityAcc-ropy-1         2\n103    103      tBodyAccJerk-ropy-1         1\n104    104      tBodyAccJerk-ropy-1         2\n143    143         tBodyGyro-ropy-1         1\n144    144         tBodyGyro-ropy-1         2\n183    183     tBodyGyroJerk-ropy-1         1\n184    184     tBodyGyroJerk-ropy-1         2\n288    288          fBodyAcc-ropy-1         1\n289    289          fBodyAcc-ropy-1         2\n298    298      fBodyAcc-Skewness-1         1\n299    299      fBodyAcc-Kurtosis-1         1\n300    300      fBodyAcc-Skewness-1         2\n301    301      fBodyAcc-Kurtosis-1         2\n367    367      fBodyAccJerk-ropy-1         1\n368    368      fBodyAccJerk-ropy-1         2\n377    377  fBodyAccJerk-Skewness-1         1\n378    378  fBodyAccJerk-Kurtosis-1         1\n379    379  fBodyAccJerk-Skewness-1         2\n380    380  fBodyAccJerk-Kurtosis-1         2\n446    446         fBodyGyro-ropy-1         1\n447    447         fBodyGyro-ropy-1         2\n456    456     fBodyGyro-Skewness-1         1\n457    457     fBodyGyro-Kurtosis-1         1\n458    458     fBodyGyro-Skewness-1         2\n459    459     fBodyGyro-Kurtosis-1         2",
      "text/html": "<div>\n<style scoped>\n    .dataframe tbody tr th:only-of-type {\n        vertical-align: middle;\n    }\n\n    .dataframe tbody tr th {\n        vertical-align: top;\n    }\n\n    .dataframe thead th {\n        text-align: right;\n    }\n</style>\n<table border=\"1\" class=\"dataframe\">\n  <thead>\n    <tr style=\"text-align: right;\">\n      <th></th>\n      <th>index</th>\n      <th>column_name</th>\n      <th>copy_cnt</th>\n    </tr>\n  </thead>\n  <tbody>\n    <tr>\n      <th>23</th>\n      <td>23</td>\n      <td>tBodyAcc-ropy-1</td>\n      <td>1</td>\n    </tr>\n    <tr>\n      <th>24</th>\n      <td>24</td>\n      <td>tBodyAcc-ropy-1</td>\n      <td>2</td>\n    </tr>\n    <tr>\n      <th>63</th>\n      <td>63</td>\n      <td>tGravityAcc-ropy-1</td>\n      <td>1</td>\n    </tr>\n    <tr>\n      <th>64</th>\n      <td>64</td>\n      <td>tGravityAcc-ropy-1</td>\n      <td>2</td>\n    </tr>\n    <tr>\n      <th>103</th>\n      <td>103</td>\n      <td>tBodyAccJerk-ropy-1</td>\n      <td>1</td>\n    </tr>\n    <tr>\n      <th>104</th>\n      <td>104</td>\n      <td>tBodyAccJerk-ropy-1</td>\n      <td>2</td>\n    </tr>\n    <tr>\n      <th>143</th>\n      <td>143</td>\n      <td>tBodyGyro-ropy-1</td>\n      <td>1</td>\n    </tr>\n    <tr>\n      <th>144</th>\n      <td>144</td>\n      <td>tBodyGyro-ropy-1</td>\n      <td>2</td>\n    </tr>\n    <tr>\n      <th>183</th>\n      <td>183</td>\n      <td>tBodyGyroJerk-ropy-1</td>\n      <td>1</td>\n    </tr>\n    <tr>\n      <th>184</th>\n      <td>184</td>\n      <td>tBodyGyroJerk-ropy-1</td>\n      <td>2</td>\n    </tr>\n    <tr>\n      <th>288</th>\n      <td>288</td>\n      <td>fBodyAcc-ropy-1</td>\n      <td>1</td>\n    </tr>\n    <tr>\n      <th>289</th>\n      <td>289</td>\n      <td>fBodyAcc-ropy-1</td>\n      <td>2</td>\n    </tr>\n    <tr>\n      <th>298</th>\n      <td>298</td>\n      <td>fBodyAcc-Skewness-1</td>\n      <td>1</td>\n    </tr>\n    <tr>\n      <th>299</th>\n      <td>299</td>\n      <td>fBodyAcc-Kurtosis-1</td>\n      <td>1</td>\n    </tr>\n    <tr>\n      <th>300</th>\n      <td>300</td>\n      <td>fBodyAcc-Skewness-1</td>\n      <td>2</td>\n    </tr>\n    <tr>\n      <th>301</th>\n      <td>301</td>\n      <td>fBodyAcc-Kurtosis-1</td>\n      <td>2</td>\n    </tr>\n    <tr>\n      <th>367</th>\n      <td>367</td>\n      <td>fBodyAccJerk-ropy-1</td>\n      <td>1</td>\n    </tr>\n    <tr>\n      <th>368</th>\n      <td>368</td>\n      <td>fBodyAccJerk-ropy-1</td>\n      <td>2</td>\n    </tr>\n    <tr>\n      <th>377</th>\n      <td>377</td>\n      <td>fBodyAccJerk-Skewness-1</td>\n      <td>1</td>\n    </tr>\n    <tr>\n      <th>378</th>\n      <td>378</td>\n      <td>fBodyAccJerk-Kurtosis-1</td>\n      <td>1</td>\n    </tr>\n    <tr>\n      <th>379</th>\n      <td>379</td>\n      <td>fBodyAccJerk-Skewness-1</td>\n      <td>2</td>\n    </tr>\n    <tr>\n      <th>380</th>\n      <td>380</td>\n      <td>fBodyAccJerk-Kurtosis-1</td>\n      <td>2</td>\n    </tr>\n    <tr>\n      <th>446</th>\n      <td>446</td>\n      <td>fBodyGyro-ropy-1</td>\n      <td>1</td>\n    </tr>\n    <tr>\n      <th>447</th>\n      <td>447</td>\n      <td>fBodyGyro-ropy-1</td>\n      <td>2</td>\n    </tr>\n    <tr>\n      <th>456</th>\n      <td>456</td>\n      <td>fBodyGyro-Skewness-1</td>\n      <td>1</td>\n    </tr>\n    <tr>\n      <th>457</th>\n      <td>457</td>\n      <td>fBodyGyro-Kurtosis-1</td>\n      <td>1</td>\n    </tr>\n    <tr>\n      <th>458</th>\n      <td>458</td>\n      <td>fBodyGyro-Skewness-1</td>\n      <td>2</td>\n    </tr>\n    <tr>\n      <th>459</th>\n      <td>459</td>\n      <td>fBodyGyro-Kurtosis-1</td>\n      <td>2</td>\n    </tr>\n  </tbody>\n</table>\n</div>"
     },
     "execution_count": 23,
     "metadata": {},
     "output_type": "execute_result"
    }
   ],
   "source": [
    "# step 1\n",
    "cum_cnt_ftr_name = ftr_name_df.groupby(by='column_name').cumcount()\n",
    "\n",
    "# step 2\n",
    "pd.DataFrame(cum_cnt_ftr_name,columns= ['copy_cnt'])\n",
    "\n",
    "# step 3\n",
    "new_ftr_df = pd.DataFrame(ftr_name_df.groupby(by='column_name').cumcount(), columns=['copy_cnt'])\n",
    "new_ftr_df= new_ftr_df.reset_index()\n",
    "new_ftr_df\n",
    "\n",
    "# step 4 원래의 컬럼명을 갖고 있는 아래의 데이터에\n",
    "# reset_index를 통해 새로운 컬럼을 생성해준다.\n",
    "\n",
    "ftr_name_df = ftr_name_df.reset_index()\n",
    "\n",
    "print(new_ftr_df.columns)\n",
    "print(ftr_name_df.columns)\n",
    "\n",
    "ftr_name_df = pd.merge(ftr_name_df,new_ftr_df, how='outer')\n",
    "ftr_name_df[ftr_name_df['copy_cnt']>0]"
   ],
   "metadata": {
    "collapsed": false,
    "pycharm": {
     "name": "#%%\n"
    }
   }
  },
  {
   "cell_type": "code",
   "execution_count": 24,
   "outputs": [
    {
     "name": "stdout",
     "output_type": "stream",
     "text": [
      "  ysp\n",
      "0   A\n",
      "1   B\n",
      "2   C\n",
      "3   C\n",
      "4   C\n",
      "5   D\n"
     ]
    },
    {
     "data": {
      "text/plain": "  ysp  cum_count\n0   A          0\n1   B          0\n2   C          0\n3   C          1\n4   C          2\n5   D          0",
      "text/html": "<div>\n<style scoped>\n    .dataframe tbody tr th:only-of-type {\n        vertical-align: middle;\n    }\n\n    .dataframe tbody tr th {\n        vertical-align: top;\n    }\n\n    .dataframe thead th {\n        text-align: right;\n    }\n</style>\n<table border=\"1\" class=\"dataframe\">\n  <thead>\n    <tr style=\"text-align: right;\">\n      <th></th>\n      <th>ysp</th>\n      <th>cum_count</th>\n    </tr>\n  </thead>\n  <tbody>\n    <tr>\n      <th>0</th>\n      <td>A</td>\n      <td>0</td>\n    </tr>\n    <tr>\n      <th>1</th>\n      <td>B</td>\n      <td>0</td>\n    </tr>\n    <tr>\n      <th>2</th>\n      <td>C</td>\n      <td>0</td>\n    </tr>\n    <tr>\n      <th>3</th>\n      <td>C</td>\n      <td>1</td>\n    </tr>\n    <tr>\n      <th>4</th>\n      <td>C</td>\n      <td>2</td>\n    </tr>\n    <tr>\n      <th>5</th>\n      <td>D</td>\n      <td>0</td>\n    </tr>\n  </tbody>\n</table>\n</div>"
     },
     "execution_count": 24,
     "metadata": {},
     "output_type": "execute_result"
    }
   ],
   "source": [
    "### 참고 cumcount() API\n",
    "\n",
    "test_df = pd.DataFrame({'ysp':['A','B','C','C','C','D']})\n",
    "print(test_df)\n",
    "test_df['cum_count']= test_df.groupby(by='ysp').cumcount()\n",
    "test_df"
   ],
   "metadata": {
    "collapsed": false,
    "pycharm": {
     "name": "#%%\n"
    }
   }
  },
  {
   "cell_type": "code",
   "execution_count": 26,
   "outputs": [],
   "source": [
    "# end of file"
   ],
   "metadata": {
    "collapsed": false,
    "pycharm": {
     "name": "#%%\n"
    }
   }
  }
 ],
 "metadata": {
  "kernelspec": {
   "display_name": "Python 3",
   "language": "python",
   "name": "python3"
  },
  "language_info": {
   "codemirror_mode": {
    "name": "ipython",
    "version": 2
   },
   "file_extension": ".py",
   "mimetype": "text/x-python",
   "name": "python",
   "nbconvert_exporter": "python",
   "pygments_lexer": "ipython2",
   "version": "2.7.6"
  }
 },
 "nbformat": 4,
 "nbformat_minor": 0
}