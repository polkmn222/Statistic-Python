{
 "cells": [
  {
   "cell_type": "markdown",
   "id": "a8a46f1f",
   "metadata": {
    "pycharm": {
     "name": "#%% md\n"
    }
   },
   "source": [
    "## 컬럼명 전처리"
   ]
  },
  {
   "cell_type": "code",
   "execution_count": 1,
   "id": "1ff34bff",
   "metadata": {
    "pycharm": {
     "name": "#%%\n"
    }
   },
   "outputs": [],
   "source": [
    "import pandas as pd\n",
    "import numpy as np"
   ]
  },
  {
   "cell_type": "code",
   "execution_count": 2,
   "id": "405c73a2",
   "metadata": {
    "pycharm": {
     "name": "#%%\n"
    }
   },
   "outputs": [],
   "source": [
    "og_name_df = pd.read_csv('./HAPT Data Set/features.txt',header=None,\n",
    "                            sep='\\s+',\n",
    "                            names=['column_name']).reset_index()"
   ]
  },
  {
   "cell_type": "code",
   "execution_count": 3,
   "id": "cec64e6f",
   "metadata": {
    "pycharm": {
     "name": "#%%\n"
    }
   },
   "outputs": [],
   "source": [
    "# step1 원본 데이터를 컬럼명으로 groupby했음\n",
    "# step2 cumcount라는 함수로 중복된 값을 확인 ---> 결과값 series\n",
    "cum_name_sr = og_name_df.groupby(by='column_name').cumcount()\n",
    "\n",
    "# step3 위의 결과를 보기 편하게 df로 세팅\n",
    "new_name_df = pd.DataFrame(cum_name_sr, columns=['copy_cnt'])\n",
    "new_name_df = new_name_df.reset_index()\n",
    "\n",
    "name_copy_cnt = pd.merge(og_name_df,new_name_df, how='outer')"
   ]
  },
  {
   "cell_type": "code",
   "execution_count": 4,
   "id": "0169455a",
   "metadata": {
    "pycharm": {
     "name": "#%%\n"
    }
   },
   "outputs": [
    {
     "data": {
      "text/plain": "     index                column_name  copy_cnt\n23      23          tBodyAcc-ropy-1_1         1\n24      24          tBodyAcc-ropy-1_2         2\n63      63       tGravityAcc-ropy-1_1         1\n64      64       tGravityAcc-ropy-1_2         2\n103    103      tBodyAccJerk-ropy-1_1         1\n104    104      tBodyAccJerk-ropy-1_2         2\n143    143         tBodyGyro-ropy-1_1         1\n144    144         tBodyGyro-ropy-1_2         2\n183    183     tBodyGyroJerk-ropy-1_1         1\n184    184     tBodyGyroJerk-ropy-1_2         2\n288    288          fBodyAcc-ropy-1_1         1\n289    289          fBodyAcc-ropy-1_2         2\n298    298      fBodyAcc-Skewness-1_1         1\n299    299      fBodyAcc-Kurtosis-1_1         1\n300    300      fBodyAcc-Skewness-1_2         2\n301    301      fBodyAcc-Kurtosis-1_2         2\n367    367      fBodyAccJerk-ropy-1_1         1\n368    368      fBodyAccJerk-ropy-1_2         2\n377    377  fBodyAccJerk-Skewness-1_1         1\n378    378  fBodyAccJerk-Kurtosis-1_1         1\n379    379  fBodyAccJerk-Skewness-1_2         2\n380    380  fBodyAccJerk-Kurtosis-1_2         2\n446    446         fBodyGyro-ropy-1_1         1\n447    447         fBodyGyro-ropy-1_2         2\n456    456     fBodyGyro-Skewness-1_1         1\n457    457     fBodyGyro-Kurtosis-1_1         1\n458    458     fBodyGyro-Skewness-1_2         2\n459    459     fBodyGyro-Kurtosis-1_2         2",
      "text/html": "<div>\n<style scoped>\n    .dataframe tbody tr th:only-of-type {\n        vertical-align: middle;\n    }\n\n    .dataframe tbody tr th {\n        vertical-align: top;\n    }\n\n    .dataframe thead th {\n        text-align: right;\n    }\n</style>\n<table border=\"1\" class=\"dataframe\">\n  <thead>\n    <tr style=\"text-align: right;\">\n      <th></th>\n      <th>index</th>\n      <th>column_name</th>\n      <th>copy_cnt</th>\n    </tr>\n  </thead>\n  <tbody>\n    <tr>\n      <th>23</th>\n      <td>23</td>\n      <td>tBodyAcc-ropy-1_1</td>\n      <td>1</td>\n    </tr>\n    <tr>\n      <th>24</th>\n      <td>24</td>\n      <td>tBodyAcc-ropy-1_2</td>\n      <td>2</td>\n    </tr>\n    <tr>\n      <th>63</th>\n      <td>63</td>\n      <td>tGravityAcc-ropy-1_1</td>\n      <td>1</td>\n    </tr>\n    <tr>\n      <th>64</th>\n      <td>64</td>\n      <td>tGravityAcc-ropy-1_2</td>\n      <td>2</td>\n    </tr>\n    <tr>\n      <th>103</th>\n      <td>103</td>\n      <td>tBodyAccJerk-ropy-1_1</td>\n      <td>1</td>\n    </tr>\n    <tr>\n      <th>104</th>\n      <td>104</td>\n      <td>tBodyAccJerk-ropy-1_2</td>\n      <td>2</td>\n    </tr>\n    <tr>\n      <th>143</th>\n      <td>143</td>\n      <td>tBodyGyro-ropy-1_1</td>\n      <td>1</td>\n    </tr>\n    <tr>\n      <th>144</th>\n      <td>144</td>\n      <td>tBodyGyro-ropy-1_2</td>\n      <td>2</td>\n    </tr>\n    <tr>\n      <th>183</th>\n      <td>183</td>\n      <td>tBodyGyroJerk-ropy-1_1</td>\n      <td>1</td>\n    </tr>\n    <tr>\n      <th>184</th>\n      <td>184</td>\n      <td>tBodyGyroJerk-ropy-1_2</td>\n      <td>2</td>\n    </tr>\n    <tr>\n      <th>288</th>\n      <td>288</td>\n      <td>fBodyAcc-ropy-1_1</td>\n      <td>1</td>\n    </tr>\n    <tr>\n      <th>289</th>\n      <td>289</td>\n      <td>fBodyAcc-ropy-1_2</td>\n      <td>2</td>\n    </tr>\n    <tr>\n      <th>298</th>\n      <td>298</td>\n      <td>fBodyAcc-Skewness-1_1</td>\n      <td>1</td>\n    </tr>\n    <tr>\n      <th>299</th>\n      <td>299</td>\n      <td>fBodyAcc-Kurtosis-1_1</td>\n      <td>1</td>\n    </tr>\n    <tr>\n      <th>300</th>\n      <td>300</td>\n      <td>fBodyAcc-Skewness-1_2</td>\n      <td>2</td>\n    </tr>\n    <tr>\n      <th>301</th>\n      <td>301</td>\n      <td>fBodyAcc-Kurtosis-1_2</td>\n      <td>2</td>\n    </tr>\n    <tr>\n      <th>367</th>\n      <td>367</td>\n      <td>fBodyAccJerk-ropy-1_1</td>\n      <td>1</td>\n    </tr>\n    <tr>\n      <th>368</th>\n      <td>368</td>\n      <td>fBodyAccJerk-ropy-1_2</td>\n      <td>2</td>\n    </tr>\n    <tr>\n      <th>377</th>\n      <td>377</td>\n      <td>fBodyAccJerk-Skewness-1_1</td>\n      <td>1</td>\n    </tr>\n    <tr>\n      <th>378</th>\n      <td>378</td>\n      <td>fBodyAccJerk-Kurtosis-1_1</td>\n      <td>1</td>\n    </tr>\n    <tr>\n      <th>379</th>\n      <td>379</td>\n      <td>fBodyAccJerk-Skewness-1_2</td>\n      <td>2</td>\n    </tr>\n    <tr>\n      <th>380</th>\n      <td>380</td>\n      <td>fBodyAccJerk-Kurtosis-1_2</td>\n      <td>2</td>\n    </tr>\n    <tr>\n      <th>446</th>\n      <td>446</td>\n      <td>fBodyGyro-ropy-1_1</td>\n      <td>1</td>\n    </tr>\n    <tr>\n      <th>447</th>\n      <td>447</td>\n      <td>fBodyGyro-ropy-1_2</td>\n      <td>2</td>\n    </tr>\n    <tr>\n      <th>456</th>\n      <td>456</td>\n      <td>fBodyGyro-Skewness-1_1</td>\n      <td>1</td>\n    </tr>\n    <tr>\n      <th>457</th>\n      <td>457</td>\n      <td>fBodyGyro-Kurtosis-1_1</td>\n      <td>1</td>\n    </tr>\n    <tr>\n      <th>458</th>\n      <td>458</td>\n      <td>fBodyGyro-Skewness-1_2</td>\n      <td>2</td>\n    </tr>\n    <tr>\n      <th>459</th>\n      <td>459</td>\n      <td>fBodyGyro-Kurtosis-1_2</td>\n      <td>2</td>\n    </tr>\n  </tbody>\n</table>\n</div>"
     },
     "execution_count": 4,
     "metadata": {},
     "output_type": "execute_result"
    }
   ],
   "source": [
    "### apply lambda를 적용하여 새로운 컬럼명 생성\n",
    "\n",
    "## 중복값이 얼마나 되는지 확인한 조건식\n",
    "name_copy_cnt[name_copy_cnt.copy_cnt>0]\n",
    "\n",
    "# apply_lambda 적용\n",
    "# 귀찮으시면 여기까지 -1\n",
    "name_copy_cnt[['column_name','copy_cnt']].apply(lambda x: str(x[0])+'_'+str(x[1]), axis=1)\n",
    "\n",
    "# 조금 더 전처리를 원하시면? - 2\n",
    "name_copy_cnt['column_name'] = name_copy_cnt[['column_name','copy_cnt']].apply(lambda x: str(x[0])+'_'+str(x[1]) if int(x[1]) >0 else x[0], axis=1)\n",
    "name_copy_cnt[name_copy_cnt['copy_cnt']>0]"
   ]
  },
  {
   "cell_type": "code",
   "execution_count": 5,
   "id": "41c0c282",
   "metadata": {
    "pycharm": {
     "name": "#%%\n"
    }
   },
   "outputs": [],
   "source": [
    "ftr_name = name_copy_cnt.column_name.values.tolist()"
   ]
  },
  {
   "cell_type": "code",
   "execution_count": 7,
   "id": "f006a3ea",
   "metadata": {
    "pycharm": {
     "name": "#%%\n"
    }
   },
   "outputs": [],
   "source": [
    "### 이제부터 X_train과 X_test, y_train, y_test 데이터를 토대로...\n",
    "## 분석을 수행해봅니다.\n",
    "\n",
    "X_train = pd.read_csv('./HAPT Data Set/train/X_train.txt',header=None,\n",
    "                            sep='\\s+',\n",
    "                            names=ftr_name)\n",
    "\n",
    "X_test = pd.read_csv('./HAPT Data Set/test/X_test.txt',header=None,\n",
    "                            sep='\\s+',\n",
    "                            names=ftr_name)\n",
    "\n",
    "y_train =  pd.read_csv('./HAPT Data Set/train/y_train.txt',header=None,\n",
    "                            sep='\\s+',\n",
    "                            names=['action'])\n",
    "\n",
    "y_test =  pd.read_csv('./HAPT Data Set/test/y_test.txt',header=None,\n",
    "                            sep='\\s+',\n",
    "                            names=['action'])"
   ]
  },
  {
   "cell_type": "code",
   "execution_count": 8,
   "outputs": [],
   "source": [
    "from sklearn.tree import DecisionTreeClassifier\n",
    "from sklearn.ensemble import RandomForestClassifier\n",
    "from sklearn.linear_model import LogisticRegression\n",
    "\n",
    "from sklearn.metrics import accuracy_score\n",
    "import warnings\n",
    "warnings.filterwarnings(action='ignore')"
   ],
   "metadata": {
    "collapsed": false,
    "pycharm": {
     "name": "#%%\n"
    }
   }
  },
  {
   "cell_type": "code",
   "execution_count": 14,
   "outputs": [],
   "source": [
    "# 필요 라이브러리\n",
    "from sklearn.tree import DecisionTreeClassifier\n",
    "from sklearn.ensemble import RandomForestClassifier\n",
    "from sklearn.linear_model import LogisticRegression\n",
    "\n",
    "### 객체화\n",
    "dt_clf = DecisionTreeClassifier(random_state=11)\n",
    "rf_clf = RandomForestClassifier(random_state=11)\n",
    "lr_clf = LogisticRegression(random_state=11)"
   ],
   "metadata": {
    "collapsed": false,
    "pycharm": {
     "name": "#%%\n"
    }
   }
  },
  {
   "cell_type": "code",
   "execution_count": 15,
   "outputs": [
    {
     "name": "stdout",
     "output_type": "stream",
     "text": [
      "dt_clf의 정확도: 0.8052\n",
      "rf_clf의 정확도: 0.9099\n",
      "lr_clf의 정확도: 0.939\n"
     ]
    }
   ],
   "source": [
    "# train과 validation을 통해서 미리\n",
    "# 학습된 알고리즘 및 가장 높은 정확도의 알고리즘 선택\n",
    "\n",
    "## dt_clf 학습\n",
    "dt_clf.fit(X_train, y_train)\n",
    "pred_dt = dt_clf.predict(X_test)\n",
    "accuracy_dt = accuracy_score(y_test,pred_dt)\n",
    "\n",
    "print('dt_clf의 정확도:', np.round(accuracy_dt,4))\n",
    "\n",
    "## rf_clf 학습\n",
    "rf_clf.fit(X_train,y_train)\n",
    "pred_rf = rf_clf.predict(X_test)\n",
    "accuracy_rf = accuracy_score(y_test,pred_rf)\n",
    "\n",
    "print('rf_clf의 정확도:', np.round(accuracy_rf,4))\n",
    "\n",
    "## lr_clf 학습\n",
    "lr_clf.fit(X_train,y_train)\n",
    "pred_lr = lr_clf.predict(X_test)\n",
    "accuracy_lr = accuracy_score(y_test,pred_lr)\n",
    "\n",
    "print('lr_clf의 정확도:', np.round(accuracy_lr,4))"
   ],
   "metadata": {
    "collapsed": false,
    "pycharm": {
     "name": "#%%\n"
    }
   }
  },
  {
   "cell_type": "code",
   "execution_count": 16,
   "outputs": [],
   "source": [
    "from sklearn.model_selection import GridSearchCV\n",
    "\n",
    "parameters = {'max_depth':[2,3,5,10],\n",
    "              'min_samples_split':[2,3,5],\n",
    "              'min_samples_leaf':[1,5,8]}"
   ],
   "metadata": {
    "collapsed": false,
    "pycharm": {
     "name": "#%%\n"
    }
   }
  },
  {
   "cell_type": "code",
   "execution_count": 17,
   "outputs": [
    {
     "name": "stdout",
     "output_type": "stream",
     "text": [
      "grid_dt_clf 최적 파라미터: {'max_depth': 10, 'min_samples_leaf': 5, 'min_samples_split': 2}\n",
      "grid_dt_clf 최고 정확도: 0.8526\n"
     ]
    }
   ],
   "source": [
    "grid_dt_clf = GridSearchCV(dt_clf, param_grid=parameters, scoring='accuracy', cv=5)\n",
    "grid_dt_clf.fit(X_train,y_train) # 전체 train이 아닌 validation을 분할하고\n",
    "                                 # 난 뒤의 train입니다.\n",
    "\n",
    "print('grid_dt_clf 최적 파라미터:', grid_dt_clf.best_params_)\n",
    "print('grid_dt_clf 최고 정확도:', np.round(grid_dt_clf.best_score_,4))"
   ],
   "metadata": {
    "collapsed": false,
    "pycharm": {
     "name": "#%%\n"
    }
   }
  },
  {
   "cell_type": "code",
   "execution_count": 18,
   "outputs": [
    {
     "name": "stdout",
     "output_type": "stream",
     "text": [
      "Randomforest 정확도:0.9102\n",
      "Randomforest 수행시간:12.45초\n"
     ]
    }
   ],
   "source": [
    "import time\n",
    "from sklearn.metrics import accuracy_score\n",
    "\n",
    "# 분류 알고리즘\n",
    "start_time = time.time()\n",
    "\n",
    "rf_clf = RandomForestClassifier()\n",
    "\n",
    "rf_clf.fit(X_train,y_train)\n",
    "pred_rf = rf_clf.predict(X_test)\n",
    "print('Randomforest 정확도:{0:.4f}'.format(accuracy_score(y_test,pred_rf)))\n",
    "print('Randomforest 수행시간:{0:.2f}초'.format(time.time()-start_time))"
   ],
   "metadata": {
    "collapsed": false,
    "pycharm": {
     "name": "#%%\n"
    }
   }
  },
  {
   "cell_type": "code",
   "execution_count": 19,
   "outputs": [],
   "source": [
    "from sklearn.model_selection import RandomizedSearchCV\n",
    "?RandomizedSearchCV"
   ],
   "metadata": {
    "collapsed": false,
    "pycharm": {
     "name": "#%%\n"
    }
   }
  },
  {
   "cell_type": "code",
   "execution_count": 17,
   "id": "8bfae8bb",
   "metadata": {
    "pycharm": {
     "name": "#%%\n"
    }
   },
   "outputs": [],
   "source": [
    "## end of preprocessing"
   ]
  },
  {
   "cell_type": "code",
   "execution_count": 18,
   "id": "1c51b1f8",
   "metadata": {
    "pycharm": {
     "name": "#%%\n"
    }
   },
   "outputs": [],
   "source": [
    "## we will start to analyze "
   ]
  }
 ],
 "metadata": {
  "kernelspec": {
   "display_name": "Python 3 (ipykernel)",
   "language": "python",
   "name": "python3"
  },
  "language_info": {
   "codemirror_mode": {
    "name": "ipython",
    "version": 3
   },
   "file_extension": ".py",
   "mimetype": "text/x-python",
   "name": "python",
   "nbconvert_exporter": "python",
   "pygments_lexer": "ipython3",
   "version": "3.9.7"
  }
 },
 "nbformat": 4,
 "nbformat_minor": 5
}