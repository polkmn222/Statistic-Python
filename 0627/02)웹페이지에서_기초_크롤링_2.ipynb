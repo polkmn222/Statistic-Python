{
 "cells": [
  {
   "cell_type": "markdown",
   "metadata": {
    "id": "RyE8GlAJ663m",
    "pycharm": {
     "name": "#%% md\n"
    }
   },
   "source": [
    "다운로드한 웹 페이지 또는 RSS에서의 스크레이핑을 시도해보자. 파이썬 표준 라이브러리로 저장한 파일에서 도서의 제목 및 URL 등의 데이터를 추출한다."
   ]
  },
  {
   "cell_type": "markdown",
   "metadata": {
    "id": "zXvgt3DV7ZHX",
    "pycharm": {
     "name": "#%% md\n"
    }
   },
   "source": [
    "    * 정규표현식\n",
    "\n",
    "    * XML 파서"
   ]
  },
  {
   "cell_type": "markdown",
   "metadata": {
    "id": "lz6N3_EY7hHW",
    "pycharm": {
     "name": "#%% md\n"
    }
   },
   "source": [
    "* 정규 표현식으로 Scraping할 때에는 HTML을 단순한 문자열로 취급하고, 필요한 부분을 추출한다. 제대로 마크업되지 않은 웹 페이지도 문자열의 특징을 파악하면 쉬운 스크레이핑 작업이 가능하다. "
   ]
  },
  {
   "cell_type": "markdown",
   "metadata": {
    "id": "eW89gmRn7yvu",
    "pycharm": {
     "name": "#%% md\n"
    }
   },
   "source": [
    "* XML 파서로 하는 Scraping할 때는 HTML태그를 분석(파싱:: parsing)하고, 필요한 부분을 추출한다. 블로그 또는 뉴스 사이트 정보를 전달하는 RSS처럼 많은 정보가 XML에는 제공된다."
   ]
  },
  {
   "cell_type": "markdown",
   "metadata": {
    "id": "2B374kIU78TW",
    "pycharm": {
     "name": "#%% md\n"
    }
   },
   "source": [
    "참고) XML과 HTML은 비슷해보이나, XML파서에 HTML을 곧바로 넣어 분석할 수는 없다. HTML은 종료 태그(tag)가 생략되는 등 XML에 비하면 더욱 유연하게 사용되기 때문이다. \n",
    "\n",
    "뿐 만 아니라, 웹 브라우저는 문법에 문제가 있는 HTML이라도 어떻게든 출력해주는 경향이 있다.\n",
    "\n",
    "하지만 parsing의 경우 문제가 있는 HTML은 제대로 파싱할 수 없으며, 이러한 문제가 있는 웹 페이지는 생각보다 많다."
   ]
  },
  {
   "cell_type": "markdown",
   "metadata": {
    "id": "vVx4QYw--cYn",
    "pycharm": {
     "name": "#%% md\n"
    }
   },
   "source": [
    "***::: 따라서, HTML을 parsing할 때에는 HTML 전용 parser가 필요하다***"
   ]
  },
  {
   "cell_type": "code",
   "execution_count": 1,
   "metadata": {
    "id": "-f7bfbrd-lko",
    "pycharm": {
     "name": "#%%\n"
    }
   },
   "outputs": [
    {
     "data": {
      "text/plain": [
       "<re.Match object; span=(0, 3), match='abc'>"
      ]
     },
     "execution_count": 1,
     "metadata": {},
     "output_type": "execute_result"
    }
   ],
   "source": [
    "### 정규표현식 scraping\n",
    "import re\n",
    "\n",
    "# re.search() 함수를 사용하면 두 번째 매개변수의 문자열이 첫 번째 매개변수의 정규식에 일치하는지 확인 가능하다\n",
    "# 맞을 경우에는 match 객체를 반환, 그렇지 않다면, None을 반환한다.\n",
    "# 아래의 예에서는 match 객체가 반환되었다.\n",
    "# match='abc'를 보면 abc가 매치된 것이 확인 가능하다.\n",
    "re.search(r'a.*c', 'abc123DEF')\n"
   ]
  },
  {
   "cell_type": "code",
   "execution_count": 2,
   "metadata": {
    "id": "etF0kXmB_upQ",
    "pycharm": {
     "name": "#%%\n"
    }
   },
   "outputs": [],
   "source": [
    " # 다음 예제는 정규표현식에 일치하지 않으므로 None을 반환한다\n",
    " # interactive shell에서 결과가 없을 경우, 바로 >>>을 출력한다.\n",
    "re.search(r'a.*d', 'abc123DEF')"
   ]
  },
  {
   "cell_type": "code",
   "execution_count": 3,
   "metadata": {
    "id": "M9cMWTeGMR36",
    "pycharm": {
     "name": "#%%\n"
    }
   },
   "outputs": [
    {
     "data": {
      "text/plain": [
       "<re.Match object; span=(0, 7), match='abc123D'>"
      ]
     },
     "execution_count": 3,
     "metadata": {},
     "output_type": "execute_result"
    }
   ],
   "source": [
    "# 세 번째 매개변수로 옵션을 지정한다\n",
    "# re.IGNORECASE(또는 re.I)를 지정하면 대소문자를 무시한다\n",
    "# 이외에도 굉장히 다양한 옵션이 존재한다\n",
    "\n",
    "re.search(r'a.*d', 'abc123DEF', re.IGNORECASE)"
   ]
  },
  {
   "cell_type": "code",
   "execution_count": 4,
   "metadata": {
    "id": "yYFzFbgcM9vp",
    "pycharm": {
     "name": "#%%\n"
    }
   },
   "outputs": [
    {
     "data": {
      "text/plain": [
       "'abc'"
      ]
     },
     "execution_count": 4,
     "metadata": {},
     "output_type": "execute_result"
    }
   ],
   "source": [
    "# match 객체의 group()메서드로 일치한 값을 추출\n",
    "# 매개변수에 0을 지정하면 매치된 모든 값을 반환\n",
    "m = re.search(r'a(.*)c', 'abc123DEF')\n",
    "m.group(0)"
   ]
  },
  {
   "cell_type": "code",
   "execution_count": 5,
   "metadata": {
    "id": "PS_XOL8MNjnj",
    "pycharm": {
     "name": "#%%\n"
    }
   },
   "outputs": [
    {
     "data": {
      "text/plain": [
       "'b'"
      ]
     },
     "execution_count": 5,
     "metadata": {},
     "output_type": "execute_result"
    }
   ],
   "source": [
    "# 매개변수에 1이상의 숫자를 지정하면 정규 표현식에서 ()로 감싼 부분에 해당하는 값을 추출\n",
    "# 1이라면 1번째 그룹, 2라면 2번째 그룹이 추출된다.\n",
    "\n",
    "m.group(1)"
   ]
  },
  {
   "cell_type": "code",
   "execution_count": 6,
   "metadata": {
    "id": "C-MvV6A-OEnp",
    "pycharm": {
     "name": "#%%\n"
    }
   },
   "outputs": [
    {
     "data": {
      "text/plain": [
       "['This', 'is', 'pen']"
      ]
     },
     "execution_count": 6,
     "metadata": {},
     "output_type": "execute_result"
    }
   ],
   "source": [
    "# re.findall() 함수를 사용하면 정규 표현식에 맞는 모든 부분을 추출 가능하다\n",
    "# 다음 예에서는 2글자 이상의 단어를 모두 추출해보자.\n",
    "# \\w는 유니코드로 글자를 비교한다. 이 밖에도 공백 문자는 \\s 등으로 추출 가능하다\n",
    "re.findall(r'\\w{2,}', 'This is a pen')"
   ]
  },
  {
   "cell_type": "code",
   "execution_count": 7,
   "metadata": {
    "id": "JdGOs0u7N5tz",
    "pycharm": {
     "name": "#%%\n"
    }
   },
   "outputs": [
    {
     "data": {
      "text/plain": [
       "'yes_good yes_good a yes_good'"
      ]
     },
     "execution_count": 7,
     "metadata": {},
     "output_type": "execute_result"
    }
   ],
   "source": [
    "# re.sub()함수를 사용하면 정규 표현식에 맞는 부분을 바꿀 수 있다.\n",
    "# 3번째 매개변수에 넣은 문자열에서 첫 번재 정규 표현식에 맞는 부분을\n",
    "# 2번째 매개변수로 변경한다.\n",
    "re.sub(r'\\w{2,}','yes_good', 'This is a pen')"
   ]
  },
  {
   "cell_type": "code",
   "execution_count": 8,
   "metadata": {
    "id": "bo4GFlRjTqkd",
    "pycharm": {
     "name": "#%%\n"
    }
   },
   "outputs": [
    {
     "ename": "FileNotFoundError",
     "evalue": "[Errno 2] No such file or directory: 'dp.html'",
     "output_type": "error",
     "traceback": [
      "\u001b[1;31m---------------------------------------------------------------------------\u001b[0m",
      "\u001b[1;31mFileNotFoundError\u001b[0m                         Traceback (most recent call last)",
      "\u001b[1;32m~\\AppData\\Local\\Temp/ipykernel_16308/1135172870.py\u001b[0m in \u001b[0;36m<module>\u001b[1;34m\u001b[0m\n\u001b[0;32m      3\u001b[0m \u001b[1;33m\u001b[0m\u001b[0m\n\u001b[0;32m      4\u001b[0m \u001b[1;31m# 이전 절에서 다운로드한 파일을 열고 html이라는 변수에 저장해보자.\u001b[0m\u001b[1;33m\u001b[0m\u001b[1;33m\u001b[0m\u001b[0m\n\u001b[1;32m----> 5\u001b[1;33m \u001b[1;32mwith\u001b[0m \u001b[0mopen\u001b[0m\u001b[1;33m(\u001b[0m\u001b[1;34m'dp.html'\u001b[0m\u001b[1;33m)\u001b[0m \u001b[1;32mas\u001b[0m \u001b[0mf\u001b[0m\u001b[1;33m:\u001b[0m\u001b[1;33m\u001b[0m\u001b[1;33m\u001b[0m\u001b[0m\n\u001b[0m\u001b[0;32m      6\u001b[0m     \u001b[0mhtml\u001b[0m \u001b[1;33m=\u001b[0m \u001b[0mf\u001b[0m\u001b[1;33m.\u001b[0m\u001b[0mread\u001b[0m\u001b[1;33m(\u001b[0m\u001b[1;33m)\u001b[0m\u001b[1;33m\u001b[0m\u001b[1;33m\u001b[0m\u001b[0m\n\u001b[0;32m      7\u001b[0m \u001b[1;33m\u001b[0m\u001b[0m\n",
      "\u001b[1;31mFileNotFoundError\u001b[0m: [Errno 2] No such file or directory: 'dp.html'"
     ]
    }
   ],
   "source": [
    "import re\n",
    "from html import unescape\n",
    "\n",
    "# 이전 절에서 다운로드한 파일을 열고 html이라는 변수에 저장해보자.\n",
    "with open('dp.html') as f:\n",
    "    html = f.read()\n",
    "    \n",
    "# re.findall()을 사용해 도서 각각에 해당하는 HTML을 추출한다.\\\n",
    "for partial_html in re.findall(r'<td class=\"left\"><a.*?<\\td>', html, re.DOTALL):\n",
    "    # 도서의 URL을 추출하자.\n",
    "    url = re.search(r'<a href=\"(.*?)\">', partial_html).group(1)\n",
    "    print(url)\n",
    "\n",
    "    "
   ]
  },
  {
   "cell_type": "code",
   "execution_count": null,
   "metadata": {
    "pycharm": {
     "name": "#%%\n"
    }
   },
   "outputs": [],
   "source": [
    "for partial_html in re.findall(r'<td class=\"left\"><a.*?</td>', html, re.DOTALL):\n",
    "    # 도서의 URL을 추출하자.\n",
    "    \n",
    "    print(partial_html)\n",
    "    url = re.search(r'<a href=\"(.*?)\">', partial_html).group(1)\n",
    "    url = 'https://hanbit.co.kr/' + url \n",
    "#     print(url)\n",
    "    \n",
    "    # 태그를 제거하여 도서의 제목을 추출한다.\n",
    "    title = re.sub(r'<.*?>','', partial_html)\n",
    "    title = unescape(title)\n",
    "    print('url:', url)    \n",
    "    print('title:', title)\n",
    "    print('---'*35)\n"
   ]
  },
  {
   "cell_type": "code",
   "execution_count": null,
   "metadata": {
    "pycharm": {
     "name": "#%%\n"
    }
   },
   "outputs": [],
   "source": [
    "# end of the file"
   ]
  }
 ],
 "metadata": {
  "colab": {
   "name": "02)웹페이지에서 기초 크롤링-2.ipynb",
   "private_outputs": true,
   "provenance": []
  },
  "kernelspec": {
   "display_name": "Python 3 (ipykernel)",
   "language": "python",
   "name": "python3"
  },
  "language_info": {
   "codemirror_mode": {
    "name": "ipython",
    "version": 3
   },
   "file_extension": ".py",
   "mimetype": "text/x-python",
   "name": "python",
   "nbconvert_exporter": "python",
   "pygments_lexer": "ipython3",
   "version": "3.9.7"
  }
 },
 "nbformat": 4,
 "nbformat_minor": 1
}
