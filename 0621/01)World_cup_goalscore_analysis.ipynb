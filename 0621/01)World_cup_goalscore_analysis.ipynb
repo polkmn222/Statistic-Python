{
 "cells": [
  {
   "cell_type": "code",
   "execution_count": 4,
   "id": "fa93101f",
   "metadata": {
    "pycharm": {
     "name": "#%%\n"
    }
   },
   "outputs": [
    {
     "data": {
      "text/plain": "                   Player  Goals                Years     Country\n0          Miroslav Klose     16  2002-2006-2010-2014     Germany\n1                 Ronaldo     15       1998-2002-2006      Brazil\n2             Gerd Muller     14            1970-1974     Germany\n3           Just Fontaine     13                 1958      France\n4                    Pele     12  1958-1962-1966-1970      Brazil\n...                   ...    ...                  ...         ...\n1290        Josip Skoblar      1                 1962  Yugoslavia\n1291          Safet Susic      1            1982-1990  Yugoslavia\n1292  Aleksandar Tirnanic      1                 1930  Yugoslavia\n1293  Djordje Vujadinovic      1                 1930  Yugoslavia\n1294         Branko Zebec      1            1954-1958  Yugoslavia\n\n[1295 rows x 4 columns]",
      "text/html": "<div>\n<style scoped>\n    .dataframe tbody tr th:only-of-type {\n        vertical-align: middle;\n    }\n\n    .dataframe tbody tr th {\n        vertical-align: top;\n    }\n\n    .dataframe thead th {\n        text-align: right;\n    }\n</style>\n<table border=\"1\" class=\"dataframe\">\n  <thead>\n    <tr style=\"text-align: right;\">\n      <th></th>\n      <th>Player</th>\n      <th>Goals</th>\n      <th>Years</th>\n      <th>Country</th>\n    </tr>\n  </thead>\n  <tbody>\n    <tr>\n      <th>0</th>\n      <td>Miroslav Klose</td>\n      <td>16</td>\n      <td>2002-2006-2010-2014</td>\n      <td>Germany</td>\n    </tr>\n    <tr>\n      <th>1</th>\n      <td>Ronaldo</td>\n      <td>15</td>\n      <td>1998-2002-2006</td>\n      <td>Brazil</td>\n    </tr>\n    <tr>\n      <th>2</th>\n      <td>Gerd Muller</td>\n      <td>14</td>\n      <td>1970-1974</td>\n      <td>Germany</td>\n    </tr>\n    <tr>\n      <th>3</th>\n      <td>Just Fontaine</td>\n      <td>13</td>\n      <td>1958</td>\n      <td>France</td>\n    </tr>\n    <tr>\n      <th>4</th>\n      <td>Pele</td>\n      <td>12</td>\n      <td>1958-1962-1966-1970</td>\n      <td>Brazil</td>\n    </tr>\n    <tr>\n      <th>...</th>\n      <td>...</td>\n      <td>...</td>\n      <td>...</td>\n      <td>...</td>\n    </tr>\n    <tr>\n      <th>1290</th>\n      <td>Josip Skoblar</td>\n      <td>1</td>\n      <td>1962</td>\n      <td>Yugoslavia</td>\n    </tr>\n    <tr>\n      <th>1291</th>\n      <td>Safet Susic</td>\n      <td>1</td>\n      <td>1982-1990</td>\n      <td>Yugoslavia</td>\n    </tr>\n    <tr>\n      <th>1292</th>\n      <td>Aleksandar Tirnanic</td>\n      <td>1</td>\n      <td>1930</td>\n      <td>Yugoslavia</td>\n    </tr>\n    <tr>\n      <th>1293</th>\n      <td>Djordje Vujadinovic</td>\n      <td>1</td>\n      <td>1930</td>\n      <td>Yugoslavia</td>\n    </tr>\n    <tr>\n      <th>1294</th>\n      <td>Branko Zebec</td>\n      <td>1</td>\n      <td>1954-1958</td>\n      <td>Yugoslavia</td>\n    </tr>\n  </tbody>\n</table>\n<p>1295 rows × 4 columns</p>\n</div>"
     },
     "execution_count": 4,
     "metadata": {},
     "output_type": "execute_result"
    }
   ],
   "source": [
    "import pandas as pd\n",
    "import numpy as np\n",
    "\n",
    "goal_df = pd.read_csv('./worldcupgoals.csv')\n",
    "goal_df"
   ]
  },
  {
   "cell_type": "code",
   "execution_count": 5,
   "id": "0fe05537",
   "metadata": {
    "pycharm": {
     "name": "#%%\n"
    }
   },
   "outputs": [],
   "source": [
    "# Q1. 전체기간에서의 각 나라별 골득점수가 가장 높은 상위 5개의 나라와 그 득점수를\n",
    "# df형태로 출력해보자."
   ]
  },
  {
   "cell_type": "code",
   "execution_count": 6,
   "id": "662691df",
   "metadata": {
    "pycharm": {
     "name": "#%%\n"
    }
   },
   "outputs": [
    {
     "data": {
      "text/plain": "           Goals\nCountry         \nBrazil       228\nGermany      226\nArgentina    135\nItaly        123\nFrance       115",
      "text/html": "<div>\n<style scoped>\n    .dataframe tbody tr th:only-of-type {\n        vertical-align: middle;\n    }\n\n    .dataframe tbody tr th {\n        vertical-align: top;\n    }\n\n    .dataframe thead th {\n        text-align: right;\n    }\n</style>\n<table border=\"1\" class=\"dataframe\">\n  <thead>\n    <tr style=\"text-align: right;\">\n      <th></th>\n      <th>Goals</th>\n    </tr>\n    <tr>\n      <th>Country</th>\n      <th></th>\n    </tr>\n  </thead>\n  <tbody>\n    <tr>\n      <th>Brazil</th>\n      <td>228</td>\n    </tr>\n    <tr>\n      <th>Germany</th>\n      <td>226</td>\n    </tr>\n    <tr>\n      <th>Argentina</th>\n      <td>135</td>\n    </tr>\n    <tr>\n      <th>Italy</th>\n      <td>123</td>\n    </tr>\n    <tr>\n      <th>France</th>\n      <td>115</td>\n    </tr>\n  </tbody>\n</table>\n</div>"
     },
     "execution_count": 6,
     "metadata": {},
     "output_type": "execute_result"
    }
   ],
   "source": [
    "goal_df.groupby(by='Country').sum().sort_values('Goals',ascending=False).head(5)"
   ]
  },
  {
   "cell_type": "code",
   "execution_count": 7,
   "id": "b0dbffd8",
   "metadata": {
    "pycharm": {
     "name": "#%%\n"
    }
   },
   "outputs": [],
   "source": [
    "# Q2. 전체기간에서의 각 나라별 '골을 득점한 선수'가 가장 높은 상위 5개의 나라와 그 득점수를\n",
    "# df형태로 출력해보자."
   ]
  },
  {
   "cell_type": "code",
   "execution_count": 8,
   "id": "91bf689d",
   "metadata": {
    "pycharm": {
     "name": "#%%\n"
    }
   },
   "outputs": [
    {
     "data": {
      "text/plain": "Country\nBrazil       81\nGermany      78\nItaly        60\nArgentina    59\nFrance       58\ndtype: int64"
     },
     "execution_count": 8,
     "metadata": {},
     "output_type": "execute_result"
    }
   ],
   "source": [
    "## 풀이 :: 각 나라별로 출력을 해야하다 보니 나라명을 기준으로 groupby를 진행합니다.\n",
    "##         또한 각 나라별로 모였던 것에서 위의 문제는 Goal득점수를 풀이하다보니\n",
    "##         더한 것이고, 현재의 문제에서는 득점한 선수(하나의 개체를 하나씩 세는 행위)\n",
    "##         이므로 size함수를 활용한 것입니다.\n",
    "\n",
    "goal_df.groupby(by='Country').size().sort_values(ascending=False).head(5)\n",
    "\n"
   ]
  },
  {
   "cell_type": "code",
   "execution_count": 9,
   "id": "d8c1cef9",
   "metadata": {
    "pycharm": {
     "name": "#%%\n"
    }
   },
   "outputs": [],
   "source": [
    "### Q3. Years의 컬럼이 년도의 형식이 좀 다릅니다. 그러므로 각 형식과 다른 값들을 한 번 살펴봅니다."
   ]
  },
  {
   "cell_type": "code",
   "execution_count": 10,
   "id": "d5f6a37f",
   "metadata": {
    "pycharm": {
     "name": "#%%\n"
    }
   },
   "outputs": [
    {
     "data": {
      "text/plain": "                   Player  Goals                Years     Country  \\\n0          Miroslav Klose     16  2002-2006-2010-2014     Germany   \n1                 Ronaldo     15       1998-2002-2006      Brazil   \n2             Gerd Muller     14            1970-1974     Germany   \n3           Just Fontaine     13                 1958      France   \n4                    Pele     12  1958-1962-1966-1970      Brazil   \n...                   ...    ...                  ...         ...   \n1290        Josip Skoblar      1                 1962  Yugoslavia   \n1291          Safet Susic      1            1982-1990  Yugoslavia   \n1292  Aleksandar Tirnanic      1                 1930  Yugoslavia   \n1293  Djordje Vujadinovic      1                 1930  Yugoslavia   \n1294         Branko Zebec      1            1954-1958  Yugoslavia   \n\n                      len_year  \n0     [2002, 2006, 2010, 2014]  \n1           [1998, 2002, 2006]  \n2                 [1970, 1974]  \n3                       [1958]  \n4     [1958, 1962, 1966, 1970]  \n...                        ...  \n1290                    [1962]  \n1291              [1982, 1990]  \n1292                    [1930]  \n1293                    [1930]  \n1294              [1954, 1958]  \n\n[1295 rows x 5 columns]",
      "text/html": "<div>\n<style scoped>\n    .dataframe tbody tr th:only-of-type {\n        vertical-align: middle;\n    }\n\n    .dataframe tbody tr th {\n        vertical-align: top;\n    }\n\n    .dataframe thead th {\n        text-align: right;\n    }\n</style>\n<table border=\"1\" class=\"dataframe\">\n  <thead>\n    <tr style=\"text-align: right;\">\n      <th></th>\n      <th>Player</th>\n      <th>Goals</th>\n      <th>Years</th>\n      <th>Country</th>\n      <th>len_year</th>\n    </tr>\n  </thead>\n  <tbody>\n    <tr>\n      <th>0</th>\n      <td>Miroslav Klose</td>\n      <td>16</td>\n      <td>2002-2006-2010-2014</td>\n      <td>Germany</td>\n      <td>[2002, 2006, 2010, 2014]</td>\n    </tr>\n    <tr>\n      <th>1</th>\n      <td>Ronaldo</td>\n      <td>15</td>\n      <td>1998-2002-2006</td>\n      <td>Brazil</td>\n      <td>[1998, 2002, 2006]</td>\n    </tr>\n    <tr>\n      <th>2</th>\n      <td>Gerd Muller</td>\n      <td>14</td>\n      <td>1970-1974</td>\n      <td>Germany</td>\n      <td>[1970, 1974]</td>\n    </tr>\n    <tr>\n      <th>3</th>\n      <td>Just Fontaine</td>\n      <td>13</td>\n      <td>1958</td>\n      <td>France</td>\n      <td>[1958]</td>\n    </tr>\n    <tr>\n      <th>4</th>\n      <td>Pele</td>\n      <td>12</td>\n      <td>1958-1962-1966-1970</td>\n      <td>Brazil</td>\n      <td>[1958, 1962, 1966, 1970]</td>\n    </tr>\n    <tr>\n      <th>...</th>\n      <td>...</td>\n      <td>...</td>\n      <td>...</td>\n      <td>...</td>\n      <td>...</td>\n    </tr>\n    <tr>\n      <th>1290</th>\n      <td>Josip Skoblar</td>\n      <td>1</td>\n      <td>1962</td>\n      <td>Yugoslavia</td>\n      <td>[1962]</td>\n    </tr>\n    <tr>\n      <th>1291</th>\n      <td>Safet Susic</td>\n      <td>1</td>\n      <td>1982-1990</td>\n      <td>Yugoslavia</td>\n      <td>[1982, 1990]</td>\n    </tr>\n    <tr>\n      <th>1292</th>\n      <td>Aleksandar Tirnanic</td>\n      <td>1</td>\n      <td>1930</td>\n      <td>Yugoslavia</td>\n      <td>[1930]</td>\n    </tr>\n    <tr>\n      <th>1293</th>\n      <td>Djordje Vujadinovic</td>\n      <td>1</td>\n      <td>1930</td>\n      <td>Yugoslavia</td>\n      <td>[1930]</td>\n    </tr>\n    <tr>\n      <th>1294</th>\n      <td>Branko Zebec</td>\n      <td>1</td>\n      <td>1954-1958</td>\n      <td>Yugoslavia</td>\n      <td>[1954, 1958]</td>\n    </tr>\n  </tbody>\n</table>\n<p>1295 rows × 5 columns</p>\n</div>"
     },
     "execution_count": 10,
     "metadata": {},
     "output_type": "execute_result"
    }
   ],
   "source": [
    "goal_df['len_year'] = goal_df.Years.str.split('-')\n",
    "goal_df\n",
    "\n",
    "## 사용자 정의 함수 적용\n",
    "def check_str(df_len_year):\n",
    "    for value in df_len_year:\n",
    "        if len(str(value)) != 4:\n",
    "            return False\n",
    "        else: \n",
    "            return True\n",
    "\n",
    "goal_df"
   ]
  },
  {
   "cell_type": "code",
   "execution_count": 11,
   "id": "ae2e11f1",
   "metadata": {
    "pycharm": {
     "name": "#%%\n"
    }
   },
   "outputs": [
    {
     "name": "stdout",
     "output_type": "stream",
     "text": [
      "흠결 데이터의 확인\n",
      " True     1250\n",
      "False      45\n",
      "Name: len_year, dtype: int64\n"
     ]
    },
    {
     "data": {
      "text/plain": "1250"
     },
     "execution_count": 11,
     "metadata": {},
     "output_type": "execute_result"
    }
   ],
   "source": [
    "result = goal_df['len_year'].apply(check_str).value_counts()\n",
    "\n",
    "print('흠결 데이터의 확인\\n', result)\n",
    "\n",
    "## 만약 45개의 데이터만 나오게 하고 싶다면\n",
    "goal_df['len_check'] = goal_df['len_year'].apply(check_str)\n",
    "len(goal_df[goal_df.len_check!=False])"
   ]
  },
  {
   "cell_type": "code",
   "execution_count": 12,
   "id": "d03ac985",
   "metadata": {
    "pycharm": {
     "name": "#%%\n"
    }
   },
   "outputs": [],
   "source": [
    "### Q4. 3번문제에서 정의된 케이스들을 제외한 df를 정의하되 변수명을 goal_df2라 하자. \n",
    "### 그리고 데이터의 shape및 수를 출력해보세요."
   ]
  },
  {
   "cell_type": "code",
   "execution_count": 13,
   "id": "d11ae651",
   "metadata": {
    "pycharm": {
     "name": "#%%\n"
    }
   },
   "outputs": [
    {
     "data": {
      "text/plain": "1250"
     },
     "execution_count": 13,
     "metadata": {},
     "output_type": "execute_result"
    }
   ],
   "source": [
    "goal_df2 = goal_df[goal_df.len_check!=False].copy()\n",
    "len(goal_df2)"
   ]
  },
  {
   "cell_type": "code",
   "execution_count": 16,
   "id": "64439aa7",
   "metadata": {
    "pycharm": {
     "name": "#%%\n"
    }
   },
   "outputs": [],
   "source": [
    "### Q5. 월드컵 출전횟수를 나타내는 'NO.cup' 컬럼을 추가하고 4회 출전한 선수의 수를 구하세요."
   ]
  },
  {
   "cell_type": "code",
   "execution_count": 28,
   "id": "9b83b7f5",
   "metadata": {
    "pycharm": {
     "name": "#%%\n"
    }
   },
   "outputs": [
    {
     "data": {
      "text/plain": "16"
     },
     "execution_count": 28,
     "metadata": {},
     "output_type": "execute_result"
    }
   ],
   "source": [
    "goal_df2['NO_cup'] = goal_df2['len_year'].str.len()\n",
    "goal_df2[goal_df2['NO_cup']==4].shape[0]\n",
    "\n",
    "## 위의 방법과는 다를 수도 있다\n",
    "## 그냥 NO_cup은 출전연도의 데이터를 변화시킨 것이므로\n",
    "goal_df2.NO_cup.value_counts()[4]  ## 여기서 4는 인덱스를 의미합니다"
   ]
  },
  {
   "cell_type": "code",
   "execution_count": 17,
   "id": "64b8a2a0",
   "metadata": {
    "pycharm": {
     "name": "#%%\n"
    }
   },
   "outputs": [],
   "source": [
    "### Q6. South Korea 국가의 월드컵의 출전횟수가 4회인 선수들의 숫자를 구해보세요."
   ]
  },
  {
   "cell_type": "code",
   "execution_count": 29,
   "id": "22ff7c56",
   "metadata": {
    "pycharm": {
     "name": "#%%\n"
    }
   },
   "outputs": [
    {
     "data": {
      "text/plain": "            Player  Goals                Years      Country  \\\n452  Hong Myung Bo      2  1990-1994-1998-2002  South Korea   \n\n                     len_year  len_check  No_cup  NO_cup  \n452  [1990, 1994, 1998, 2002]       True       4       4  ",
      "text/html": "<div>\n<style scoped>\n    .dataframe tbody tr th:only-of-type {\n        vertical-align: middle;\n    }\n\n    .dataframe tbody tr th {\n        vertical-align: top;\n    }\n\n    .dataframe thead th {\n        text-align: right;\n    }\n</style>\n<table border=\"1\" class=\"dataframe\">\n  <thead>\n    <tr style=\"text-align: right;\">\n      <th></th>\n      <th>Player</th>\n      <th>Goals</th>\n      <th>Years</th>\n      <th>Country</th>\n      <th>len_year</th>\n      <th>len_check</th>\n      <th>No_cup</th>\n      <th>NO_cup</th>\n    </tr>\n  </thead>\n  <tbody>\n    <tr>\n      <th>452</th>\n      <td>Hong Myung Bo</td>\n      <td>2</td>\n      <td>1990-1994-1998-2002</td>\n      <td>South Korea</td>\n      <td>[1990, 1994, 1998, 2002]</td>\n      <td>True</td>\n      <td>4</td>\n      <td>4</td>\n    </tr>\n  </tbody>\n</table>\n</div>"
     },
     "execution_count": 29,
     "metadata": {},
     "output_type": "execute_result"
    }
   ],
   "source": [
    "goal_df2[(goal_df2['Country']=='South Korea') & (goal_df2['NO_cup'] >= 4)]"
   ]
  },
  {
   "cell_type": "code",
   "execution_count": 18,
   "id": "104736c0",
   "metadata": {
    "pycharm": {
     "name": "#%%\n"
    }
   },
   "outputs": [],
   "source": [
    "### Q7. 2002 월드컵에 출전한 전체 선수의 수는 몇 명입니까?"
   ]
  },
  {
   "cell_type": "code",
   "execution_count": 30,
   "id": "2e1db7ea",
   "metadata": {
    "pycharm": {
     "name": "#%%\n"
    }
   },
   "outputs": [
    {
     "data": {
      "text/plain": "156"
     },
     "execution_count": 30,
     "metadata": {},
     "output_type": "execute_result"
    }
   ],
   "source": [
    "len(goal_df2[goal_df2.Years.str.contains('2002')])"
   ]
  },
  {
   "cell_type": "code",
   "execution_count": 19,
   "id": "ac72a964",
   "metadata": {
    "pycharm": {
     "name": "#%%\n"
    }
   },
   "outputs": [],
   "source": [
    "### Q8. 이름에 'choi'단어가 들어가는 선수는 몇멍인가요? (대, 소문자는 구분하지 않습니다.)"
   ]
  },
  {
   "cell_type": "code",
   "execution_count": 31,
   "id": "617a70fa",
   "metadata": {
    "pycharm": {
     "name": "#%%\n"
    }
   },
   "outputs": [
    {
     "data": {
      "text/plain": "            Player  Goals      Years      Country      len_year  len_check  \\\n1109  Choi Soon Ho      1  1986-1990  South Korea  [1986, 1990]       True   \n\n      No_cup  NO_cup  \n1109       2       2  ",
      "text/html": "<div>\n<style scoped>\n    .dataframe tbody tr th:only-of-type {\n        vertical-align: middle;\n    }\n\n    .dataframe tbody tr th {\n        vertical-align: top;\n    }\n\n    .dataframe thead th {\n        text-align: right;\n    }\n</style>\n<table border=\"1\" class=\"dataframe\">\n  <thead>\n    <tr style=\"text-align: right;\">\n      <th></th>\n      <th>Player</th>\n      <th>Goals</th>\n      <th>Years</th>\n      <th>Country</th>\n      <th>len_year</th>\n      <th>len_check</th>\n      <th>No_cup</th>\n      <th>NO_cup</th>\n    </tr>\n  </thead>\n  <tbody>\n    <tr>\n      <th>1109</th>\n      <td>Choi Soon Ho</td>\n      <td>1</td>\n      <td>1986-1990</td>\n      <td>South Korea</td>\n      <td>[1986, 1990]</td>\n      <td>True</td>\n      <td>2</td>\n      <td>2</td>\n    </tr>\n  </tbody>\n</table>\n</div>"
     },
     "execution_count": 31,
     "metadata": {},
     "output_type": "execute_result"
    }
   ],
   "source": [
    "goal_df2[goal_df2.Player.str.lower().str.contains('choi')]"
   ]
  },
  {
   "cell_type": "code",
   "execution_count": 20,
   "id": "38ac2cd0",
   "metadata": {
    "pycharm": {
     "name": "#%%\n"
    }
   },
   "outputs": [],
   "source": [
    "### Q9. world cup에 출전을 1회만 하였음에도 가장 많은 득점을 올렸던 선수는 누구인가요?"
   ]
  },
  {
   "cell_type": "code",
   "execution_count": 32,
   "id": "665221b6",
   "metadata": {
    "pycharm": {
     "name": "#%%\n"
    }
   },
   "outputs": [
    {
     "data": {
      "text/plain": "'Just Fontaine'"
     },
     "execution_count": 32,
     "metadata": {},
     "output_type": "execute_result"
    }
   ],
   "source": [
    "goal_df2[goal_df2.NO_cup == 1].sort_values(by='Goals', ascending=False).iloc[0, 0]"
   ]
  },
  {
   "cell_type": "code",
   "execution_count": 21,
   "id": "8ee6d16a",
   "metadata": {
    "pycharm": {
     "name": "#%%\n"
    }
   },
   "outputs": [],
   "source": [
    "### 10. world cup에 출전을 1회만 한 선수가 가장 많은 국가는 어디일까요?"
   ]
  },
  {
   "cell_type": "code",
   "execution_count": 33,
   "id": "ecc8159b",
   "metadata": {
    "pycharm": {
     "name": "#%%\n"
    }
   },
   "outputs": [
    {
     "data": {
      "text/plain": "'Brazil'"
     },
     "execution_count": 33,
     "metadata": {},
     "output_type": "execute_result"
    }
   ],
   "source": [
    "goal_df2[goal_df2.NO_cup == 1]['Country'].value_counts().index[0]"
   ]
  },
  {
   "cell_type": "code",
   "execution_count": 22,
   "id": "1fa9fe6d",
   "metadata": {
    "pycharm": {
     "name": "#%%\n"
    }
   },
   "outputs": [],
   "source": [
    "# end of files"
   ]
  }
 ],
 "metadata": {
  "kernelspec": {
   "display_name": "Python 3 (ipykernel)",
   "language": "python",
   "name": "python3"
  },
  "language_info": {
   "codemirror_mode": {
    "name": "ipython",
    "version": 3
   },
   "file_extension": ".py",
   "mimetype": "text/x-python",
   "name": "python",
   "nbconvert_exporter": "python",
   "pygments_lexer": "ipython3",
   "version": "3.9.7"
  }
 },
 "nbformat": 4,
 "nbformat_minor": 5
}