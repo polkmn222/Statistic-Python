{
 "cells": [
  {
   "cell_type": "code",
   "execution_count": 1,
   "metadata": {
    "pycharm": {
     "name": "#%%\n"
    }
   },
   "outputs": [],
   "source": [
    "from sklearn.datasets import load_breast_cancer\n",
    "from sklearn.model_selection import train_test_split"
   ]
  },
  {
   "cell_type": "code",
   "execution_count": 2,
   "metadata": {
    "pycharm": {
     "name": "#%%\n"
    }
   },
   "outputs": [],
   "source": [
    "import numpy as np\n",
    "import pandas as pd"
   ]
  },
  {
   "cell_type": "code",
   "execution_count": 6,
   "metadata": {
    "pycharm": {
     "name": "#%%\n"
    }
   },
   "outputs": [],
   "source": [
    "from sklearn.tree import DecisionTreeClassifier\n",
    "from sklearn.ensemble import RandomForestClassifier\n",
    "from sklearn.ensemble import GradientBoostingClassifier\n",
    "from sklearn.ensemble import AdaBoostClassifier"
   ]
  },
  {
   "cell_type": "code",
   "execution_count": 7,
   "metadata": {
    "pycharm": {
     "name": "#%%\n"
    }
   },
   "outputs": [],
   "source": [
    "from sklearn.metrics import accuracy_score, roc_auc_score\n",
    "import warnings\n",
    "warnings.filterwarnings('ignore')"
   ]
  },
  {
   "cell_type": "markdown",
   "metadata": {
    "pycharm": {
     "name": "#%% md\n"
    }
   },
   "source": [
    "load_breast_cancer()\n",
    "\n",
    "## 학습데이터 80 vs 테스트데이터 20\n",
    "\n",
    "## tree 계열의 알고리즘을 3개만 쓰셔서 예측정확도를 한번 뽑아봅시다\n",
    "dt_clf\n",
    "rf_clf\n",
    "ada_clf\n",
    "gbm\n",
    "\n",
    "### 회기분석에서 파생된 clf\n",
    "lr_clf"
   ]
  },
  {
   "cell_type": "code",
   "execution_count": null,
   "metadata": {
    "pycharm": {
     "name": "#%%\n"
    }
   },
   "outputs": [],
   "source": [
    "cancer = load_breast_cancer()\n",
    "\n",
    "# X값들을 살펴보자.\n",
    "cancer_ftrs = cancer.data\n",
    "# y값들을 살펴보자.\n",
    "cancer_target = cancer.target\n",
    "\n",
    "cancer_df = pd.DataFrame(cancer_ftrs, columns=cancer.feature_names)\n",
    "\n",
    "cancer_df['label'] = cancer_target\n",
    "cancer_df  # y값은 암환자 유무 0 : 정상인, 1 : 환자"
   ]
  },
  {
   "cell_type": "code",
   "execution_count": 31,
   "metadata": {
    "pycharm": {
     "name": "#%%\n"
    }
   },
   "outputs": [
    {
     "data": {
      "text/plain": [
       "mean radius                0\n",
       "mean texture               0\n",
       "mean perimeter             0\n",
       "mean area                  0\n",
       "mean smoothness            0\n",
       "mean compactness           0\n",
       "mean concavity             0\n",
       "mean concave points        0\n",
       "mean symmetry              0\n",
       "mean fractal dimension     0\n",
       "radius error               0\n",
       "texture error              0\n",
       "perimeter error            0\n",
       "area error                 0\n",
       "smoothness error           0\n",
       "compactness error          0\n",
       "concavity error            0\n",
       "concave points error       0\n",
       "symmetry error             0\n",
       "fractal dimension error    0\n",
       "worst radius               0\n",
       "worst texture              0\n",
       "worst perimeter            0\n",
       "worst area                 0\n",
       "worst smoothness           0\n",
       "worst compactness          0\n",
       "worst concavity            0\n",
       "worst concave points       0\n",
       "worst symmetry             0\n",
       "worst fractal dimension    0\n",
       "label                      0\n",
       "dtype: int64"
      ]
     },
     "execution_count": 31,
     "metadata": {},
     "output_type": "execute_result"
    }
   ],
   "source": [
    "cancer_df.isna().sum()  # 결측값 확인"
   ]
  },
  {
   "cell_type": "code",
   "execution_count": null,
   "metadata": {
    "pycharm": {
     "name": "#%%\n"
    }
   },
   "outputs": [],
   "source": [
    "# train test_split을 통한 데이터 분할"
   ]
  },
  {
   "cell_type": "code",
   "execution_count": 34,
   "metadata": {
    "pycharm": {
     "name": "#%%\n"
    }
   },
   "outputs": [],
   "source": [
    "X_train, X_test, y_train, y_test = train_test_split(cancer_ftrs, cancer_target, test_size=0.2,stratify=cancer_target)"
   ]
  },
  {
   "cell_type": "code",
   "execution_count": 53,
   "metadata": {
    "pycharm": {
     "name": "#%%\n"
    }
   },
   "outputs": [
    {
     "name": "stdout",
     "output_type": "stream",
     "text": [
      "정확도 : 0.9649, 정밀도 : 0.9595, Recall:0.9861, F1:0.9726, roc: 0.9573\n",
      "정확도 : 0.9737, 정밀도 : 0.9726, Recall:0.9861, F1:0.9793, roc: 0.9692\n"
     ]
    }
   ],
   "source": [
    "### 알고리즘 3개를 써서 분석해봅시다\n",
    "from sklearn.metrics import accuracy_score as acc_sc\n",
    "from sklearn.metrics import precision_score, recall_score, f1_score, roc_auc_score\n",
    "\n",
    "def get_index(y_test, pred):\n",
    "    accuracy = acc_sc(y_test, pred)\n",
    "    p_score = precision_score(y_test, pred)\n",
    "    r_score = recall_score(y_test, pred)\n",
    "    f_score = f1_score(y_test, pred)\n",
    "    roc_auc = roc_auc_score(y_test, pred)\n",
    "\n",
    "    print('정확도 : {0:.4f}, 정밀도 : {1:.4f}, Recall:{2:.4f}, F1:{3:.4f}, roc:{4: .4f}'.format(accuracy, p_score, r_score, f_score, roc_auc))\n",
    "\n",
    "### dt_clf\n",
    "from sklearn.tree import DecisionTreeClassifier\n",
    "dt_clf = DecisionTreeClassifier()\n",
    "dt_clf.fit(X_train, y_train)\n",
    "dt_clf.predict(X_test)\n",
    "pred_dt = dt_clf.predict(X_test)\n",
    "#\n",
    "# acc_sc(y_test, pred_dt)\n",
    "get_index(y_test, pred_dt)\n",
    "\n",
    "### rf_clf\n",
    "from sklearn.tree import DecisionTreeClassifier\n",
    "rf_clf = RandomForestClassifier()\n",
    "rf_clf.fit(X_train, y_train)\n",
    "rf_clf.predict(X_test)\n",
    "pred_rf = rf_clf.predict(X_test)\n",
    "#\n",
    "# acc_sc(y_test, pred_dt)\n",
    "get_index(y_test, pred_rf)"
   ]
  },
  {
   "cell_type": "code",
   "execution_count": null,
   "metadata": {
    "pycharm": {
     "name": "#%%\n"
    }
   },
   "outputs": [],
   "source": [
    "# conda install lightgbm"
   ]
  },
  {
   "cell_type": "code",
   "execution_count": 59,
   "metadata": {
    "pycharm": {
     "name": "#%%\n"
    }
   },
   "outputs": [
    {
     "name": "stdout",
     "output_type": "stream",
     "text": [
      "[1]\tvalid_0's binary_logloss: 0.576931\n",
      "Training until validation scores don't improve for 100 rounds\n",
      "[2]\tvalid_0's binary_logloss: 0.512849\n",
      "[3]\tvalid_0's binary_logloss: 0.456612\n",
      "[4]\tvalid_0's binary_logloss: 0.411604\n",
      "[5]\tvalid_0's binary_logloss: 0.376214\n",
      "[6]\tvalid_0's binary_logloss: 0.341354\n",
      "[7]\tvalid_0's binary_logloss: 0.311057\n",
      "[8]\tvalid_0's binary_logloss: 0.284628\n",
      "[9]\tvalid_0's binary_logloss: 0.261664\n",
      "[10]\tvalid_0's binary_logloss: 0.243349\n",
      "[11]\tvalid_0's binary_logloss: 0.227012\n",
      "[12]\tvalid_0's binary_logloss: 0.212087\n",
      "[13]\tvalid_0's binary_logloss: 0.199399\n",
      "[14]\tvalid_0's binary_logloss: 0.188643\n",
      "[15]\tvalid_0's binary_logloss: 0.178903\n",
      "[16]\tvalid_0's binary_logloss: 0.170129\n",
      "[17]\tvalid_0's binary_logloss: 0.162039\n",
      "[18]\tvalid_0's binary_logloss: 0.153937\n",
      "[19]\tvalid_0's binary_logloss: 0.148913\n",
      "[20]\tvalid_0's binary_logloss: 0.141803\n",
      "[21]\tvalid_0's binary_logloss: 0.137783\n",
      "[22]\tvalid_0's binary_logloss: 0.133089\n",
      "[23]\tvalid_0's binary_logloss: 0.129195\n",
      "[24]\tvalid_0's binary_logloss: 0.123854\n",
      "[25]\tvalid_0's binary_logloss: 0.121721\n",
      "[26]\tvalid_0's binary_logloss: 0.117326\n",
      "[27]\tvalid_0's binary_logloss: 0.11644\n",
      "[28]\tvalid_0's binary_logloss: 0.112145\n",
      "[29]\tvalid_0's binary_logloss: 0.109738\n",
      "[30]\tvalid_0's binary_logloss: 0.10803\n",
      "[31]\tvalid_0's binary_logloss: 0.106199\n",
      "[32]\tvalid_0's binary_logloss: 0.103491\n",
      "[33]\tvalid_0's binary_logloss: 0.10315\n",
      "[34]\tvalid_0's binary_logloss: 0.101382\n",
      "[35]\tvalid_0's binary_logloss: 0.100205\n",
      "[36]\tvalid_0's binary_logloss: 0.0984231\n",
      "[37]\tvalid_0's binary_logloss: 0.0958933\n",
      "[38]\tvalid_0's binary_logloss: 0.0949464\n",
      "[39]\tvalid_0's binary_logloss: 0.0930618\n",
      "[40]\tvalid_0's binary_logloss: 0.0925861\n",
      "[41]\tvalid_0's binary_logloss: 0.0917695\n",
      "[42]\tvalid_0's binary_logloss: 0.0931317\n",
      "[43]\tvalid_0's binary_logloss: 0.0923545\n",
      "[44]\tvalid_0's binary_logloss: 0.0939937\n",
      "[45]\tvalid_0's binary_logloss: 0.0944153\n",
      "[46]\tvalid_0's binary_logloss: 0.0949089\n",
      "[47]\tvalid_0's binary_logloss: 0.0955853\n",
      "[48]\tvalid_0's binary_logloss: 0.0953972\n",
      "[49]\tvalid_0's binary_logloss: 0.0945288\n",
      "[50]\tvalid_0's binary_logloss: 0.0945697\n",
      "[51]\tvalid_0's binary_logloss: 0.0964962\n",
      "[52]\tvalid_0's binary_logloss: 0.0970994\n",
      "[53]\tvalid_0's binary_logloss: 0.0949795\n",
      "[54]\tvalid_0's binary_logloss: 0.0966049\n",
      "[55]\tvalid_0's binary_logloss: 0.0959068\n",
      "[56]\tvalid_0's binary_logloss: 0.0964981\n",
      "[57]\tvalid_0's binary_logloss: 0.0942736\n",
      "[58]\tvalid_0's binary_logloss: 0.0927756\n",
      "[59]\tvalid_0's binary_logloss: 0.0919881\n",
      "[60]\tvalid_0's binary_logloss: 0.0911878\n",
      "[61]\tvalid_0's binary_logloss: 0.0899868\n",
      "[62]\tvalid_0's binary_logloss: 0.0900535\n",
      "[63]\tvalid_0's binary_logloss: 0.0897752\n",
      "[64]\tvalid_0's binary_logloss: 0.0897907\n",
      "[65]\tvalid_0's binary_logloss: 0.0893522\n",
      "[66]\tvalid_0's binary_logloss: 0.0899665\n",
      "[67]\tvalid_0's binary_logloss: 0.090624\n",
      "[68]\tvalid_0's binary_logloss: 0.0896868\n",
      "[69]\tvalid_0's binary_logloss: 0.0902392\n",
      "[70]\tvalid_0's binary_logloss: 0.0919631\n",
      "[71]\tvalid_0's binary_logloss: 0.0929166\n",
      "[72]\tvalid_0's binary_logloss: 0.0941126\n",
      "[73]\tvalid_0's binary_logloss: 0.0930343\n",
      "[74]\tvalid_0's binary_logloss: 0.092781\n",
      "[75]\tvalid_0's binary_logloss: 0.0941337\n",
      "[76]\tvalid_0's binary_logloss: 0.0943909\n",
      "[77]\tvalid_0's binary_logloss: 0.0945589\n",
      "[78]\tvalid_0's binary_logloss: 0.0947007\n",
      "[79]\tvalid_0's binary_logloss: 0.0962643\n",
      "[80]\tvalid_0's binary_logloss: 0.0950409\n",
      "[81]\tvalid_0's binary_logloss: 0.0949902\n",
      "[82]\tvalid_0's binary_logloss: 0.0954242\n",
      "[83]\tvalid_0's binary_logloss: 0.0948963\n",
      "[84]\tvalid_0's binary_logloss: 0.095413\n",
      "[85]\tvalid_0's binary_logloss: 0.0965837\n",
      "[86]\tvalid_0's binary_logloss: 0.0970942\n",
      "[87]\tvalid_0's binary_logloss: 0.0987434\n",
      "[88]\tvalid_0's binary_logloss: 0.100121\n",
      "[89]\tvalid_0's binary_logloss: 0.0996675\n",
      "[90]\tvalid_0's binary_logloss: 0.0994208\n",
      "[91]\tvalid_0's binary_logloss: 0.0994896\n",
      "[92]\tvalid_0's binary_logloss: 0.101081\n",
      "[93]\tvalid_0's binary_logloss: 0.100972\n",
      "[94]\tvalid_0's binary_logloss: 0.101989\n",
      "[95]\tvalid_0's binary_logloss: 0.102138\n",
      "[96]\tvalid_0's binary_logloss: 0.102851\n",
      "[97]\tvalid_0's binary_logloss: 0.102923\n",
      "[98]\tvalid_0's binary_logloss: 0.103291\n",
      "[99]\tvalid_0's binary_logloss: 0.103307\n",
      "[100]\tvalid_0's binary_logloss: 0.103652\n",
      "[101]\tvalid_0's binary_logloss: 0.103853\n",
      "[102]\tvalid_0's binary_logloss: 0.104705\n",
      "[103]\tvalid_0's binary_logloss: 0.104548\n",
      "[104]\tvalid_0's binary_logloss: 0.105785\n",
      "[105]\tvalid_0's binary_logloss: 0.106088\n",
      "[106]\tvalid_0's binary_logloss: 0.10705\n",
      "[107]\tvalid_0's binary_logloss: 0.108078\n",
      "[108]\tvalid_0's binary_logloss: 0.109468\n",
      "[109]\tvalid_0's binary_logloss: 0.110289\n",
      "[110]\tvalid_0's binary_logloss: 0.11148\n",
      "[111]\tvalid_0's binary_logloss: 0.110997\n",
      "[112]\tvalid_0's binary_logloss: 0.111976\n",
      "[113]\tvalid_0's binary_logloss: 0.112641\n",
      "[114]\tvalid_0's binary_logloss: 0.11464\n",
      "[115]\tvalid_0's binary_logloss: 0.113893\n",
      "[116]\tvalid_0's binary_logloss: 0.115277\n",
      "[117]\tvalid_0's binary_logloss: 0.117234\n",
      "[118]\tvalid_0's binary_logloss: 0.118028\n",
      "[119]\tvalid_0's binary_logloss: 0.118741\n",
      "[120]\tvalid_0's binary_logloss: 0.120743\n",
      "[121]\tvalid_0's binary_logloss: 0.122712\n",
      "[122]\tvalid_0's binary_logloss: 0.124103\n",
      "[123]\tvalid_0's binary_logloss: 0.124662\n",
      "[124]\tvalid_0's binary_logloss: 0.124862\n",
      "[125]\tvalid_0's binary_logloss: 0.125229\n",
      "[126]\tvalid_0's binary_logloss: 0.125558\n",
      "[127]\tvalid_0's binary_logloss: 0.12775\n",
      "[128]\tvalid_0's binary_logloss: 0.128382\n",
      "[129]\tvalid_0's binary_logloss: 0.128895\n",
      "[130]\tvalid_0's binary_logloss: 0.131125\n",
      "[131]\tvalid_0's binary_logloss: 0.131344\n",
      "[132]\tvalid_0's binary_logloss: 0.132552\n",
      "[133]\tvalid_0's binary_logloss: 0.134397\n",
      "[134]\tvalid_0's binary_logloss: 0.135213\n",
      "[135]\tvalid_0's binary_logloss: 0.136849\n",
      "[136]\tvalid_0's binary_logloss: 0.13857\n",
      "[137]\tvalid_0's binary_logloss: 0.138512\n",
      "[138]\tvalid_0's binary_logloss: 0.139636\n",
      "[139]\tvalid_0's binary_logloss: 0.13969\n",
      "[140]\tvalid_0's binary_logloss: 0.139107\n",
      "[141]\tvalid_0's binary_logloss: 0.141456\n",
      "[142]\tvalid_0's binary_logloss: 0.143001\n",
      "[143]\tvalid_0's binary_logloss: 0.144132\n",
      "[144]\tvalid_0's binary_logloss: 0.144575\n",
      "[145]\tvalid_0's binary_logloss: 0.145788\n",
      "[146]\tvalid_0's binary_logloss: 0.146233\n",
      "[147]\tvalid_0's binary_logloss: 0.145641\n",
      "[148]\tvalid_0's binary_logloss: 0.146583\n",
      "[149]\tvalid_0's binary_logloss: 0.148158\n",
      "[150]\tvalid_0's binary_logloss: 0.148552\n",
      "[151]\tvalid_0's binary_logloss: 0.149454\n",
      "[152]\tvalid_0's binary_logloss: 0.149834\n",
      "[153]\tvalid_0's binary_logloss: 0.151214\n",
      "[154]\tvalid_0's binary_logloss: 0.151294\n",
      "[155]\tvalid_0's binary_logloss: 0.150253\n",
      "[156]\tvalid_0's binary_logloss: 0.149997\n",
      "[157]\tvalid_0's binary_logloss: 0.151178\n",
      "[158]\tvalid_0's binary_logloss: 0.151582\n",
      "[159]\tvalid_0's binary_logloss: 0.151349\n",
      "[160]\tvalid_0's binary_logloss: 0.151248\n",
      "[161]\tvalid_0's binary_logloss: 0.150914\n",
      "[162]\tvalid_0's binary_logloss: 0.150377\n",
      "[163]\tvalid_0's binary_logloss: 0.15079\n",
      "[164]\tvalid_0's binary_logloss: 0.151127\n",
      "[165]\tvalid_0's binary_logloss: 0.150691\n",
      "Early stopping, best iteration is:\n",
      "[65]\tvalid_0's binary_logloss: 0.0893522\n"
     ]
    },
    {
     "data": {
      "text/html": [
       "<style>#sk-container-id-6 {color: black;background-color: white;}#sk-container-id-6 pre{padding: 0;}#sk-container-id-6 div.sk-toggleable {background-color: white;}#sk-container-id-6 label.sk-toggleable__label {cursor: pointer;display: block;width: 100%;margin-bottom: 0;padding: 0.3em;box-sizing: border-box;text-align: center;}#sk-container-id-6 label.sk-toggleable__label-arrow:before {content: \"▸\";float: left;margin-right: 0.25em;color: #696969;}#sk-container-id-6 label.sk-toggleable__label-arrow:hover:before {color: black;}#sk-container-id-6 div.sk-estimator:hover label.sk-toggleable__label-arrow:before {color: black;}#sk-container-id-6 div.sk-toggleable__content {max-height: 0;max-width: 0;overflow: hidden;text-align: left;background-color: #f0f8ff;}#sk-container-id-6 div.sk-toggleable__content pre {margin: 0.2em;color: black;border-radius: 0.25em;background-color: #f0f8ff;}#sk-container-id-6 input.sk-toggleable__control:checked~div.sk-toggleable__content {max-height: 200px;max-width: 100%;overflow: auto;}#sk-container-id-6 input.sk-toggleable__control:checked~label.sk-toggleable__label-arrow:before {content: \"▾\";}#sk-container-id-6 div.sk-estimator input.sk-toggleable__control:checked~label.sk-toggleable__label {background-color: #d4ebff;}#sk-container-id-6 div.sk-label input.sk-toggleable__control:checked~label.sk-toggleable__label {background-color: #d4ebff;}#sk-container-id-6 input.sk-hidden--visually {border: 0;clip: rect(1px 1px 1px 1px);clip: rect(1px, 1px, 1px, 1px);height: 1px;margin: -1px;overflow: hidden;padding: 0;position: absolute;width: 1px;}#sk-container-id-6 div.sk-estimator {font-family: monospace;background-color: #f0f8ff;border: 1px dotted black;border-radius: 0.25em;box-sizing: border-box;margin-bottom: 0.5em;}#sk-container-id-6 div.sk-estimator:hover {background-color: #d4ebff;}#sk-container-id-6 div.sk-parallel-item::after {content: \"\";width: 100%;border-bottom: 1px solid gray;flex-grow: 1;}#sk-container-id-6 div.sk-label:hover label.sk-toggleable__label {background-color: #d4ebff;}#sk-container-id-6 div.sk-serial::before {content: \"\";position: absolute;border-left: 1px solid gray;box-sizing: border-box;top: 0;bottom: 0;left: 50%;z-index: 0;}#sk-container-id-6 div.sk-serial {display: flex;flex-direction: column;align-items: center;background-color: white;padding-right: 0.2em;padding-left: 0.2em;position: relative;}#sk-container-id-6 div.sk-item {position: relative;z-index: 1;}#sk-container-id-6 div.sk-parallel {display: flex;align-items: stretch;justify-content: center;background-color: white;position: relative;}#sk-container-id-6 div.sk-item::before, #sk-container-id-6 div.sk-parallel-item::before {content: \"\";position: absolute;border-left: 1px solid gray;box-sizing: border-box;top: 0;bottom: 0;left: 50%;z-index: -1;}#sk-container-id-6 div.sk-parallel-item {display: flex;flex-direction: column;z-index: 1;position: relative;background-color: white;}#sk-container-id-6 div.sk-parallel-item:first-child::after {align-self: flex-end;width: 50%;}#sk-container-id-6 div.sk-parallel-item:last-child::after {align-self: flex-start;width: 50%;}#sk-container-id-6 div.sk-parallel-item:only-child::after {width: 0;}#sk-container-id-6 div.sk-dashed-wrapped {border: 1px dashed gray;margin: 0 0.4em 0.5em 0.4em;box-sizing: border-box;padding-bottom: 0.4em;background-color: white;}#sk-container-id-6 div.sk-label label {font-family: monospace;font-weight: bold;display: inline-block;line-height: 1.2em;}#sk-container-id-6 div.sk-label-container {text-align: center;}#sk-container-id-6 div.sk-container {/* jupyter's `normalize.less` sets `[hidden] { display: none; }` but bootstrap.min.css set `[hidden] { display: none !important; }` so we also need the `!important` here to be able to override the default hidden behavior on the sphinx rendered scikit-learn.org. See: https://github.com/scikit-learn/scikit-learn/issues/21755 */display: inline-block !important;position: relative;}#sk-container-id-6 div.sk-text-repr-fallback {display: none;}</style><div id=\"sk-container-id-6\" class=\"sk-top-container\"><div class=\"sk-text-repr-fallback\"><pre>LGBMClassifier(n_estimators=400)</pre><b>In a Jupyter environment, please rerun this cell to show the HTML representation or trust the notebook. <br />On GitHub, the HTML representation is unable to render, please try loading this page with nbviewer.org.</b></div><div class=\"sk-container\" hidden><div class=\"sk-item\"><div class=\"sk-estimator sk-toggleable\"><input class=\"sk-toggleable__control sk-hidden--visually\" id=\"sk-estimator-id-6\" type=\"checkbox\" checked><label for=\"sk-estimator-id-6\" class=\"sk-toggleable__label sk-toggleable__label-arrow\">LGBMClassifier</label><div class=\"sk-toggleable__content\"><pre>LGBMClassifier(n_estimators=400)</pre></div></div></div></div></div>"
      ],
      "text/plain": [
       "LGBMClassifier(n_estimators=400)"
      ]
     },
     "execution_count": 59,
     "metadata": {},
     "output_type": "execute_result"
    }
   ],
   "source": [
    "## 새로운 알고리즘인 LightGBM을 사용해본다.\n",
    "from lightgbm import LGBMClassifier\n",
    "\n",
    "# n_estimators=400그루를 설정\n",
    "# 일반적인 알고리즘의 객체화\n",
    "lgbm_wrapper = LGBMClassifier(n_estimators=400)\n",
    "\n",
    "# LightGBM early_stopping_rounds 확인\n",
    "evals = [(X_test, y_test)]\n",
    "\n",
    "## LGBM 학습 및 예측\n",
    "lgbm_wrapper.fit(X_train, y_train, early_stopping_rounds=100, eval_metric='logloss', eval_set=evals,\n",
    "                 verbose=True)\n",
    "# verbose True -> 값 보임, verbose False -> 값 안보임"
   ]
  },
  {
   "cell_type": "code",
   "execution_count": 60,
   "metadata": {
    "pycharm": {
     "name": "#%%\n"
    }
   },
   "outputs": [
    {
     "name": "stdout",
     "output_type": "stream",
     "text": [
      "정확도 : 0.9737, 정밀도 : 0.9726, Recall:0.9861, F1:0.9793, roc: 0.9692\n"
     ]
    }
   ],
   "source": [
    "pred_lgbm = lgbm_wrapper.predict(X_test)\n",
    "\n",
    "get_index(y_test, pred_lgbm)"
   ]
  },
  {
   "cell_type": "code",
   "execution_count": 63,
   "metadata": {
    "pycharm": {
     "name": "#%%\n"
    }
   },
   "outputs": [
    {
     "data": {
      "text/plain": [
       "<AxesSubplot:title={'center':'Feature importance'}, xlabel='Feature importance', ylabel='Features'>"
      ]
     },
     "execution_count": 63,
     "metadata": {},
     "output_type": "execute_result"
    },
    {
     "data": {
      "image/png": "[encoded data removed]",
      "text/plain": [
       "<Figure size 720x864 with 1 Axes>"
      ]
     },
     "metadata": {
      "needs_background": "light"
     },
     "output_type": "display_data"
    }
   ],
   "source": [
    "### lgbm을 통한 주요 컬럼 추출\n",
    "from lightgbm import plot_importance\n",
    "import matplotlib.pyplot as plt\n",
    "\n",
    "fig, ax = plt.subplots(figsize=(10,12))\n",
    "plot_importance(lgbm_wrapper, ax=ax)"
   ]
  },
  {
   "cell_type": "code",
   "execution_count": 62,
   "metadata": {
    "pycharm": {
     "name": "#%%\n"
    }
   },
   "outputs": [
    {
     "name": "stdout",
     "output_type": "stream",
     "text": [
      "worst texture\n",
      "mean texture\n",
      "worst concave points\n"
     ]
    }
   ],
   "source": [
    "print(cancer_df.columns[21])\n",
    "print(cancer_df.columns[1])\n",
    "print(cancer_df.columns[27])"
   ]
  },
  {
   "cell_type": "code",
   "execution_count": null,
   "metadata": {
    "pycharm": {
     "name": "#%%\n"
    }
   },
   "outputs": [],
   "source": [
    "# end of file"
   ]
  }
 ],
 "metadata": {
  "kernelspec": {
   "display_name": "Python 3 (ipykernel)",
   "language": "python",
   "name": "python3"
  },
  "language_info": {
   "codemirror_mode": {
    "name": "ipython",
    "version": 3
   },
   "file_extension": ".py",
   "mimetype": "text/x-python",
   "name": "python",
   "nbconvert_exporter": "python",
   "pygments_lexer": "ipython3",
   "version": "3.9.7"
  }
 },
 "nbformat": 4,
 "nbformat_minor": 1
}
