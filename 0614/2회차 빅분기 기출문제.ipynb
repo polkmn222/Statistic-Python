{
 "cells": [
  {
   "cell_type": "code",
   "execution_count": null,
   "metadata": {
    "pycharm": {
     "name": "#%%\n"
    }
   },
   "outputs": [],
   "source": [
    "# 01 다음은 Boston Housing 데이터 세트이다.\n",
    "# 범죄율 컬럼인 CRIM 항목의 상위에서 10번째 값\n",
    "# (즉, 범죄율을 큰 순서대로 오름차순 정렬했을 때 10번째에 위치한 값)으로\n",
    "# 상위 10개의 값을 변환한 후,\n",
    "# AGE가 80이상인 데이터를 추출하여 CRIM의 평균값을 계산하시오."
   ]
  },
  {
   "cell_type": "code",
   "execution_count": 42,
   "metadata": {
    "collapsed": true,
    "pycharm": {
     "name": "#%%\n"
    }
   },
   "outputs": [],
   "source": [
    "import pandas as pd\n",
    "import numpy as np\n",
    "\n",
    "# 데이터 로딩\n",
    "boston_df = pd.read_csv('./Part3/201_boston.csv')"
   ]
  },
  {
   "cell_type": "code",
   "execution_count": 50,
   "metadata": {
    "pycharm": {
     "name": "#%%\n"
    }
   },
   "outputs": [
    {
     "name": "stdout",
     "output_type": "stream",
     "text": [
      "정렬된 데이터:\n",
      "         CRIM   ZN  INDUS  CHAS    NOX     RM    AGE     DIS   RAD    TAX  \\\n",
      "380  88.9762  0.0   18.1   0.0  0.671  6.968   91.9  1.4165  24.0  666.0   \n",
      "418  73.5341  0.0   18.1   0.0  0.679  5.957  100.0  1.8026  24.0  666.0   \n",
      "405  67.9208  0.0   18.1   0.0  0.693  5.683  100.0  1.4254  24.0  666.0   \n",
      "410  51.1358  0.0   18.1   0.0  0.597  5.757  100.0  1.4130  24.0  666.0   \n",
      "414  45.7461  0.0   18.1   0.0  0.693  4.519  100.0  1.6582  24.0  666.0   \n",
      "404  41.5292  0.0   18.1   0.0  0.693  5.531   85.4  1.6074  24.0  666.0   \n",
      "398  38.3518  0.0   18.1   0.0  0.693  5.453  100.0  1.4896  24.0  666.0   \n",
      "427  37.6619  0.0   18.1   0.0  0.679  6.202   78.7  1.8629  24.0  666.0   \n",
      "413  28.6558  0.0   18.1   0.0  0.597  5.155  100.0  1.5894  24.0  666.0   \n",
      "417  25.9406  0.0   18.1   0.0  0.679  5.304   89.1  1.6475  24.0  666.0   \n",
      "\n",
      "     PTRATIO       B  LSTAT  \n",
      "380     20.2  396.90  17.21  \n",
      "418     20.2   16.45  20.62  \n",
      "405     20.2  384.97  22.98  \n",
      "410     20.2    2.60  10.11  \n",
      "414     20.2   88.27  36.98  \n",
      "404     20.2  329.46  27.38  \n",
      "398     20.2  396.90  30.59  \n",
      "427     20.2   18.82  14.52  \n",
      "413     20.2  210.97  20.08  \n",
      "417     20.2  127.36  26.64  \n",
      "\n",
      "10번째의 값: 25.9406\n"
     ]
    }
   ],
   "source": [
    "# 데이터 정렬 및 10번째 값 호출\n",
    "sorted_df = boston_df.sort_values(by='CRIM', ascending=False)\n",
    "sorted_df[:10].shape\n",
    "values_10th = sorted_df.CRIM.iloc[9]\n",
    "print('정렬된 데이터:\\n', sorted_df.head(10))\n",
    "print('\\n10번째의 값:', values_10th)"
   ]
  },
  {
   "cell_type": "code",
   "execution_count": 63,
   "metadata": {
    "pycharm": {
     "name": "#%%\n"
    }
   },
   "outputs": [
    {
     "name": "stdout",
     "output_type": "stream",
     "text": [
      "5.759386624999999\n"
     ]
    }
   ],
   "source": [
    "## 10번째의 값을 -> 0~9번까지로 대입\n",
    "sorted_df['CRIM'][:10] = values_10th  # version1\n",
    "sorted_df.iloc[:10,:0] = values_10th  # version2\n",
    "sorted_df['CRIM'][:15]\n",
    "\n",
    "## 조건식 :: Age > 80\n",
    "cond1 = sorted_df[sorted_df.AGE > 80]\n",
    "Answer = cond1['CRIM'].mean()\n",
    "print(Answer)"
   ]
  },
  {
   "cell_type": "code",
   "execution_count": null,
   "metadata": {
    "pycharm": {
     "name": "#%%\n"
    }
   },
   "outputs": [],
   "source": [
    "# 02 다음은 California Housing 데이터 세트이다.\n",
    "# 주어진 데이터의 첫 번째 행부터 순서대로 80%까지의 데이터를 훈련데이터로\n",
    "# 추출한 후, 전체 방 개수 컬럼을 의미하는\n",
    "#‘total bedrooms’변수의 결측치를\n",
    "#‘total_bedrooms’변수의 중앙값으로 대체한\n",
    "# 데이터 세트를 구성한다.\n",
    "\n",
    "\n",
    "# 결측치 대체 전의 ‘total_bedrooms’변수 표준편차 값과\n",
    "# 결측치 대체 후의 ‘total_bedrooms’변수 표준편차 값의 차이에 대한\n",
    "# 절대값을 계산하세요."
   ]
  },
  {
   "cell_type": "code",
   "execution_count": 78,
   "metadata": {
    "pycharm": {
     "name": "#%%\n"
    }
   },
   "outputs": [
    {
     "name": "stdout",
     "output_type": "stream",
     "text": [
      "결측치 대체 전의 표준편차: 435.900577052527\n"
     ]
    }
   ],
   "source": [
    "import warnings\n",
    "warnings.filterwarnings('ignore')\n",
    "\n",
    "import pandas as pd\n",
    "import numpy as np\n",
    "\n",
    "# 데이터 로딩\n",
    "cal_df = pd.read_csv('./Part3/202_housing.csv')\n",
    "cal_df_80 = len(cal_df) * 0.8\n",
    "\n",
    "train_df = cal_df[:int(cal_df_80)]\n",
    "\n",
    "before_std = train_df.total_bedrooms.std()\n",
    "print('결측치 대체 전의 표준편차:', before_std)"
   ]
  },
  {
   "cell_type": "code",
   "execution_count": 79,
   "metadata": {
    "pycharm": {
     "name": "#%%\n"
    }
   },
   "outputs": [
    {
     "name": "stdout",
     "output_type": "stream",
     "text": [
      "결측치 대체 후의 표준편차: 433.9254297608813\n",
      "절대값 계산 1.975147291645726\n"
     ]
    }
   ],
   "source": [
    "### 결측치 대체\n",
    "train_md = train_df.total_bedrooms.median()\n",
    "train_md\n",
    "\n",
    "train_df['total_bedrooms_imp'] = train_df.total_bedrooms.fillna(train_md)\n",
    "\n",
    "after_std = train_df.total_bedrooms_imp.std()\n",
    "print('결측치 대체 후의 표준편차:', after_std)\n",
    "print('절대값 계산', np.abs(before_std - after_std))"
   ]
  },
  {
   "cell_type": "code",
   "execution_count": null,
   "metadata": {
    "pycharm": {
     "name": "#%%\n"
    }
   },
   "outputs": [],
   "source": [
    "# 03 2번 문항에서 활용한 California Housing 데이터 세트를 그대로 활용한다.\n",
    "# 인구 컬럼인 population 항목의 이상값의 합계를 계산하시오.\n",
    "# (※ 이상값은 사분위수에서 1.5 X 표준편차를 초과하거나 미만인 값의 범위로 정한다.)"
   ]
  },
  {
   "cell_type": "code",
   "execution_count": 84,
   "metadata": {
    "pycharm": {
     "name": "#%%\n"
    }
   },
   "outputs": [
    {
     "data": {
      "text/plain": [
       "4737667.0"
      ]
     },
     "execution_count": 84,
     "metadata": {},
     "output_type": "execute_result"
    }
   ],
   "source": [
    "import pandas as pd\n",
    "import numpy as np\n",
    "\n",
    "# 데이터 로딩\n",
    "cal_df = pd.read_csv('./Part3/202_housing.csv')\n",
    "\n",
    "### cal_df.population의 표준편차는?\n",
    "pop_std = cal_df.population.std()\n",
    "strandard_out = pop_std * 1.5\n",
    "\n",
    "### 1사분위수에서 뺀 값 vs 3사분위수에서는 더할 값\n",
    "lower_q1 = np.quantile(cal_df.population, 0.25) - strandard_out\n",
    "upper_q3 = np.quantile(cal_df.population, 0.75) + strandard_out\n",
    "\n",
    "### 이상치값의 합계를 구하기 위한 조건식\n",
    "result_cond = cal_df[(cal_df.population < lower_q1) | (cal_df.population > upper_q3)]\n",
    "result_cond['population'].sum()"
   ]
  },
  {
   "cell_type": "code",
   "execution_count": null,
   "metadata": {
    "pycharm": {
     "name": "#%%\n"
    }
   },
   "outputs": [],
   "source": [
    "# end of file"
   ]
  }
 ],
 "metadata": {
  "kernelspec": {
   "display_name": "Python 3 (ipykernel)",
   "language": "python",
   "name": "python3"
  },
  "language_info": {
   "codemirror_mode": {
    "name": "ipython",
    "version": 3
   },
   "file_extension": ".py",
   "mimetype": "text/x-python",
   "name": "python",
   "nbconvert_exporter": "python",
   "pygments_lexer": "ipython3",
   "version": "3.9.7"
  }
 },
 "nbformat": 4,
 "nbformat_minor": 1
}
