{
 "cells": [
  {
   "cell_type": "code",
   "execution_count": 2,
   "id": "6fbb56e1",
   "metadata": {
    "pycharm": {
     "name": "#%%\n"
    }
   },
   "outputs": [],
   "source": [
    "### 요구사항 1. 알고리즘 3개 정도 - randomforest, decisionTree, LogisticReression\n",
    "###          2. 평가지표? 2진분류입니다 ^^ - accuracy_score, precision_score, recall_score\n",
    "###          3.                              f1_score, confusion_matrix, roc_auc_score\n",
    "\n",
    "# 예 from sklearn.metrics import "
   ]
  },
  {
   "cell_type": "code",
   "execution_count": 3,
   "id": "fee5d7ae",
   "metadata": {
    "pycharm": {
     "name": "#%%\n"
    }
   },
   "outputs": [],
   "source": [
    "### 전처리 :: 문자 (X), 결측치 (X)\n",
    "### target --> outcome \n",
    "\n",
    "\n",
    "### describe 및 info "
   ]
  },
  {
   "cell_type": "markdown",
   "id": "f36c0b94",
   "metadata": {
    "pycharm": {
     "name": "#%% md\n"
    }
   },
   "source": [
    "* Pregnancies: 임신횟수\n",
    "\n",
    "\n",
    "* Glucose: 포도당 부하 검사 수치\n",
    "\n",
    "\n",
    "* BloodPressure: 혈압\n",
    "\n",
    "\n",
    "* SkinThickness: 팔 삼두근 뒤쪽의 피하지방 측정값(mm)\n",
    "\n",
    "\n",
    "* Insulin: 혈청 인슐린\n",
    "\n",
    "\n",
    "* BMI: 체질량지수(체중(kg)/키(m))^2)\n",
    "\n",
    "\n",
    "* DiabetesPedigreeFunction: 당뇨 내력 가중치값\n",
    "\n",
    "\n",
    "* Age: 나이\n",
    "\n",
    "\n",
    "* Outcome: 클래스 결정 값(0또는 1)"
   ]
  },
  {
   "cell_type": "code",
   "execution_count": 4,
   "id": "d5d9d4f0",
   "metadata": {
    "pycharm": {
     "name": "#%%\n"
    }
   },
   "outputs": [],
   "source": [
    "import pandas as pd\n",
    "import numpy as np\n",
    "import matplotlib.pyplot as plt"
   ]
  },
  {
   "cell_type": "code",
   "execution_count": 5,
   "id": "332fc7dc",
   "metadata": {
    "pycharm": {
     "name": "#%%\n"
    }
   },
   "outputs": [],
   "source": [
    "from sklearn.model_selection import train_test_split\n",
    "from sklearn.metrics import *"
   ]
  },
  {
   "cell_type": "code",
   "execution_count": 6,
   "id": "ac9acc95",
   "metadata": {
    "pycharm": {
     "name": "#%%\n"
    }
   },
   "outputs": [],
   "source": [
    "from sklearn.linear_model import LogisticRegression\n",
    "from sklearn.tree import DecisionTreeClassifier\n",
    "from sklearn.ensemble import RandomForestClassifier\n",
    "\n",
    "diabetes_df = pd.read_csv('./diabetes.csv')"
   ]
  },
  {
   "cell_type": "code",
   "execution_count": 7,
   "id": "6b2544a3",
   "metadata": {
    "pycharm": {
     "name": "#%%\n"
    }
   },
   "outputs": [
    {
     "name": "stdout",
     "output_type": "stream",
     "text": [
      "<class 'pandas.core.frame.DataFrame'>\n",
      "RangeIndex: 768 entries, 0 to 767\n",
      "Data columns (total 9 columns):\n",
      " #   Column                    Non-Null Count  Dtype  \n",
      "---  ------                    --------------  -----  \n",
      " 0   Pregnancies               768 non-null    int64  \n",
      " 1   Glucose                   768 non-null    int64  \n",
      " 2   BloodPressure             768 non-null    int64  \n",
      " 3   SkinThickness             768 non-null    int64  \n",
      " 4   Insulin                   768 non-null    int64  \n",
      " 5   BMI                       768 non-null    float64\n",
      " 6   DiabetesPedigreeFunction  768 non-null    float64\n",
      " 7   Age                       768 non-null    int64  \n",
      " 8   Outcome                   768 non-null    int64  \n",
      "dtypes: float64(2), int64(7)\n",
      "memory usage: 54.1 KB\n"
     ]
    }
   ],
   "source": [
    "diabetes_df.info()"
   ]
  },
  {
   "cell_type": "code",
   "execution_count": 8,
   "id": "19ff839e",
   "metadata": {
    "pycharm": {
     "name": "#%%\n"
    }
   },
   "outputs": [
    {
     "data": {
      "text/plain": "       Pregnancies     Glucose  BloodPressure  SkinThickness     Insulin  \\\ncount   768.000000  768.000000     768.000000     768.000000  768.000000   \nmean      3.845052  120.894531      69.105469      20.536458   79.799479   \nstd       3.369578   31.972618      19.355807      15.952218  115.244002   \nmin       0.000000    0.000000       0.000000       0.000000    0.000000   \n25%       1.000000   99.000000      62.000000       0.000000    0.000000   \n50%       3.000000  117.000000      72.000000      23.000000   30.500000   \n75%       6.000000  140.250000      80.000000      32.000000  127.250000   \nmax      17.000000  199.000000     122.000000      99.000000  846.000000   \n\n              BMI  DiabetesPedigreeFunction         Age     Outcome  \ncount  768.000000                768.000000  768.000000  768.000000  \nmean    31.992578                  0.471876   33.240885    0.348958  \nstd      7.884160                  0.331329   11.760232    0.476951  \nmin      0.000000                  0.078000   21.000000    0.000000  \n25%     27.300000                  0.243750   24.000000    0.000000  \n50%     32.000000                  0.372500   29.000000    0.000000  \n75%     36.600000                  0.626250   41.000000    1.000000  \nmax     67.100000                  2.420000   81.000000    1.000000  ",
      "text/html": "<div>\n<style scoped>\n    .dataframe tbody tr th:only-of-type {\n        vertical-align: middle;\n    }\n\n    .dataframe tbody tr th {\n        vertical-align: top;\n    }\n\n    .dataframe thead th {\n        text-align: right;\n    }\n</style>\n<table border=\"1\" class=\"dataframe\">\n  <thead>\n    <tr style=\"text-align: right;\">\n      <th></th>\n      <th>Pregnancies</th>\n      <th>Glucose</th>\n      <th>BloodPressure</th>\n      <th>SkinThickness</th>\n      <th>Insulin</th>\n      <th>BMI</th>\n      <th>DiabetesPedigreeFunction</th>\n      <th>Age</th>\n      <th>Outcome</th>\n    </tr>\n  </thead>\n  <tbody>\n    <tr>\n      <th>count</th>\n      <td>768.000000</td>\n      <td>768.000000</td>\n      <td>768.000000</td>\n      <td>768.000000</td>\n      <td>768.000000</td>\n      <td>768.000000</td>\n      <td>768.000000</td>\n      <td>768.000000</td>\n      <td>768.000000</td>\n    </tr>\n    <tr>\n      <th>mean</th>\n      <td>3.845052</td>\n      <td>120.894531</td>\n      <td>69.105469</td>\n      <td>20.536458</td>\n      <td>79.799479</td>\n      <td>31.992578</td>\n      <td>0.471876</td>\n      <td>33.240885</td>\n      <td>0.348958</td>\n    </tr>\n    <tr>\n      <th>std</th>\n      <td>3.369578</td>\n      <td>31.972618</td>\n      <td>19.355807</td>\n      <td>15.952218</td>\n      <td>115.244002</td>\n      <td>7.884160</td>\n      <td>0.331329</td>\n      <td>11.760232</td>\n      <td>0.476951</td>\n    </tr>\n    <tr>\n      <th>min</th>\n      <td>0.000000</td>\n      <td>0.000000</td>\n      <td>0.000000</td>\n      <td>0.000000</td>\n      <td>0.000000</td>\n      <td>0.000000</td>\n      <td>0.078000</td>\n      <td>21.000000</td>\n      <td>0.000000</td>\n    </tr>\n    <tr>\n      <th>25%</th>\n      <td>1.000000</td>\n      <td>99.000000</td>\n      <td>62.000000</td>\n      <td>0.000000</td>\n      <td>0.000000</td>\n      <td>27.300000</td>\n      <td>0.243750</td>\n      <td>24.000000</td>\n      <td>0.000000</td>\n    </tr>\n    <tr>\n      <th>50%</th>\n      <td>3.000000</td>\n      <td>117.000000</td>\n      <td>72.000000</td>\n      <td>23.000000</td>\n      <td>30.500000</td>\n      <td>32.000000</td>\n      <td>0.372500</td>\n      <td>29.000000</td>\n      <td>0.000000</td>\n    </tr>\n    <tr>\n      <th>75%</th>\n      <td>6.000000</td>\n      <td>140.250000</td>\n      <td>80.000000</td>\n      <td>32.000000</td>\n      <td>127.250000</td>\n      <td>36.600000</td>\n      <td>0.626250</td>\n      <td>41.000000</td>\n      <td>1.000000</td>\n    </tr>\n    <tr>\n      <th>max</th>\n      <td>17.000000</td>\n      <td>199.000000</td>\n      <td>122.000000</td>\n      <td>99.000000</td>\n      <td>846.000000</td>\n      <td>67.100000</td>\n      <td>2.420000</td>\n      <td>81.000000</td>\n      <td>1.000000</td>\n    </tr>\n  </tbody>\n</table>\n</div>"
     },
     "execution_count": 8,
     "metadata": {},
     "output_type": "execute_result"
    }
   ],
   "source": [
    "diabetes_df.describe()"
   ]
  },
  {
   "cell_type": "code",
   "execution_count": 9,
   "id": "6cf5d59c",
   "metadata": {
    "pycharm": {
     "name": "#%%\n"
    }
   },
   "outputs": [
    {
     "data": {
      "text/plain": "0    500\n1    268\nName: Outcome, dtype: int64"
     },
     "execution_count": 9,
     "metadata": {},
     "output_type": "execute_result"
    }
   ],
   "source": [
    "diabetes_df['Outcome'].value_counts()"
   ]
  },
  {
   "cell_type": "code",
   "execution_count": 10,
   "id": "59462c18",
   "metadata": {
    "pycharm": {
     "name": "#%%\n"
    }
   },
   "outputs": [],
   "source": [
    "def get_con_index(y_test,pred):\n",
    "    confusion = confusion_matrix(y_test,pred)\n",
    "    accuracy = accuracy_score(y_test,pred)\n",
    "    p_score = precision_score(y_test,pred)\n",
    "    r_score = recall_score(y_test,pred)\n",
    "    roc_auc = roc_auc_score(y_test,pred)\n",
    "    f1 = f1_score(y_test,pred)\n",
    "    print('혼동행렬 confusion matrix')\n",
    "    print(confusion)\n",
    "    print('accuracy :{0:.4f}, precision: {1:.4f}, recall: {2:.4f}, f1:{3:.4f}, roc_auc:{4:.4f}'.format(accuracy, p_score, r_score, f1, roc_auc))"
   ]
  },
  {
   "cell_type": "code",
   "execution_count": 11,
   "id": "201cb69b",
   "metadata": {
    "pycharm": {
     "name": "#%%\n"
    }
   },
   "outputs": [],
   "source": [
    "y = diabetes_df.Outcome\n",
    "X = diabetes_df.drop(['Outcome'], axis=1)"
   ]
  },
  {
   "cell_type": "code",
   "execution_count": 12,
   "id": "ab13e11f",
   "metadata": {
    "pycharm": {
     "name": "#%%\n"
    }
   },
   "outputs": [
    {
     "name": "stdout",
     "output_type": "stream",
     "text": [
      "## 로지스틱회귀 ##\n",
      "\n",
      "혼동행렬 confusion matrix\n",
      "[[82 18]\n",
      " [27 27]]\n",
      "accuracy :0.7078, precision: 0.6000, recall: 0.5000, f1:0.5455, roc_auc:0.6600\n",
      "\n",
      "## 의사결정나무 ##\n",
      "\n",
      "혼동행렬 confusion matrix\n",
      "[[76 24]\n",
      " [21 33]]\n",
      "accuracy :0.7078, precision: 0.5789, recall: 0.6111, f1:0.5946, roc_auc:0.6856\n",
      "\n",
      "## 랜덤포레스트 ##\n",
      "\n",
      "혼동행렬 confusion matrix\n",
      "[[79 21]\n",
      " [28 26]]\n",
      "accuracy :0.6818, precision: 0.5532, recall: 0.4815, f1:0.5149, roc_auc:0.6357\n"
     ]
    }
   ],
   "source": [
    "import warnings\n",
    "warnings.filterwarnings('ignore')\n",
    "\n",
    "# train_test_split\n",
    "\n",
    "X_train, X_test, y_train, y_test = train_test_split(X,y, test_size=0.2, stratify=y)\n",
    "\n",
    "# fitting 시작\n",
    "\n",
    "# from sklearn.linear_model import LogisticRegression\n",
    "lr_clf = LogisticRegression()\n",
    "lr_clf.fit(X_train,y_train)\n",
    "pred_lr = lr_clf.predict(X_test)\n",
    "print('## 로지스틱회귀 ##\\n')\n",
    "get_con_index(y_test,pred_lr)\n",
    "\n",
    "\n",
    "# from sklearn.tree import DecisionTreeClassifier\n",
    "dt_clf = DecisionTreeClassifier()\n",
    "dt_clf.fit(X_train,y_train)\n",
    "pred_dt = dt_clf.predict(X_test)\n",
    "print('\\n## 의사결정나무 ##\\n')\n",
    "get_con_index(y_test,pred_dt)\n",
    "\n",
    "\n",
    "# from sklearn.ensemble import RandomForestClassifier\n",
    "rf_clf = RandomForestClassifier()\n",
    "rf_clf.fit(X_train,y_train)\n",
    "pred_rf = rf_clf.predict(X_test)\n",
    "\n",
    "print('\\n## 랜덤포레스트 ##\\n')\n",
    "get_con_index(y_test,pred_rf)"
   ]
  },
  {
   "cell_type": "code",
   "execution_count": 13,
   "id": "90db6174",
   "metadata": {
    "pycharm": {
     "name": "#%%\n"
    }
   },
   "outputs": [],
   "source": [
    "# matplotlib의 학습 이후에 코딩을 실습시 확인해주셔요 ^^\n",
    "\n",
    "def p_r_curve_plot(y_test, pred_proba):\n",
    "    # threshold ndarray로 가져와보고 \n",
    "    # 위의 threshold에 따른 정밀도, 재현율의 ndarray를 추출\n",
    "    precisions, recalls, thresholds = precision_recall_curve(y_test, pred_proba)\n",
    "    \n",
    "    # X축 = threshold\n",
    "    # y축은 precision(점선) 및 recall(주황선) 설정\n",
    "    # 각 곡선을 중첩되게 graph화\n",
    "    plt.figure(figsize=(8,6))\n",
    "    threshold_boudary = thresholds.shape[0]\n",
    "    plt.plot(thresholds, precisions[0:threshold_boudary], linestyle='--', label='precison')\n",
    "    plt.plot(thresholds, recalls[0:threshold_boudary], label='recall')\n",
    "    \n",
    "    # threshold 값 x 축의 scale을 0,1으로 scaling\n",
    "    start, end = plt.xlim()\n",
    "    plt.xticks(np.round(np.arange(start,end,0.10),2))\n",
    "    \n",
    "    # X축, y축 label 및 legend 추가\n",
    "    # grid도 추가\n",
    "    plt.xlabel('Threshold_value')\n",
    "    plt.ylabel('Precision and Recall')\n",
    "    plt.legend()\n",
    "    plt.grid()\n",
    "    plt.show() "
   ]
  },
  {
   "cell_type": "code",
   "execution_count": 14,
   "id": "0b45d289",
   "metadata": {
    "pycharm": {
     "name": "#%%\n"
    }
   },
   "outputs": [
    {
     "data": {
      "text/plain": "array([0, 0, 0, 1, 0, 0, 0, 1, 0, 0], dtype=int64)"
     },
     "execution_count": 14,
     "metadata": {},
     "output_type": "execute_result"
    }
   ],
   "source": [
    "lr_clf.predict(X_test)[:10]"
   ]
  },
  {
   "cell_type": "code",
   "execution_count": 15,
   "id": "8c3b1f59",
   "metadata": {
    "pycharm": {
     "name": "#%%\n"
    }
   },
   "outputs": [
    {
     "data": {
      "text/plain": "<Figure size 576x432 with 1 Axes>",
      "image/png": "[encoded data removed]"
     },
     "metadata": {
      "needs_background": "light"
     },
     "output_type": "display_data"
    }
   ],
   "source": [
    "pred_proba = lr_clf.predict_proba(X_test)[:,1]\n",
    "p_r_curve_plot(y_test,pred_proba)"
   ]
  },
  {
   "cell_type": "code",
   "execution_count": 16,
   "id": "bca6dca7",
   "metadata": {
    "pycharm": {
     "name": "#%%\n"
    }
   },
   "outputs": [
    {
     "data": {
      "text/plain": "array([[ 1,  2],\n       [ 3,  4],\n       [ 5,  6],\n       [ 7,  8],\n       [ 9, 10]])"
     },
     "execution_count": 16,
     "metadata": {},
     "output_type": "execute_result"
    }
   ],
   "source": [
    "test_array = np.arange(1,11)\n",
    "test_array.reshape(-1,2)[:,:]"
   ]
  },
  {
   "cell_type": "code",
   "execution_count": 17,
   "id": "ffc5f782",
   "metadata": {
    "pycharm": {
     "name": "#%%\n"
    }
   },
   "outputs": [
    {
     "data": {
      "text/plain": "       Pregnancies     Glucose  BloodPressure  SkinThickness     Insulin  \\\ncount   768.000000  768.000000     768.000000     768.000000  768.000000   \nmean      3.845052  120.894531      69.105469      20.536458   79.799479   \nstd       3.369578   31.972618      19.355807      15.952218  115.244002   \nmin       0.000000    0.000000       0.000000       0.000000    0.000000   \n25%       1.000000   99.000000      62.000000       0.000000    0.000000   \n50%       3.000000  117.000000      72.000000      23.000000   30.500000   \n75%       6.000000  140.250000      80.000000      32.000000  127.250000   \nmax      17.000000  199.000000     122.000000      99.000000  846.000000   \n\n              BMI  DiabetesPedigreeFunction         Age     Outcome  \ncount  768.000000                768.000000  768.000000  768.000000  \nmean    31.992578                  0.471876   33.240885    0.348958  \nstd      7.884160                  0.331329   11.760232    0.476951  \nmin      0.000000                  0.078000   21.000000    0.000000  \n25%     27.300000                  0.243750   24.000000    0.000000  \n50%     32.000000                  0.372500   29.000000    0.000000  \n75%     36.600000                  0.626250   41.000000    1.000000  \nmax     67.100000                  2.420000   81.000000    1.000000  ",
      "text/html": "<div>\n<style scoped>\n    .dataframe tbody tr th:only-of-type {\n        vertical-align: middle;\n    }\n\n    .dataframe tbody tr th {\n        vertical-align: top;\n    }\n\n    .dataframe thead th {\n        text-align: right;\n    }\n</style>\n<table border=\"1\" class=\"dataframe\">\n  <thead>\n    <tr style=\"text-align: right;\">\n      <th></th>\n      <th>Pregnancies</th>\n      <th>Glucose</th>\n      <th>BloodPressure</th>\n      <th>SkinThickness</th>\n      <th>Insulin</th>\n      <th>BMI</th>\n      <th>DiabetesPedigreeFunction</th>\n      <th>Age</th>\n      <th>Outcome</th>\n    </tr>\n  </thead>\n  <tbody>\n    <tr>\n      <th>count</th>\n      <td>768.000000</td>\n      <td>768.000000</td>\n      <td>768.000000</td>\n      <td>768.000000</td>\n      <td>768.000000</td>\n      <td>768.000000</td>\n      <td>768.000000</td>\n      <td>768.000000</td>\n      <td>768.000000</td>\n    </tr>\n    <tr>\n      <th>mean</th>\n      <td>3.845052</td>\n      <td>120.894531</td>\n      <td>69.105469</td>\n      <td>20.536458</td>\n      <td>79.799479</td>\n      <td>31.992578</td>\n      <td>0.471876</td>\n      <td>33.240885</td>\n      <td>0.348958</td>\n    </tr>\n    <tr>\n      <th>std</th>\n      <td>3.369578</td>\n      <td>31.972618</td>\n      <td>19.355807</td>\n      <td>15.952218</td>\n      <td>115.244002</td>\n      <td>7.884160</td>\n      <td>0.331329</td>\n      <td>11.760232</td>\n      <td>0.476951</td>\n    </tr>\n    <tr>\n      <th>min</th>\n      <td>0.000000</td>\n      <td>0.000000</td>\n      <td>0.000000</td>\n      <td>0.000000</td>\n      <td>0.000000</td>\n      <td>0.000000</td>\n      <td>0.078000</td>\n      <td>21.000000</td>\n      <td>0.000000</td>\n    </tr>\n    <tr>\n      <th>25%</th>\n      <td>1.000000</td>\n      <td>99.000000</td>\n      <td>62.000000</td>\n      <td>0.000000</td>\n      <td>0.000000</td>\n      <td>27.300000</td>\n      <td>0.243750</td>\n      <td>24.000000</td>\n      <td>0.000000</td>\n    </tr>\n    <tr>\n      <th>50%</th>\n      <td>3.000000</td>\n      <td>117.000000</td>\n      <td>72.000000</td>\n      <td>23.000000</td>\n      <td>30.500000</td>\n      <td>32.000000</td>\n      <td>0.372500</td>\n      <td>29.000000</td>\n      <td>0.000000</td>\n    </tr>\n    <tr>\n      <th>75%</th>\n      <td>6.000000</td>\n      <td>140.250000</td>\n      <td>80.000000</td>\n      <td>32.000000</td>\n      <td>127.250000</td>\n      <td>36.600000</td>\n      <td>0.626250</td>\n      <td>41.000000</td>\n      <td>1.000000</td>\n    </tr>\n    <tr>\n      <th>max</th>\n      <td>17.000000</td>\n      <td>199.000000</td>\n      <td>122.000000</td>\n      <td>99.000000</td>\n      <td>846.000000</td>\n      <td>67.100000</td>\n      <td>2.420000</td>\n      <td>81.000000</td>\n      <td>1.000000</td>\n    </tr>\n  </tbody>\n</table>\n</div>"
     },
     "execution_count": 17,
     "metadata": {},
     "output_type": "execute_result"
    }
   ],
   "source": [
    "diabetes_df.describe()"
   ]
  },
  {
   "cell_type": "code",
   "execution_count": 18,
   "id": "184f737e",
   "metadata": {
    "pycharm": {
     "name": "#%%\n"
    }
   },
   "outputs": [
    {
     "data": {
      "text/plain": "<Figure size 432x288 with 1 Axes>",
      "image/png": "[encoded data removed]"
     },
     "metadata": {
      "needs_background": "light"
     },
     "output_type": "display_data"
    }
   ],
   "source": [
    "# 혈압에 0이 나온다???\n",
    "\n",
    "plt.hist(diabetes_df.BloodPressure)\n",
    "plt.show()"
   ]
  },
  {
   "cell_type": "code",
   "execution_count": 19,
   "id": "1fadc864",
   "metadata": {
    "pycharm": {
     "name": "#%%\n"
    }
   },
   "outputs": [
    {
     "data": {
      "text/plain": "<Figure size 432x288 with 1 Axes>",
      "image/png": "[encoded data removed]"
     },
     "metadata": {
      "needs_background": "light"
     },
     "output_type": "display_data"
    }
   ],
   "source": [
    "# Glucose에 0이 나온다???\n",
    "\n",
    "plt.hist(diabetes_df.Glucose)\n",
    "plt.show()"
   ]
  },
  {
   "cell_type": "code",
   "execution_count": 20,
   "id": "cd113c0c",
   "metadata": {
    "pycharm": {
     "name": "#%%\n"
    }
   },
   "outputs": [
    {
     "name": "stdout",
     "output_type": "stream",
     "text": [
      "Glucose의 zero의 수는 5, 퍼센트 비율은0.65 %\n",
      "BloodPressure의 zero의 수는 35, 퍼센트 비율은4.56 %\n",
      "SkinThickness의 zero의 수는 227, 퍼센트 비율은29.56 %\n",
      "Insulin의 zero의 수는 374, 퍼센트 비율은48.70 %\n",
      "BMI의 zero의 수는 11, 퍼센트 비율은1.43 %\n"
     ]
    }
   ],
   "source": [
    "# 0값이 있는 비율을 계산하여 확인해보자.\n",
    "# Glucose\tBloodPressure\tSkinThickness\tInsulin\tBMI\n",
    "\n",
    "zero_ftrs = ['Glucose','BloodPressure','SkinThickness','Insulin','BMI']\n",
    "\n",
    "total_cnt = len(diabetes_df)\n",
    "\n",
    "for ftr in zero_ftrs:\n",
    "    z_cnt = diabetes_df[diabetes_df[ftr]==0][ftr].count()\n",
    "    print('{0}의 zero의 수는 {1}, 퍼센트 비율은{2:.2f} %'.format(ftr,z_cnt,(z_cnt/total_cnt)*100))"
   ]
  },
  {
   "cell_type": "code",
   "execution_count": 21,
   "id": "173e670e",
   "metadata": {
    "pycharm": {
     "name": "#%%\n"
    }
   },
   "outputs": [],
   "source": [
    "mean_zero_ftrs = diabetes_df[zero_ftrs].mean()\n",
    "diabetes_df[zero_ftrs] = diabetes_df[zero_ftrs].replace(0,mean_zero_ftrs)"
   ]
  },
  {
   "cell_type": "code",
   "execution_count": 22,
   "id": "3e3bd9f5",
   "metadata": {
    "pycharm": {
     "name": "#%%\n"
    }
   },
   "outputs": [],
   "source": [
    "X_scaled = diabetes_df.drop(['Outcome'], axis=1)\n",
    "y_scaled = diabetes_df['Outcome']"
   ]
  },
  {
   "cell_type": "code",
   "execution_count": 23,
   "id": "3fec317a",
   "metadata": {
    "pycharm": {
     "name": "#%%\n"
    }
   },
   "outputs": [
    {
     "name": "stdout",
     "output_type": "stream",
     "text": [
      "X_train의 shape: (614, 8)\n",
      "X_test의 shape: (154, 8)\n",
      "y_train의 shape: (614,)\n",
      "y_test의 shape: (154,)\n"
     ]
    }
   ],
   "source": [
    "# 스케일링된 데이터를 통해 train_test_split을 함\n",
    "\n",
    "X_train, X_test, y_train, y_test = train_test_split(X_scaled, y_scaled, test_size=0.2, stratify=y_scaled)\n",
    "\n",
    "print('X_train의 shape:', X_train.shape)\n",
    "print('X_test의 shape:', X_test.shape)\n",
    "print('y_train의 shape:', y_train.shape)\n",
    "print('y_test의 shape:', y_test.shape)"
   ]
  },
  {
   "cell_type": "code",
   "execution_count": 24,
   "id": "364867a3",
   "metadata": {
    "pycharm": {
     "name": "#%%\n"
    }
   },
   "outputs": [
    {
     "name": "stdout",
     "output_type": "stream",
     "text": [
      "## 로지스틱회귀 ##\n",
      "\n",
      "혼동행렬 confusion matrix\n",
      "[[84 16]\n",
      " [29 25]]\n",
      "accuracy :0.7078, precision: 0.6098, recall: 0.4630, f1:0.5263, roc_auc:0.6515\n",
      "\n",
      "## 의사결정나무 ##\n",
      "\n",
      "혼동행렬 confusion matrix\n",
      "[[74 26]\n",
      " [28 26]]\n",
      "accuracy :0.6494, precision: 0.5000, recall: 0.4815, f1:0.4906, roc_auc:0.6107\n",
      "\n",
      "## 랜덤포레스트 ##\n",
      "\n",
      "혼동행렬 confusion matrix\n",
      "[[81 19]\n",
      " [25 29]]\n",
      "accuracy :0.7143, precision: 0.6042, recall: 0.5370, f1:0.5686, roc_auc:0.6735\n"
     ]
    }
   ],
   "source": [
    "# fitting 시작\n",
    "\n",
    "# from sklearn.linear_model import LogisticRegression\n",
    "lr_clf = LogisticRegression()\n",
    "lr_clf.fit(X_train,y_train)\n",
    "pred_lr = lr_clf.predict(X_test)\n",
    "print('## 로지스틱회귀 ##\\n')\n",
    "get_con_index(y_test,pred_lr)\n",
    "\n",
    "\n",
    "# from sklearn.tree import DecisionTreeClassifier\n",
    "dt_clf = DecisionTreeClassifier()\n",
    "dt_clf.fit(X_train,y_train)\n",
    "pred_dt = dt_clf.predict(X_test)\n",
    "print('\\n## 의사결정나무 ##\\n')\n",
    "get_con_index(y_test,pred_dt)\n",
    "\n",
    "\n",
    "# from sklearn.ensemble import RandomForestClassifier\n",
    "rf_clf = RandomForestClassifier()\n",
    "rf_clf.fit(X_train,y_train)\n",
    "pred_rf = rf_clf.predict(X_test)\n",
    "\n",
    "print('\\n## 랜덤포레스트 ##\\n')\n",
    "get_con_index(y_test,pred_rf)"
   ]
  },
  {
   "cell_type": "code",
   "execution_count": 27,
   "outputs": [],
   "source": [
    "from sklearn.metrics import accuracy_score as acc_sc\n",
    "from sklearn.metrics import precision_score, recall_score, f1_score, roc_auc_score\n",
    "\n",
    "def get_index(y_test, pred):\n",
    "    accuracy = acc_sc(y_test, pred)\n",
    "    p_score = precision_score(y_test, pred)\n",
    "    r_score = recall_score(y_test, pred)\n",
    "    f_score = f1_score(y_test, pred)\n",
    "    roc_auc = roc_auc_score(y_test, pred)\n",
    "\n",
    "    print('정확도 : {0:.4f}, 정밀도 : {1:.4f}, Recall:{2:.4f}, F1:{3:.4f}, roc:{4: .4f}'.format(accuracy, p_score, r_score, f_score, roc_auc))"
   ],
   "metadata": {
    "collapsed": false,
    "pycharm": {
     "name": "#%%\n"
    }
   }
  },
  {
   "cell_type": "code",
   "execution_count": 28,
   "outputs": [
    {
     "name": "stdout",
     "output_type": "stream",
     "text": [
      "[1]\tvalid_0's binary_logloss: 0.619416\n",
      "Training until validation scores don't improve for 100 rounds\n",
      "[2]\tvalid_0's binary_logloss: 0.597272\n",
      "[3]\tvalid_0's binary_logloss: 0.57997\n",
      "[4]\tvalid_0's binary_logloss: 0.564297\n",
      "[5]\tvalid_0's binary_logloss: 0.552427\n",
      "[6]\tvalid_0's binary_logloss: 0.542707\n",
      "[7]\tvalid_0's binary_logloss: 0.534111\n",
      "[8]\tvalid_0's binary_logloss: 0.530584\n",
      "[9]\tvalid_0's binary_logloss: 0.52819\n",
      "[10]\tvalid_0's binary_logloss: 0.526675\n",
      "[11]\tvalid_0's binary_logloss: 0.528744\n",
      "[12]\tvalid_0's binary_logloss: 0.529392\n",
      "[13]\tvalid_0's binary_logloss: 0.528534\n",
      "[14]\tvalid_0's binary_logloss: 0.533154\n",
      "[15]\tvalid_0's binary_logloss: 0.535076\n",
      "[16]\tvalid_0's binary_logloss: 0.538053\n",
      "[17]\tvalid_0's binary_logloss: 0.541087\n",
      "[18]\tvalid_0's binary_logloss: 0.54324\n",
      "[19]\tvalid_0's binary_logloss: 0.54729\n",
      "[20]\tvalid_0's binary_logloss: 0.544583\n",
      "[21]\tvalid_0's binary_logloss: 0.549537\n",
      "[22]\tvalid_0's binary_logloss: 0.551674\n",
      "[23]\tvalid_0's binary_logloss: 0.555102\n",
      "[24]\tvalid_0's binary_logloss: 0.555298\n",
      "[25]\tvalid_0's binary_logloss: 0.5605\n",
      "[26]\tvalid_0's binary_logloss: 0.567231\n",
      "[27]\tvalid_0's binary_logloss: 0.571448\n",
      "[28]\tvalid_0's binary_logloss: 0.573601\n",
      "[29]\tvalid_0's binary_logloss: 0.577135\n",
      "[30]\tvalid_0's binary_logloss: 0.589188\n",
      "[31]\tvalid_0's binary_logloss: 0.594798\n",
      "[32]\tvalid_0's binary_logloss: 0.596497\n",
      "[33]\tvalid_0's binary_logloss: 0.598231\n",
      "[34]\tvalid_0's binary_logloss: 0.602232\n",
      "[35]\tvalid_0's binary_logloss: 0.60535\n",
      "[36]\tvalid_0's binary_logloss: 0.612693\n",
      "[37]\tvalid_0's binary_logloss: 0.611345\n",
      "[38]\tvalid_0's binary_logloss: 0.615046\n",
      "[39]\tvalid_0's binary_logloss: 0.61803\n",
      "[40]\tvalid_0's binary_logloss: 0.623241\n",
      "[41]\tvalid_0's binary_logloss: 0.622553\n",
      "[42]\tvalid_0's binary_logloss: 0.627045\n",
      "[43]\tvalid_0's binary_logloss: 0.631421\n",
      "[44]\tvalid_0's binary_logloss: 0.638013\n",
      "[45]\tvalid_0's binary_logloss: 0.640542\n",
      "[46]\tvalid_0's binary_logloss: 0.643056\n",
      "[47]\tvalid_0's binary_logloss: 0.645906\n",
      "[48]\tvalid_0's binary_logloss: 0.652092\n",
      "[49]\tvalid_0's binary_logloss: 0.656183\n",
      "[50]\tvalid_0's binary_logloss: 0.661691\n",
      "[51]\tvalid_0's binary_logloss: 0.664897\n",
      "[52]\tvalid_0's binary_logloss: 0.67554\n",
      "[53]\tvalid_0's binary_logloss: 0.680167\n",
      "[54]\tvalid_0's binary_logloss: 0.682139\n",
      "[55]\tvalid_0's binary_logloss: 0.685725\n",
      "[56]\tvalid_0's binary_logloss: 0.693249\n",
      "[57]\tvalid_0's binary_logloss: 0.697074\n",
      "[58]\tvalid_0's binary_logloss: 0.698807\n",
      "[59]\tvalid_0's binary_logloss: 0.704381\n",
      "[60]\tvalid_0's binary_logloss: 0.708692\n",
      "[61]\tvalid_0's binary_logloss: 0.711276\n",
      "[62]\tvalid_0's binary_logloss: 0.712523\n",
      "[63]\tvalid_0's binary_logloss: 0.713392\n",
      "[64]\tvalid_0's binary_logloss: 0.717326\n",
      "[65]\tvalid_0's binary_logloss: 0.719528\n",
      "[66]\tvalid_0's binary_logloss: 0.721826\n",
      "[67]\tvalid_0's binary_logloss: 0.727141\n",
      "[68]\tvalid_0's binary_logloss: 0.731809\n",
      "[69]\tvalid_0's binary_logloss: 0.732413\n",
      "[70]\tvalid_0's binary_logloss: 0.733163\n",
      "[71]\tvalid_0's binary_logloss: 0.734759\n",
      "[72]\tvalid_0's binary_logloss: 0.737863\n",
      "[73]\tvalid_0's binary_logloss: 0.739096\n",
      "[74]\tvalid_0's binary_logloss: 0.741238\n",
      "[75]\tvalid_0's binary_logloss: 0.746088\n",
      "[76]\tvalid_0's binary_logloss: 0.753061\n",
      "[77]\tvalid_0's binary_logloss: 0.7598\n",
      "[78]\tvalid_0's binary_logloss: 0.763563\n",
      "[79]\tvalid_0's binary_logloss: 0.767462\n",
      "[80]\tvalid_0's binary_logloss: 0.772167\n",
      "[81]\tvalid_0's binary_logloss: 0.776909\n",
      "[82]\tvalid_0's binary_logloss: 0.779244\n",
      "[83]\tvalid_0's binary_logloss: 0.787181\n",
      "[84]\tvalid_0's binary_logloss: 0.790303\n",
      "[85]\tvalid_0's binary_logloss: 0.793521\n",
      "[86]\tvalid_0's binary_logloss: 0.797882\n",
      "[87]\tvalid_0's binary_logloss: 0.80034\n",
      "[88]\tvalid_0's binary_logloss: 0.802838\n",
      "[89]\tvalid_0's binary_logloss: 0.80602\n",
      "[90]\tvalid_0's binary_logloss: 0.812794\n",
      "[91]\tvalid_0's binary_logloss: 0.817467\n",
      "[92]\tvalid_0's binary_logloss: 0.826767\n",
      "[93]\tvalid_0's binary_logloss: 0.83291\n",
      "[94]\tvalid_0's binary_logloss: 0.83638\n",
      "[95]\tvalid_0's binary_logloss: 0.842049\n",
      "[96]\tvalid_0's binary_logloss: 0.849101\n",
      "[97]\tvalid_0's binary_logloss: 0.857566\n",
      "[98]\tvalid_0's binary_logloss: 0.860814\n",
      "[99]\tvalid_0's binary_logloss: 0.867605\n",
      "[100]\tvalid_0's binary_logloss: 0.86895\n",
      "[101]\tvalid_0's binary_logloss: 0.874264\n",
      "[102]\tvalid_0's binary_logloss: 0.876291\n",
      "[103]\tvalid_0's binary_logloss: 0.878654\n",
      "[104]\tvalid_0's binary_logloss: 0.882613\n",
      "[105]\tvalid_0's binary_logloss: 0.888714\n",
      "[106]\tvalid_0's binary_logloss: 0.890803\n",
      "[107]\tvalid_0's binary_logloss: 0.892374\n",
      "[108]\tvalid_0's binary_logloss: 0.899316\n",
      "[109]\tvalid_0's binary_logloss: 0.90335\n",
      "[110]\tvalid_0's binary_logloss: 0.90877\n",
      "Early stopping, best iteration is:\n",
      "[10]\tvalid_0's binary_logloss: 0.526675\n"
     ]
    },
    {
     "data": {
      "text/plain": "LGBMClassifier(n_estimators=400)",
      "text/html": "<style>#sk-container-id-2 {color: black;background-color: white;}#sk-container-id-2 pre{padding: 0;}#sk-container-id-2 div.sk-toggleable {background-color: white;}#sk-container-id-2 label.sk-toggleable__label {cursor: pointer;display: block;width: 100%;margin-bottom: 0;padding: 0.3em;box-sizing: border-box;text-align: center;}#sk-container-id-2 label.sk-toggleable__label-arrow:before {content: \"▸\";float: left;margin-right: 0.25em;color: #696969;}#sk-container-id-2 label.sk-toggleable__label-arrow:hover:before {color: black;}#sk-container-id-2 div.sk-estimator:hover label.sk-toggleable__label-arrow:before {color: black;}#sk-container-id-2 div.sk-toggleable__content {max-height: 0;max-width: 0;overflow: hidden;text-align: left;background-color: #f0f8ff;}#sk-container-id-2 div.sk-toggleable__content pre {margin: 0.2em;color: black;border-radius: 0.25em;background-color: #f0f8ff;}#sk-container-id-2 input.sk-toggleable__control:checked~div.sk-toggleable__content {max-height: 200px;max-width: 100%;overflow: auto;}#sk-container-id-2 input.sk-toggleable__control:checked~label.sk-toggleable__label-arrow:before {content: \"▾\";}#sk-container-id-2 div.sk-estimator input.sk-toggleable__control:checked~label.sk-toggleable__label {background-color: #d4ebff;}#sk-container-id-2 div.sk-label input.sk-toggleable__control:checked~label.sk-toggleable__label {background-color: #d4ebff;}#sk-container-id-2 input.sk-hidden--visually {border: 0;clip: rect(1px 1px 1px 1px);clip: rect(1px, 1px, 1px, 1px);height: 1px;margin: -1px;overflow: hidden;padding: 0;position: absolute;width: 1px;}#sk-container-id-2 div.sk-estimator {font-family: monospace;background-color: #f0f8ff;border: 1px dotted black;border-radius: 0.25em;box-sizing: border-box;margin-bottom: 0.5em;}#sk-container-id-2 div.sk-estimator:hover {background-color: #d4ebff;}#sk-container-id-2 div.sk-parallel-item::after {content: \"\";width: 100%;border-bottom: 1px solid gray;flex-grow: 1;}#sk-container-id-2 div.sk-label:hover label.sk-toggleable__label {background-color: #d4ebff;}#sk-container-id-2 div.sk-serial::before {content: \"\";position: absolute;border-left: 1px solid gray;box-sizing: border-box;top: 0;bottom: 0;left: 50%;z-index: 0;}#sk-container-id-2 div.sk-serial {display: flex;flex-direction: column;align-items: center;background-color: white;padding-right: 0.2em;padding-left: 0.2em;position: relative;}#sk-container-id-2 div.sk-item {position: relative;z-index: 1;}#sk-container-id-2 div.sk-parallel {display: flex;align-items: stretch;justify-content: center;background-color: white;position: relative;}#sk-container-id-2 div.sk-item::before, #sk-container-id-2 div.sk-parallel-item::before {content: \"\";position: absolute;border-left: 1px solid gray;box-sizing: border-box;top: 0;bottom: 0;left: 50%;z-index: -1;}#sk-container-id-2 div.sk-parallel-item {display: flex;flex-direction: column;z-index: 1;position: relative;background-color: white;}#sk-container-id-2 div.sk-parallel-item:first-child::after {align-self: flex-end;width: 50%;}#sk-container-id-2 div.sk-parallel-item:last-child::after {align-self: flex-start;width: 50%;}#sk-container-id-2 div.sk-parallel-item:only-child::after {width: 0;}#sk-container-id-2 div.sk-dashed-wrapped {border: 1px dashed gray;margin: 0 0.4em 0.5em 0.4em;box-sizing: border-box;padding-bottom: 0.4em;background-color: white;}#sk-container-id-2 div.sk-label label {font-family: monospace;font-weight: bold;display: inline-block;line-height: 1.2em;}#sk-container-id-2 div.sk-label-container {text-align: center;}#sk-container-id-2 div.sk-container {/* jupyter's `normalize.less` sets `[hidden] { display: none; }` but bootstrap.min.css set `[hidden] { display: none !important; }` so we also need the `!important` here to be able to override the default hidden behavior on the sphinx rendered scikit-learn.org. See: https://github.com/scikit-learn/scikit-learn/issues/21755 */display: inline-block !important;position: relative;}#sk-container-id-2 div.sk-text-repr-fallback {display: none;}</style><div id=\"sk-container-id-2\" class=\"sk-top-container\"><div class=\"sk-text-repr-fallback\"><pre>LGBMClassifier(n_estimators=400)</pre><b>In a Jupyter environment, please rerun this cell to show the HTML representation or trust the notebook. <br />On GitHub, the HTML representation is unable to render, please try loading this page with nbviewer.org.</b></div><div class=\"sk-container\" hidden><div class=\"sk-item\"><div class=\"sk-estimator sk-toggleable\"><input class=\"sk-toggleable__control sk-hidden--visually\" id=\"sk-estimator-id-2\" type=\"checkbox\" checked><label for=\"sk-estimator-id-2\" class=\"sk-toggleable__label sk-toggleable__label-arrow\">LGBMClassifier</label><div class=\"sk-toggleable__content\"><pre>LGBMClassifier(n_estimators=400)</pre></div></div></div></div></div>"
     },
     "execution_count": 28,
     "metadata": {},
     "output_type": "execute_result"
    }
   ],
   "source": [
    "## 새로운 알고리즘인 LightGBM을 사용해본다.\n",
    "from lightgbm import LGBMClassifier\n",
    "\n",
    "# n_estimators=400그루를 설정\n",
    "# 일반적인 알고리즘의 객체화\n",
    "lgbm_wrapper = LGBMClassifier(n_estimators=400)\n",
    "\n",
    "# LightGBM early_stopping_rounds 확인\n",
    "evals = [(X_test, y_test)]\n",
    "\n",
    "## LGBM 학습 및 예측\n",
    "lgbm_wrapper.fit(X_train, y_train, early_stopping_rounds=100, eval_metric='logloss', eval_set=evals,\n",
    "                 verbose=True)\n",
    "# verbose True -> 값 보임, verbose False -> 값 안보임"
   ],
   "metadata": {
    "collapsed": false,
    "pycharm": {
     "name": "#%%\n"
    }
   }
  },
  {
   "cell_type": "code",
   "execution_count": 29,
   "outputs": [
    {
     "name": "stdout",
     "output_type": "stream",
     "text": [
      "정확도 : 0.7208, 정밀도 : 0.6410, Recall:0.4630, F1:0.5376, roc: 0.6615\n"
     ]
    }
   ],
   "source": [
    "pred_lgbm = lgbm_wrapper.predict(X_test)\n",
    "\n",
    "get_index(y_test, pred_lgbm)"
   ],
   "metadata": {
    "collapsed": false,
    "pycharm": {
     "name": "#%%\n"
    }
   }
  },
  {
   "cell_type": "code",
   "execution_count": 26,
   "id": "f3226ab7",
   "metadata": {
    "pycharm": {
     "name": "#%%\n"
    }
   },
   "outputs": [],
   "source": [
    "# end of file"
   ]
  }
 ],
 "metadata": {
  "kernelspec": {
   "display_name": "Python 3 (ipykernel)",
   "language": "python",
   "name": "python3"
  },
  "language_info": {
   "codemirror_mode": {
    "name": "ipython",
    "version": 3
   },
   "file_extension": ".py",
   "mimetype": "text/x-python",
   "name": "python",
   "nbconvert_exporter": "python",
   "pygments_lexer": "ipython3",
   "version": "3.9.7"
  }
 },
 "nbformat": 4,
 "nbformat_minor": 5
}