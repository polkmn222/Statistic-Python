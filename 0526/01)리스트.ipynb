{
 "cells": [
  {
   "cell_type": "code",
   "execution_count": 8,
   "id": "4d7f1b2f",
   "metadata": {},
   "outputs": [],
   "source": [
    "### 리스트 유형\n",
    "l1 = []  # l1_1 = list()\n",
    "l2 = [1, 2, 3]\n",
    "l3 = ['a', 'b', 'c']\n",
    "l4 = [1, 2, 'a', 'b']\n",
    "l5 = [1, 2, ['life', 'is']]"
   ]
  },
  {
   "cell_type": "code",
   "execution_count": 9,
   "id": "d26bd5ed",
   "metadata": {},
   "outputs": [
    {
     "name": "stdout",
     "output_type": "stream",
     "text": [
      "[1, 2, 'a', 'b']\n"
     ]
    },
    {
     "data": {
      "text/plain": [
       "'b'"
      ]
     },
     "execution_count": 9,
     "metadata": {},
     "output_type": "execute_result"
    }
   ],
   "source": [
    "print(l4)\n",
    "l4[-1]"
   ]
  },
  {
   "cell_type": "code",
   "execution_count": 14,
   "id": "92c0e035",
   "metadata": {},
   "outputs": [
    {
     "name": "stdout",
     "output_type": "stream",
     "text": [
      "[1, 2, ['life', 'is']]\n",
      "is\n",
      "is\n"
     ]
    }
   ],
   "source": [
    "print(l5)\n",
    "len(l5)\n",
    "\n",
    "# q1 Life, is에서 is를 가져와주세요...\n",
    "print(l5[2][1])\n",
    "l7 = l5[2]\n",
    "print(l7[1])"
   ]
  },
  {
   "cell_type": "code",
   "execution_count": 11,
   "id": "c8e8d242",
   "metadata": {},
   "outputs": [
    {
     "name": "stdout",
     "output_type": "stream",
     "text": [
      "array는 1차원\n"
     ]
    },
    {
     "name": "stderr",
     "output_type": "stream",
     "text": [
      "C:\\Users\\user\\AppData\\Local\\Temp/ipykernel_10796/2774387426.py:3: VisibleDeprecationWarning: Creating an ndarray from ragged nested sequences (which is a list-or-tuple of lists-or-tuples-or ndarrays with different lengths or shapes) is deprecated. If you meant to do this, you must specify 'dtype=object' when creating the ndarray.\n",
      "  print('array는 {0}차원'.format(np.array([[1, 2,3], [3, 4]]).ndim))\n"
     ]
    }
   ],
   "source": [
    "### 참고\n",
    "import numpy as np\n",
    "print('array는 {0}차원'.format(np.array([[1, 2,3], [3, 4]]).ndim))"
   ]
  },
  {
   "cell_type": "code",
   "execution_count": 16,
   "id": "5e5d1a2a",
   "metadata": {},
   "outputs": [
    {
     "name": "stdout",
     "output_type": "stream",
     "text": [
      "3\n"
     ]
    },
    {
     "data": {
      "text/plain": [
       "'Life'"
      ]
     },
     "execution_count": 16,
     "metadata": {},
     "output_type": "execute_result"
    }
   ],
   "source": [
    "### 참고 - 2 :: 삼중 리스트\n",
    "a = [1, 2, ['a', 'b', ['Life', 'is']]]\n",
    "print(len(a))\n",
    "a[2][2][0]"
   ]
  },
  {
   "cell_type": "markdown",
   "id": "6605df10",
   "metadata": {},
   "source": [
    "# 리스트의 슬라이싱"
   ]
  },
  {
   "cell_type": "code",
   "execution_count": 20,
   "id": "42babf38",
   "metadata": {},
   "outputs": [
    {
     "name": "stdout",
     "output_type": "stream",
     "text": [
      "[1, 2]\n",
      "[1, 2]\n"
     ]
    }
   ],
   "source": [
    "a = [1, 2, 3, 4, 5, 6, 7]\n",
    "print(a[0:2])  # 슬라이싱의 마지막은 n-1 입니다.\n",
    "print(a[:2])"
   ]
  },
  {
   "cell_type": "code",
   "execution_count": 19,
   "id": "10e5b9ad",
   "metadata": {},
   "outputs": [
    {
     "data": {
      "text/plain": [
       "[3, 4, 5, 6, 7]"
      ]
     },
     "execution_count": 19,
     "metadata": {},
     "output_type": "execute_result"
    }
   ],
   "source": [
    "a[2:]"
   ]
  },
  {
   "cell_type": "code",
   "execution_count": 21,
   "id": "43fa98f1",
   "metadata": {},
   "outputs": [],
   "source": [
    "### 참고 - 3 중첩된 리스트에서의 Slicing"
   ]
  },
  {
   "cell_type": "code",
   "execution_count": 24,
   "id": "c1b39a90",
   "metadata": {},
   "outputs": [
    {
     "name": "stdout",
     "output_type": "stream",
     "text": [
      "[1, 2, ['a', 'b', 'c'], 3, 4]\n",
      "[2, ['a', 'b', 'c'], 3, 4]\n",
      "['b', 'c']\n"
     ]
    }
   ],
   "source": [
    "a = [1, 2, ['a', 'b', 'c'], 3, 4]\n",
    "print(a)\n",
    "print(a[1:5])\n",
    "print(a[2][1:])  # 중첩리스트에서도 슬라이싱이 가능!!!"
   ]
  },
  {
   "cell_type": "markdown",
   "id": "93c05e32",
   "metadata": {},
   "source": [
    "# 리스트의 연산하기"
   ]
  },
  {
   "cell_type": "code",
   "execution_count": 26,
   "id": "1fc6f382",
   "metadata": {},
   "outputs": [
    {
     "name": "stdout",
     "output_type": "stream",
     "text": [
      "[1, 2, 3, 4, 5, 6]\n",
      "[4, 5, 6, 1, 2, 3]\n"
     ]
    }
   ],
   "source": [
    "### 리스트 연산 + :: concat\n",
    "a = [1, 2, 3]\n",
    "b = [4, 5, 6]\n",
    "\n",
    "result = a + b\n",
    "print(result)\n",
    "print(b + a)"
   ]
  },
  {
   "cell_type": "code",
   "execution_count": 29,
   "id": "12e3ba26",
   "metadata": {},
   "outputs": [
    {
     "name": "stdout",
     "output_type": "stream",
     "text": [
      "[1, 2, 3, 1, 2, 3, 1, 2, 3, 1, 2, 3]\n",
      "12\n"
     ]
    }
   ],
   "source": [
    "### 리스트 연산 * :: rep\n",
    "print(a * 4)\n",
    "print(len(a * 4))"
   ]
  },
  {
   "cell_type": "code",
   "execution_count": 31,
   "id": "7bc1c8b0",
   "metadata": {},
   "outputs": [
    {
     "name": "stdout",
     "output_type": "stream",
     "text": [
      "2hi\n"
     ]
    }
   ],
   "source": [
    "# q2 아래에서 2와 'hi'를 더해주세요 ^^\n",
    "a = [1, 2, 3]\n",
    "# a[1] + 'hi'  # '2hi'가 안됨...\n",
    "print(str(a[1]) + 'hi') # 숫자를 문자로 변환한 후 concat"
   ]
  },
  {
   "cell_type": "code",
   "execution_count": 32,
   "id": "c03b664e",
   "metadata": {},
   "outputs": [
    {
     "name": "stdout",
     "output_type": "stream",
     "text": [
      "[1, 2]\n"
     ]
    }
   ],
   "source": [
    "a = [1, 2, 3]\n",
    "b = a[:2]\n",
    "print(b)"
   ]
  },
  {
   "cell_type": "markdown",
   "id": "9a22109c",
   "metadata": {},
   "source": [
    "# 리스트의 수정과 삭제"
   ]
  },
  {
   "cell_type": "code",
   "execution_count": 36,
   "id": "792eb931",
   "metadata": {},
   "outputs": [
    {
     "name": "stdout",
     "output_type": "stream",
     "text": [
      "[1, 2, 3]\n",
      "2\n",
      "[1, 100, 3]\n"
     ]
    }
   ],
   "source": [
    "a = [1, 2, 3]  # declare // assign\n",
    "print(a)\n",
    "print(a[1])\n",
    "a[1] = 100\n",
    "print(a)"
   ]
  },
  {
   "cell_type": "code",
   "execution_count": 39,
   "id": "2078eb2e",
   "metadata": {},
   "outputs": [
    {
     "name": "stdout",
     "output_type": "stream",
     "text": [
      "(1, 2, 3)\n",
      "2\n"
     ]
    }
   ],
   "source": [
    "### 참고 -4 :: tuple 및 str\n",
    "## tuple의 예\n",
    "t1 = (1, 2, 3)\n",
    "print(t1)\n",
    "print(t1[1])\n",
    "# t1[1] = 100"
   ]
  },
  {
   "cell_type": "code",
   "execution_count": 40,
   "id": "ba8b6629",
   "metadata": {},
   "outputs": [
    {
     "name": "stdout",
     "output_type": "stream",
     "text": [
      "20220526\n",
      "2\n"
     ]
    }
   ],
   "source": [
    "### 참고 -5 :: tuple 및 str\n",
    "## str의 예\n",
    "str1 = '20220526'\n",
    "print(str1)\n",
    "print(str1[3])\n",
    "# str1[3] = '!'"
   ]
  },
  {
   "cell_type": "code",
   "execution_count": 41,
   "id": "37efa3e2",
   "metadata": {},
   "outputs": [],
   "source": [
    "### 리스트의 값을 삭제\n",
    "a\n",
    "del a[1]  # 위치기반 인덱싱(positional indexing)"
   ]
  },
  {
   "cell_type": "code",
   "execution_count": 42,
   "id": "326257a0",
   "metadata": {},
   "outputs": [
    {
     "name": "stdout",
     "output_type": "stream",
     "text": [
      "[1, 3]\n"
     ]
    }
   ],
   "source": [
    "print(a)"
   ]
  },
  {
   "cell_type": "markdown",
   "id": "5d788e41",
   "metadata": {},
   "source": [
    "# 리스트 관련 함수들"
   ]
  },
  {
   "cell_type": "code",
   "execution_count": 43,
   "id": "5707a9d7",
   "metadata": {},
   "outputs": [
    {
     "data": {
      "text/plain": [
       "[1, 2, 3]"
      ]
     },
     "execution_count": 43,
     "metadata": {},
     "output_type": "execute_result"
    }
   ],
   "source": [
    "a = [1, 2, 3]\n",
    "a"
   ]
  },
  {
   "cell_type": "code",
   "execution_count": 44,
   "id": "e87ca938",
   "metadata": {},
   "outputs": [
    {
     "data": {
      "text/plain": [
       "[1, 2, 3, 10, [100, 1000]]"
      ]
     },
     "execution_count": 44,
     "metadata": {},
     "output_type": "execute_result"
    }
   ],
   "source": [
    "a.append(10)\n",
    "a.append([100, 1000])\n",
    "a"
   ]
  },
  {
   "cell_type": "code",
   "execution_count": 45,
   "id": "e7d341af",
   "metadata": {},
   "outputs": [
    {
     "data": {
      "text/plain": [
       "[1, 2, 3, 200, 2000]"
      ]
     },
     "execution_count": 45,
     "metadata": {},
     "output_type": "execute_result"
    }
   ],
   "source": [
    "### extend의 용례\n",
    "b = [1, 2, 3]\n",
    "b.extend([200, 2000])  # extend는 일반 concat과 동일한 결과\n",
    "b"
   ]
  },
  {
   "cell_type": "code",
   "execution_count": 47,
   "id": "b88127f2",
   "metadata": {},
   "outputs": [
    {
     "name": "stdout",
     "output_type": "stream",
     "text": [
      "['a', 'b', 'c', 'd']\n",
      "[1, 2, 3, 4]\n"
     ]
    }
   ],
   "source": [
    "### 리스트의 정렬(sort)\n",
    "### 순서를 정렬해준다\n",
    "\n",
    "a = ['a', 'c', 'd', 'b']\n",
    "a.sort()\n",
    "print(a)\n",
    "\n",
    "num = [1, 3, 2, 4]\n",
    "num.sort()\n",
    "print(num)"
   ]
  },
  {
   "cell_type": "code",
   "execution_count": 48,
   "id": "d450a317",
   "metadata": {},
   "outputs": [
    {
     "name": "stdout",
     "output_type": "stream",
     "text": [
      "['b', 'c', 'a']\n"
     ]
    }
   ],
   "source": [
    "### 리스트의 순서를 반대로\n",
    "l1 = ['a', 'c', 'b']\n",
    "l1.reverse()\n",
    "print(l1)"
   ]
  },
  {
   "cell_type": "code",
   "execution_count": 50,
   "id": "4df25c25",
   "metadata": {},
   "outputs": [
    {
     "name": "stdout",
     "output_type": "stream",
     "text": [
      "[4, 2, 3, 1]\n",
      "[4, 3, 2, 1]\n"
     ]
    }
   ],
   "source": [
    "### q3. 데이터의 내림차순을 확인\n",
    "l2 = [1, 3, 2, 4]\n",
    "l2.reverse()\n",
    "print(l2)\n",
    "\n",
    "l2 = [1, 3, 2, 4]\n",
    "l2.sort()\n",
    "l2.reverse()\n",
    "print(l2)"
   ]
  },
  {
   "cell_type": "code",
   "execution_count": 51,
   "id": "a025c04e",
   "metadata": {},
   "outputs": [
    {
     "name": "stdout",
     "output_type": "stream",
     "text": [
      "[1, 3]\n",
      "[1]\n"
     ]
    }
   ],
   "source": [
    "### pop :: 리스트 요소 끄집어내기\n",
    "a = [1, 2, 3]\n",
    "a.pop(1) # 2가 나옴\n",
    "print(a)\n",
    "a.pop()  # 3이 나옴\n",
    "print(a)"
   ]
  },
  {
   "cell_type": "markdown",
   "id": "5f2c2eac",
   "metadata": {},
   "source": [
    "# 리스트 관련함수 - 후순위"
   ]
  },
  {
   "cell_type": "code",
   "execution_count": 52,
   "id": "14071e81",
   "metadata": {},
   "outputs": [
    {
     "data": {
      "text/plain": [
       "2"
      ]
     },
     "execution_count": 52,
     "metadata": {},
     "output_type": "execute_result"
    }
   ],
   "source": [
    "### index 활용\n",
    "a = [1, 2, 3]\n",
    "a.index(3) # 3은 2번째 위치에 있어요~\n",
    "# a.index(4) # 존재하지 않은 숫자를 치면 error가 뜹니다."
   ]
  },
  {
   "cell_type": "code",
   "execution_count": 53,
   "id": "330191c4",
   "metadata": {},
   "outputs": [
    {
     "name": "stdout",
     "output_type": "stream",
     "text": [
      "[1, 2, 100, 3]\n"
     ]
    }
   ],
   "source": [
    "### insert\n",
    "l1 = [1, 2, 3]\n",
    "l1.insert(2, 100)\n",
    "print(l1)"
   ]
  },
  {
   "cell_type": "code",
   "execution_count": 54,
   "id": "8fbdbc58",
   "metadata": {},
   "outputs": [
    {
     "name": "stdout",
     "output_type": "stream",
     "text": [
      "[1, 2, 1, 2, 3]\n"
     ]
    }
   ],
   "source": [
    "### 리스트 요소제거(remove)\n",
    "a = [1, 2, 3]\n",
    "a1 = a * 2\n",
    "a1.remove(3)\n",
    "print(a1)"
   ]
  },
  {
   "cell_type": "code",
   "execution_count": 55,
   "id": "a5103af4",
   "metadata": {},
   "outputs": [],
   "source": [
    "# end of file"
   ]
  }
 ],
 "metadata": {
  "kernelspec": {
   "display_name": "Python 3 (ipykernel)",
   "language": "python",
   "name": "python3"
  },
  "language_info": {
   "codemirror_mode": {
    "name": "ipython",
    "version": 3
   },
   "file_extension": ".py",
   "mimetype": "text/x-python",
   "name": "python",
   "nbconvert_exporter": "python",
   "pygments_lexer": "ipython3",
   "version": "3.9.7"
  }
 },
 "nbformat": 4,
 "nbformat_minor": 5
}
