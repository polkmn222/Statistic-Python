{
 "cells": [
  {
   "cell_type": "code",
   "execution_count": 1,
   "id": "6e045ca5",
   "metadata": {},
   "outputs": [],
   "source": [
    "# 리스트\n",
    "l1 = [168, 169, 187]\n",
    "l2 = ['A', 'B', 168]  # (3,)"
   ]
  },
  {
   "cell_type": "code",
   "execution_count": 12,
   "id": "67743881",
   "metadata": {},
   "outputs": [
    {
     "name": "stdout",
     "output_type": "stream",
     "text": [
      "['A', 'B', 168]\n",
      "array1은 1차원\n",
      "array1의 shape: (3,)\n",
      "array1 : ['A' 'B' '168']\n"
     ]
    }
   ],
   "source": [
    "# 넘파이라는 모듈을 호출\n",
    "import numpy as np\n",
    "print(l2)\n",
    "array1 = np.array(l2)\n",
    "\n",
    "print('array1은 {0}차원'.format(array1.ndim))  # ndim -> 차원  (3,)\n",
    "print('array1의 shape:', array1.shape)  # 튜플의 형태로 출력\n",
    "print('array1 :', array1)"
   ]
  },
  {
   "cell_type": "code",
   "execution_count": 13,
   "id": "0c17b318",
   "metadata": {},
   "outputs": [
    {
     "name": "stdout",
     "output_type": "stream",
     "text": [
      "[[1, 2, 3], [11, 22, 33]]\n",
      "[[ 1  2  3]\n",
      " [11 22 33]]\n",
      "array2의 shape: (2, 3)\n",
      "array2은 2차원\n"
     ]
    }
   ],
   "source": [
    "l3 = [[1, 2, 3],\n",
    "      [11, 22, 33]]\n",
    "print(l3)\n",
    "array2 = np.array(l3)\n",
    "print(array2)\n",
    "print('array2의 shape:', array2.shape)  # (2, 3)\n",
    "print('array2은 {0}차원'.format(array2.ndim))"
   ]
  },
  {
   "cell_type": "code",
   "execution_count": 17,
   "id": "72fd3120",
   "metadata": {},
   "outputs": [
    {
     "name": "stdout",
     "output_type": "stream",
     "text": [
      "[[[1, 2, 3]]]\n",
      "[[[1 2 3]]]\n",
      "array3의 shape: (1, 1, 3)\n",
      "array3은 3차원\n"
     ]
    }
   ],
   "source": [
    "l4 = [[[1, 2, 3]]]\n",
    "print(l4)\n",
    "array3 = np.array(l4)\n",
    "print(array3)\n",
    "print('array3의 shape:', array3.shape)  #  (1, 1, 3)\n",
    "print('array3은 {0}차원'.format(array3.ndim))"
   ]
  },
  {
   "cell_type": "code",
   "execution_count": 14,
   "id": "0420ce1a",
   "metadata": {},
   "outputs": [],
   "source": [
    "t1 = ()\n",
    "t2 = (1, 2, 3)\n",
    "t3 = 1, 2, 3\n",
    "t4 = (1, 2, ('a', 'b'))"
   ]
  },
  {
   "cell_type": "code",
   "execution_count": 15,
   "id": "6ab00f2c",
   "metadata": {},
   "outputs": [],
   "source": [
    "# t5 = (,1)\n",
    "t5 = (1,)"
   ]
  },
  {
   "cell_type": "code",
   "execution_count": 18,
   "id": "151300cd",
   "metadata": {},
   "outputs": [
    {
     "name": "stdout",
     "output_type": "stream",
     "text": [
      "[[1, 2, 3], [11, 22]]\n",
      "[list([1, 2, 3]) list([11, 22])]\n",
      "array3의 shape: (2,)\n",
      "array3은 1차원\n"
     ]
    },
    {
     "name": "stderr",
     "output_type": "stream",
     "text": [
      "C:\\Users\\user\\AppData\\Local\\Temp/ipykernel_2756/4072523361.py:5: VisibleDeprecationWarning: Creating an ndarray from ragged nested sequences (which is a list-or-tuple of lists-or-tuples-or ndarrays with different lengths or shapes) is deprecated. If you meant to do this, you must specify 'dtype=object' when creating the ndarray.\n",
      "  array4 = np.array(l5)\n"
     ]
    }
   ],
   "source": [
    "# Q1. 아래의 형태는 어떻게 호출되는가?\n",
    "\n",
    "l5 = [[1, 2, 3], [11, 22]]\n",
    "print(l5)\n",
    "array4 = np.array(l5)\n",
    "print(array4)\n",
    "print('array3의 shape:', array4.shape)  #  (2,)\n",
    "print('array3은 {0}차원'.format(array4.ndim))  # 1차원"
   ]
  },
  {
   "cell_type": "code",
   "execution_count": null,
   "id": "ec8ed51f",
   "metadata": {},
   "outputs": [],
   "source": []
  }
 ],
 "metadata": {
  "kernelspec": {
   "display_name": "Python 3 (ipykernel)",
   "language": "python",
   "name": "python3"
  },
  "language_info": {
   "codemirror_mode": {
    "name": "ipython",
    "version": 3
   },
   "file_extension": ".py",
   "mimetype": "text/x-python",
   "name": "python",
   "nbconvert_exporter": "python",
   "pygments_lexer": "ipython3",
   "version": "3.9.7"
  }
 },
 "nbformat": 4,
 "nbformat_minor": 5
}
