{
 "cells": [
  {
   "cell_type": "markdown",
   "id": "a01f4bc9",
   "metadata": {},
   "source": [
    "# 문자열 생성방법-1"
   ]
  },
  {
   "cell_type": "code",
   "execution_count": 1,
   "id": "2c637bbd",
   "metadata": {},
   "outputs": [
    {
     "data": {
      "text/plain": [
       "'Life is too short, you need python'"
      ]
     },
     "execution_count": 1,
     "metadata": {},
     "output_type": "execute_result"
    }
   ],
   "source": [
    "\"Life is too short, you need python\""
   ]
  },
  {
   "cell_type": "code",
   "execution_count": 2,
   "id": "0063ef1e",
   "metadata": {},
   "outputs": [
    {
     "data": {
      "text/plain": [
       "'Hello world'"
      ]
     },
     "execution_count": 2,
     "metadata": {},
     "output_type": "execute_result"
    }
   ],
   "source": [
    "# 1. 큰따옴표\n",
    "\"Hello world\""
   ]
  },
  {
   "cell_type": "code",
   "execution_count": 3,
   "id": "ea447121",
   "metadata": {},
   "outputs": [
    {
     "data": {
      "text/plain": [
       "'python is interesting'"
      ]
     },
     "execution_count": 3,
     "metadata": {},
     "output_type": "execute_result"
    }
   ],
   "source": [
    "# 2. 작은 따옴표\n",
    "'python is interesting'"
   ]
  },
  {
   "cell_type": "code",
   "execution_count": 4,
   "id": "51730111",
   "metadata": {},
   "outputs": [
    {
     "data": {
      "text/plain": [
       "'Life is too short, you need python'"
      ]
     },
     "execution_count": 4,
     "metadata": {},
     "output_type": "execute_result"
    }
   ],
   "source": [
    "# 3. 큰따옴표 3개를 넣는 방법\n",
    "\"\"\"Life is too short, you need python\"\"\""
   ]
  },
  {
   "cell_type": "code",
   "execution_count": 5,
   "id": "5536c399",
   "metadata": {},
   "outputs": [
    {
     "data": {
      "text/plain": [
       "'Life is too short, you need python'"
      ]
     },
     "execution_count": 5,
     "metadata": {},
     "output_type": "execute_result"
    }
   ],
   "source": [
    "# 4. 작은따옴표 3개를 넣는 방법\n",
    "'''Life is too short, you need python'''"
   ]
  },
  {
   "cell_type": "markdown",
   "id": "6ae6b415",
   "metadata": {},
   "source": [
    "## Mulit-line 을 만들고자 할 때"
   ]
  },
  {
   "cell_type": "code",
   "execution_count": 7,
   "id": "93525854",
   "metadata": {},
   "outputs": [
    {
     "name": "stdout",
     "output_type": "stream",
     "text": [
      "Life is too short,\n",
      "you need python\n"
     ]
    }
   ],
   "source": [
    "# 1. \\n (Escape 코드) 이스케이프 코드\n",
    "multi = \"Life is too short,\\nyou need python\"\n",
    "print(multi)"
   ]
  },
  {
   "cell_type": "code",
   "execution_count": 10,
   "id": "f2b583fb",
   "metadata": {},
   "outputs": [
    {
     "name": "stdout",
     "output_type": "stream",
     "text": [
      "Life is to short,\n",
      "you need python.\n",
      "\n",
      "Life is to short,\n",
      "you need python.\n",
      "\n"
     ]
    }
   ],
   "source": [
    "# 2. 작은 따옴표 3개\n",
    "\n",
    "multi2 = '''Life is to short,\n",
    "you need python.\n",
    "'''\n",
    "print(multi2)\n",
    "\n",
    "# 3. 큰 따옴표 3개\n",
    "multi3 = \"\"\"Life is to short,\n",
    "you need python.\n",
    "\"\"\"\n",
    "print(multi3)"
   ]
  },
  {
   "cell_type": "markdown",
   "id": "a0693c0f",
   "metadata": {},
   "source": [
    "# concatenation :: 덧셈"
   ]
  },
  {
   "cell_type": "code",
   "execution_count": 11,
   "id": "b6eda28b",
   "metadata": {},
   "outputs": [
    {
     "data": {
      "text/plain": [
       "'you need python'"
      ]
     },
     "execution_count": 11,
     "metadata": {},
     "output_type": "execute_result"
    }
   ],
   "source": [
    "head = 'you need'\n",
    "tail = ' python'\n",
    "head + tail"
   ]
  },
  {
   "cell_type": "code",
   "execution_count": 12,
   "id": "f8973206",
   "metadata": {},
   "outputs": [
    {
     "data": {
      "text/plain": [
       "[1, 2, 3, 4, 5, 6]"
      ]
     },
     "execution_count": 12,
     "metadata": {},
     "output_type": "execute_result"
    }
   ],
   "source": [
    "a = [1, 2, 3]\n",
    "b = [4, 5, 6]\n",
    "a + b"
   ]
  },
  {
   "cell_type": "code",
   "execution_count": 14,
   "id": "8c6ba788",
   "metadata": {},
   "outputs": [
    {
     "name": "stdout",
     "output_type": "stream",
     "text": [
      "[5 7 9]\n",
      "[5, 7, 9]\n"
     ]
    }
   ],
   "source": [
    "import numpy as np  # 별칭(alias)\n",
    "\n",
    "a_1 = np.array(a)\n",
    "b_1 = np.array(b)\n",
    "\n",
    "print(a_1 + b_1) # array(배열)\n",
    "c = [a + b for a, b in zip(a, b)]\n",
    "print(c)"
   ]
  },
  {
   "cell_type": "code",
   "execution_count": 16,
   "id": "d353325e",
   "metadata": {},
   "outputs": [
    {
     "name": "stdout",
     "output_type": "stream",
     "text": [
      "python python \n"
     ]
    }
   ],
   "source": [
    "## 문자열의 곱하기\n",
    "b = 'python '\n",
    "answer = b * 2\n",
    "print(answer)"
   ]
  },
  {
   "cell_type": "code",
   "execution_count": 17,
   "id": "2fcab1c5",
   "metadata": {},
   "outputs": [
    {
     "name": "stdout",
     "output_type": "stream",
     "text": [
      "------------------------------\n",
      "test\n",
      "------------------------------\n"
     ]
    }
   ],
   "source": [
    "# 문자열 곱하기\n",
    "print('-' * 30)\n",
    "print('test')\n",
    "print('-' * 30)"
   ]
  },
  {
   "cell_type": "code",
   "execution_count": 18,
   "id": "962a02e4",
   "metadata": {},
   "outputs": [
    {
     "data": {
      "text/plain": [
       "34"
      ]
     },
     "execution_count": 18,
     "metadata": {},
     "output_type": "execute_result"
    }
   ],
   "source": [
    "# 문자열의 길이구하기\n",
    "x = 'Life is too short, you need python'\n",
    "len(x)"
   ]
  },
  {
   "cell_type": "markdown",
   "id": "16ec778a",
   "metadata": {},
   "source": [
    "## 문자열 인덱싱과 슬라이싱"
   ]
  },
  {
   "cell_type": "code",
   "execution_count": 21,
   "id": "08b820cc",
   "metadata": {},
   "outputs": [
    {
     "name": "stdout",
     "output_type": "stream",
     "text": [
      "Life is too short, you need python\n"
     ]
    },
    {
     "data": {
      "text/plain": [
       "'L'"
      ]
     },
     "execution_count": 21,
     "metadata": {},
     "output_type": "execute_result"
    }
   ],
   "source": [
    "print(x)\n",
    "x[-1]"
   ]
  },
  {
   "cell_type": "code",
   "execution_count": 22,
   "id": "81d0a108",
   "metadata": {},
   "outputs": [
    {
     "data": {
      "text/plain": [
       "'L'"
      ]
     },
     "execution_count": 22,
     "metadata": {},
     "output_type": "execute_result"
    }
   ],
   "source": [
    "x[-0]"
   ]
  },
  {
   "cell_type": "code",
   "execution_count": 23,
   "id": "941b8e38",
   "metadata": {},
   "outputs": [
    {
     "name": "stdout",
     "output_type": "stream",
     "text": [
      "2022\n",
      "0525\n",
      "sunny\n"
     ]
    }
   ],
   "source": [
    "# 슬라이싱으로 문자열 나누기\n",
    "date = '20220525sunny'\n",
    "year = date[0:4]\n",
    "print(year)\n",
    "day = date[4:8]\n",
    "print(day)\n",
    "weather = date[8:]\n",
    "print(weather)"
   ]
  },
  {
   "cell_type": "code",
   "execution_count": 25,
   "id": "b3215b9c",
   "metadata": {},
   "outputs": [
    {
     "name": "stdout",
     "output_type": "stream",
     "text": [
      "i\n",
      "python\n"
     ]
    }
   ],
   "source": [
    "# 참고사항\n",
    "a = 'pithon'\n",
    "# a[1] = 'y'\n",
    "print(a[1])\n",
    "result = a[:1]+'y'+a[2:]\n",
    "print(result)"
   ]
  },
  {
   "cell_type": "markdown",
   "id": "6eed995a",
   "metadata": {},
   "source": [
    "# 문자열 포메팅"
   ]
  },
  {
   "cell_type": "code",
   "execution_count": 26,
   "id": "7a0f034e",
   "metadata": {},
   "outputs": [
    {
     "data": {
      "text/plain": [
       "'현재온도는 16도 입니다'"
      ]
     },
     "execution_count": 26,
     "metadata": {},
     "output_type": "execute_result"
    }
   ],
   "source": [
    "\"현재온도는 26도 입니다.\"\n",
    "\"현재온도는 16도 입니다\""
   ]
  },
  {
   "cell_type": "markdown",
   "id": "c3b466b7",
   "metadata": {},
   "source": [
    "### % 연산자를 통한 숫자 바로 대입"
   ]
  },
  {
   "cell_type": "code",
   "execution_count": 28,
   "id": "dbdad78b",
   "metadata": {},
   "outputs": [
    {
     "data": {
      "text/plain": [
       "'현재온도는 26도 입니다.'"
      ]
     },
     "execution_count": 28,
     "metadata": {},
     "output_type": "execute_result"
    }
   ],
   "source": [
    "# 숫자를 바로 대입하는 방법\n",
    "\"현재온도는 %d도 입니다.\" % 26  # decimal 십진수"
   ]
  },
  {
   "cell_type": "code",
   "execution_count": 29,
   "id": "6ff1d246",
   "metadata": {},
   "outputs": [
    {
     "data": {
      "text/plain": [
       "'현재온도는 26도 입니다.'"
      ]
     },
     "execution_count": 29,
     "metadata": {},
     "output_type": "execute_result"
    }
   ],
   "source": [
    "# 숫자를 바로 대입하는 방법\n",
    "\"현재온도는 %s도 입니다.\" % 26  # s는 str"
   ]
  },
  {
   "cell_type": "code",
   "execution_count": 30,
   "id": "405694c8",
   "metadata": {},
   "outputs": [
    {
     "data": {
      "text/plain": [
       "'I eat 3 pythons'"
      ]
     },
     "execution_count": 30,
     "metadata": {},
     "output_type": "execute_result"
    }
   ],
   "source": [
    "# 숫자 값을 변수로 대입하여서 적용\n",
    "num = 3\n",
    "\"I eat %d pythons\" % num"
   ]
  },
  {
   "cell_type": "code",
   "execution_count": 31,
   "id": "736c48d3",
   "metadata": {},
   "outputs": [
    {
     "data": {
      "text/plain": [
       "'I ate 10 pythons so I was sick for five days'"
      ]
     },
     "execution_count": 31,
     "metadata": {},
     "output_type": "execute_result"
    }
   ],
   "source": [
    "# 2개 이상의 값을 넣기\n",
    "num = 10\n",
    "day = 'five'\n",
    "\"I ate %d pythons so I was sick for %s days\" % (num, day)"
   ]
  },
  {
   "cell_type": "markdown",
   "id": "566411d5",
   "metadata": {},
   "source": [
    "## 문자열 포멧 코드"
   ]
  },
  {
   "cell_type": "code",
   "execution_count": 33,
   "id": "90d77619",
   "metadata": {},
   "outputs": [
    {
     "data": {
      "text/plain": [
       "'Accuracy is 95%'"
      ]
     },
     "execution_count": 33,
     "metadata": {},
     "output_type": "execute_result"
    }
   ],
   "source": [
    "## 참고사항 %%\n",
    "\"Accuracy is %d%%\" % 95"
   ]
  },
  {
   "cell_type": "markdown",
   "id": "6780a090",
   "metadata": {},
   "source": [
    "# 포멧코드와 숫자를 통한 정렬"
   ]
  },
  {
   "cell_type": "code",
   "execution_count": 34,
   "id": "5dcf8192",
   "metadata": {},
   "outputs": [
    {
     "name": "stdout",
     "output_type": "stream",
     "text": [
      "   bigdata\n",
      "bigdata   \n"
     ]
    }
   ],
   "source": [
    "# 1. 정렬과 공백\n",
    "print(\"%10s\" % 'bigdata')  # 오른쪽정렬\n",
    "print(\"%-10s\" % 'bigdata') # 왼쪽정렬"
   ]
  },
  {
   "cell_type": "code",
   "execution_count": 38,
   "id": "2671d6c2",
   "metadata": {},
   "outputs": [
    {
     "name": "stdout",
     "output_type": "stream",
     "text": [
      "3.141592\n",
      "3.1415921235\n",
      "3.14\n",
      "      3.14\n"
     ]
    }
   ],
   "source": [
    "# 2. 소수점 표현하기\n",
    "print('%f' % 3.14159212345678)\n",
    "print('%0.10f' % 3.14159212345678)\n",
    "print('%.2f' % 3.14159212345678)\n",
    "print('%10.2f' % 3.14159212345678)"
   ]
  },
  {
   "cell_type": "markdown",
   "id": "d8a53fea",
   "metadata": {},
   "source": [
    "## format 함수를 활용한 포매팅"
   ]
  },
  {
   "cell_type": "code",
   "execution_count": 39,
   "id": "4044a344",
   "metadata": {},
   "outputs": [
    {
     "data": {
      "text/plain": [
       "'I eat 3 pythons'"
      ]
     },
     "execution_count": 39,
     "metadata": {},
     "output_type": "execute_result"
    }
   ],
   "source": [
    "# 숫자 바로 대입하기\n",
    "\"I eat {0} pythons\".format(3) "
   ]
  },
  {
   "cell_type": "code",
   "execution_count": 40,
   "id": "341a6a47",
   "metadata": {},
   "outputs": [
    {
     "data": {
      "text/plain": [
       "'I eat five pythons'"
      ]
     },
     "execution_count": 40,
     "metadata": {},
     "output_type": "execute_result"
    }
   ],
   "source": [
    "# 문자열 바로 대입하기\n",
    "\"I eat {0} pythons\".format('five') "
   ]
  },
  {
   "cell_type": "code",
   "execution_count": 41,
   "id": "13867a93",
   "metadata": {},
   "outputs": [
    {
     "data": {
      "text/plain": [
       "'I eat 3 pythons'"
      ]
     },
     "execution_count": 41,
     "metadata": {},
     "output_type": "execute_result"
    }
   ],
   "source": [
    "# 숫자 값을 가진 변수로 대입하기\n",
    "num1 = 3\n",
    "\"I eat {0} pythons\".format(num1)"
   ]
  },
  {
   "cell_type": "code",
   "execution_count": 42,
   "id": "1354d90c",
   "metadata": {},
   "outputs": [
    {
     "data": {
      "text/plain": [
       "'I ate 3 pythons so I was sick for sixdays'"
      ]
     },
     "execution_count": 42,
     "metadata": {},
     "output_type": "execute_result"
    }
   ],
   "source": [
    "# 숫자 값을 가진 변수로 대입하기\n",
    "num1 = 3\n",
    "day1 = 'six'\n",
    "\"I ate {0} pythons so I was sick for {1} days\".format(num1, day1)"
   ]
  },
  {
   "cell_type": "code",
   "execution_count": 43,
   "id": "2f5a3f1f",
   "metadata": {},
   "outputs": [
    {
     "name": "stdout",
     "output_type": "stream",
     "text": [
      "[ 1  2  3  4  5  6  7  8  9 10]\n"
     ]
    },
    {
     "data": {
      "text/plain": [
       "array([[ 1,  2,  3,  4,  5],\n",
       "       [ 6,  7,  8,  9, 10]])"
      ]
     },
     "execution_count": 43,
     "metadata": {},
     "output_type": "execute_result"
    }
   ],
   "source": [
    "import numpy as np\n",
    "array1 = np.arange(1, 11)\n",
    "print(array1)\n",
    "array1.reshape(2, -1)"
   ]
  },
  {
   "cell_type": "code",
   "execution_count": 46,
   "id": "36c7dac5",
   "metadata": {},
   "outputs": [
    {
     "name": "stdout",
     "output_type": "stream",
     "text": [
      "hi        \n",
      "        hi\n",
      "    hi    \n"
     ]
    }
   ],
   "source": [
    "# format 함수를 통한 정렬\n",
    "# 왼쪽 정렬\n",
    "print('{0:<10}'.format('hi'))\n",
    "# 오른쪽 정렬\n",
    "print('{0:>10}'.format('hi'))\n",
    "# 가운데 정렬\n",
    "print('{0:^10}'.format('hi'))"
   ]
  },
  {
   "cell_type": "code",
   "execution_count": 47,
   "id": "255eb0b5",
   "metadata": {},
   "outputs": [
    {
     "name": "stdout",
     "output_type": "stream",
     "text": [
      "님 나 아심?????????\n",
      "????????hi\n"
     ]
    }
   ],
   "source": [
    "# 왼쪽정렬(공백채우기)\n",
    "print('{0:?<15}'.format('님 나 아심'))\n",
    "# 오른쪽정렬(공백채우기)\n",
    "print('{0:?>10}'.format('hi'))"
   ]
  },
  {
   "cell_type": "code",
   "execution_count": 48,
   "id": "252bf53e",
   "metadata": {},
   "outputs": [
    {
     "name": "stdout",
     "output_type": "stream",
     "text": [
      "3.1416\n",
      "3.1416\n",
      "    3.1416\n"
     ]
    }
   ],
   "source": [
    "## 포멧 함수를 통한 소수점 표현\n",
    "y = 3.141592123456789\n",
    "\n",
    "print('{0:0.4f}'.format(y))  # 원칙 {0:0.4f}\n",
    "print('{0:.4f}'.format(y))  # 실무 {0:.4f}\n",
    "\n",
    "# 오른쪽 정렬을 통한 formatting\n",
    "print('{0:10.4f}'.format(y))"
   ]
  },
  {
   "cell_type": "markdown",
   "id": "ebd351d7",
   "metadata": {},
   "source": [
    "## 문자열 포매팅\n",
    "파이썬 3.6버전부터는 f문자열 포매팅 기능을 사용할 수 있다.\n",
    "(3.6미만 버전에서는 사용할 수 없는 기능이다.)"
   ]
  },
  {
   "cell_type": "code",
   "execution_count": 50,
   "id": "e0ecbbd7",
   "metadata": {},
   "outputs": [
    {
     "name": "stdout",
     "output_type": "stream",
     "text": [
      "제 이름은 psy입니다. 나이는 31입니다.\n",
      "제 이름은 psy입니다. 나이는 31입니다.\n"
     ]
    }
   ],
   "source": [
    "name = 'psy'\n",
    "age = 31\n",
    "# format 함수를 통해 활용\n",
    "print('제 이름은 {name}입니다. 나이는 {age}입니다.'.format(name='psy', age=31))\n",
    "\n",
    "# f포매팅 함수를 통해 활용\n",
    "print(f'제 이름은 {name}입니다. 나이는 {age}입니다.')"
   ]
  },
  {
   "cell_type": "code",
   "execution_count": 51,
   "id": "9d93402f",
   "metadata": {},
   "outputs": [
    {
     "name": "stdout",
     "output_type": "stream",
     "text": [
      "나는 내년이면 30살이 됩니다.\n"
     ]
    }
   ],
   "source": [
    "# f 포매팅 변칙\n",
    "age = 29\n",
    "print(f'나는 내년이면 {age+1}살이 됩니다.')"
   ]
  },
  {
   "cell_type": "code",
   "execution_count": 55,
   "id": "36259aca",
   "metadata": {},
   "outputs": [
    {
     "name": "stdout",
     "output_type": "stream",
     "text": [
      "제 이름은 psy입니다. 나이는 31입니다.\n"
     ]
    }
   ],
   "source": [
    "# f 포매팅을 dict로 표현해보기\n",
    "dict1 = {'name':'psy', 'age':31}\n",
    "print(f'제 이름은 {dict1[\"name\"]}입니다. 나이는 {dict1[\"age\"]}입니다.')"
   ]
  },
  {
   "cell_type": "code",
   "execution_count": 59,
   "id": "9810fa50",
   "metadata": {},
   "outputs": [
    {
     "name": "stdout",
     "output_type": "stream",
     "text": [
      "hi!!!!!!!!\n",
      "!!!!!!!!hi\n",
      "!!!!hi!!!!\n"
     ]
    }
   ],
   "source": [
    "# 정렬의 방식\n",
    "print(f'{\"hi\":!<10}')  # 왼쪽 정렬\n",
    "print(f'{\"hi\":!>10}')  # 오른쪽 정렬\n",
    "print(f'{\"hi\":!^10}')  # 가운데 정렬"
   ]
  },
  {
   "cell_type": "markdown",
   "id": "6715ade8",
   "metadata": {},
   "source": [
    "### 문자열 관련함수 우선순위1"
   ]
  },
  {
   "cell_type": "code",
   "execution_count": 60,
   "id": "4ee8bd66",
   "metadata": {},
   "outputs": [
    {
     "name": "stdout",
     "output_type": "stream",
     "text": [
      "['Life', 'is', 'too', 'short']\n"
     ]
    }
   ],
   "source": [
    "### Split 함수\n",
    "a = 'Life is too short'  # 한 덩어리의 str\n",
    "print(a.split())"
   ]
  },
  {
   "cell_type": "code",
   "execution_count": 61,
   "id": "aa764b92",
   "metadata": {},
   "outputs": [
    {
     "name": "stdout",
     "output_type": "stream",
     "text": [
      "['a', 'b', 'c', 'd']\n"
     ]
    }
   ],
   "source": [
    "### Split 함수 -2\n",
    "b = 'a!b!c!d'\n",
    "print(b.split('!'))"
   ]
  },
  {
   "cell_type": "code",
   "execution_count": 64,
   "id": "8d0464f8",
   "metadata": {},
   "outputs": [
    {
     "name": "stdout",
     "output_type": "stream",
     "text": [
      "Life is too short\n",
      "My height is too short\n"
     ]
    }
   ],
   "source": [
    "# replace 함수\n",
    "a = 'Life is too short'\n",
    "a.replace('Life', 'My height')\n",
    "print(a)\n",
    "print(a.replace('Life', 'My height'))"
   ]
  },
  {
   "cell_type": "code",
   "execution_count": 66,
   "id": "e757318b",
   "metadata": {
    "scrolled": true
   },
   "outputs": [
    {
     "name": "stdout",
     "output_type": "stream",
     "text": [
      "a.b.c.d\n"
     ]
    }
   ],
   "source": [
    "# join 함수\n",
    "test = 'abcd'\n",
    "print('.'.join(test))"
   ]
  },
  {
   "cell_type": "markdown",
   "id": "821886f4",
   "metadata": {},
   "source": [
    "### 문자열 관련함수 우선순위2"
   ]
  },
  {
   "cell_type": "code",
   "execution_count": 67,
   "id": "2c7fe57e",
   "metadata": {},
   "outputs": [
    {
     "name": "stdout",
     "output_type": "stream",
     "text": [
      "2\n"
     ]
    }
   ],
   "source": [
    "# 문자 개수 세기(count)\n",
    "a = 'happy'\n",
    "print(a.count('p'))"
   ]
  },
  {
   "cell_type": "code",
   "execution_count": 68,
   "id": "60d021c2",
   "metadata": {},
   "outputs": [
    {
     "name": "stdout",
     "output_type": "stream",
     "text": [
      "16\n",
      "-1\n"
     ]
    }
   ],
   "source": [
    "# 위치 알려주기1(find)\n",
    "a = 'Big Data is the best choice'\n",
    "print(a.find('b'))\n",
    "print(a.find('k'))"
   ]
  },
  {
   "cell_type": "code",
   "execution_count": 70,
   "id": "aed254e4",
   "metadata": {},
   "outputs": [
    {
     "name": "stdout",
     "output_type": "stream",
     "text": [
      "16\n"
     ]
    }
   ],
   "source": [
    "# 위치 알려주기2(index)\n",
    "a = 'Big Data is the best choice'\n",
    "print(a.index('b'))\n",
    "# print(a.index('k')) error"
   ]
  },
  {
   "cell_type": "markdown",
   "id": "79cbeb07",
   "metadata": {},
   "source": [
    "## 문자열 관련함수 우선순위3"
   ]
  },
  {
   "cell_type": "code",
   "execution_count": 72,
   "id": "f24ca7ab",
   "metadata": {},
   "outputs": [
    {
     "name": "stdout",
     "output_type": "stream",
     "text": [
      "HELLO\n",
      "hello\n"
     ]
    }
   ],
   "source": [
    "a = 'Hello'\n",
    "# 소문자 -> 대문자\n",
    "print(a.upper())\n",
    "# 대문자 -> 소문자\n",
    "print(a.lower())"
   ]
  },
  {
   "cell_type": "code",
   "execution_count": 73,
   "id": "35348f44",
   "metadata": {},
   "outputs": [],
   "source": [
    "# end of file"
   ]
  }
 ],
 "metadata": {
  "kernelspec": {
   "display_name": "Python 3 (ipykernel)",
   "language": "python",
   "name": "python3"
  },
  "language_info": {
   "codemirror_mode": {
    "name": "ipython",
    "version": 3
   },
   "file_extension": ".py",
   "mimetype": "text/x-python",
   "name": "python",
   "nbconvert_exporter": "python",
   "pygments_lexer": "ipython3",
   "version": "3.9.7"
  }
 },
 "nbformat": 4,
 "nbformat_minor": 5
}
